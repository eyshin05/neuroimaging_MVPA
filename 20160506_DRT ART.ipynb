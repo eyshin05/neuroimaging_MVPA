{
 "metadata": {
  "name": "",
  "signature": "sha256:aa75989bfd0cfc732fe170248724ca9ee9fa8a347f50906937657610b7b00f7d"
 },
 "nbformat": 3,
 "nbformat_minor": 0,
 "worksheets": [
  {
   "cells": [
    {
     "cell_type": "code",
     "collapsed": false,
     "input": [
      "#import mvpa2, mvpa2.datasets.mri\n",
      "import os\n",
      "import glob\n",
      "from mvpa2.suite import *"
     ],
     "language": "python",
     "metadata": {},
     "outputs": [],
     "prompt_number": 1
    },
    {
     "cell_type": "code",
     "collapsed": false,
     "input": [
      "path_LA = os.path.join('/home', 'brain', 'Desktop', 'LAstudy')\n",
      "path_LA"
     ],
     "language": "python",
     "metadata": {},
     "outputs": [
      {
       "metadata": {},
       "output_type": "pyout",
       "prompt_number": 2,
       "text": [
        "'/home/brain/Desktop/LAstudy'"
       ]
      }
     ],
     "prompt_number": 2
    },
    {
     "cell_type": "code",
     "collapsed": false,
     "input": [
      "dhandle = OpenFMRIDataset(path_LA)\n",
      "dhandle.get_subj_ids()"
     ],
     "language": "python",
     "metadata": {},
     "outputs": [
      {
       "metadata": {},
       "output_type": "pyout",
       "prompt_number": 42,
       "text": [
        "[1, 2, 4, 5, 6, 7, 8, 9, 10, 11, 12, 13, 14, 15, 16, 18, 19, 22, 23]"
       ]
      }
     ],
     "prompt_number": 42
    },
    {
     "cell_type": "code",
     "collapsed": false,
     "input": [
      "print dhandle.get_task_descriptions()\n",
      "print dhandle.get_scan_properties()\n",
      "print dhandle.get_bold_run_ids(1, 1)\n",
      "dhandle.get_task_bold_run_ids(1)"
     ],
     "language": "python",
     "metadata": {},
     "outputs": [
      {
       "output_type": "stream",
       "stream": "stdout",
       "text": [
        "{1: 'mixed gamble task'}\n",
        "{'TR': '2'}\n",
        "[1, 2, 3]\n"
       ]
      },
      {
       "metadata": {},
       "output_type": "pyout",
       "prompt_number": 43,
       "text": [
        "{1: [1, 2, 3],\n",
        " 2: [1, 2, 3],\n",
        " 4: [1, 2, 3],\n",
        " 5: [1, 2, 3],\n",
        " 6: [1, 2, 3],\n",
        " 7: [1, 2, 3],\n",
        " 8: [1, 2, 3],\n",
        " 9: [1, 2, 3],\n",
        " 10: [1, 2, 3],\n",
        " 11: [1, 2, 3],\n",
        " 12: [1, 2, 3],\n",
        " 13: [1, 2, 3],\n",
        " 14: [1, 2, 3],\n",
        " 15: [1, 2, 3],\n",
        " 16: [1, 2, 3],\n",
        " 18: [1, 2, 3],\n",
        " 19: [1, 2, 3],\n",
        " 22: [1, 2, 3],\n",
        " 23: [1, 2, 3]}"
       ]
      }
     ],
     "prompt_number": 43
    },
    {
     "cell_type": "code",
     "collapsed": false,
     "input": [
      "task = 1\n",
      "model = 1\n",
      "subj = 1\n",
      "run_datasets = []\n",
      "for run_id in dhandle.get_task_bold_run_ids(task)[subj]:\n",
      "    run_events = dhandle.get_bold_run_model(model, subj, run_id)\n",
      "    run_ds = dhandle.get_bold_run_dataset(subj, task, run_id, chunks = run_id - 1, flavor = 'preproc',\n",
      "                                          mask = path_LA+'/sub%03d/mask/mask.nii.gz'%(subj))\n",
      "    run_ds.sa['targets'] = events2sample_attr(run_events, run_ds.sa.time_coords, noinfolabel='rest')\n",
      "    run_datasets.append(run_ds)\n",
      "\n",
      "fds = vstack(run_datasets, a=0)"
     ],
     "language": "python",
     "metadata": {},
     "outputs": [],
     "prompt_number": 44
    },
    {
     "cell_type": "code",
     "collapsed": false,
     "input": [
      "print fds.summary()"
     ],
     "language": "python",
     "metadata": {},
     "outputs": [
      {
       "output_type": "stream",
       "stream": "stdout",
       "text": [
        "Dataset: 784x77432@float32, <sa: chunks,run,subj,targets,task,time_coords,time_indices>, <fa: voxel_indices>, <a: imgaffine,imghdr,imgtype,mapper,voxel_dim,voxel_eldim>\n",
        "stats: mean=4558.36 std=4396.96 var=1.93333e+07 min=-3715.83 max=37580.8\n",
        "\n",
        "Counts of targets in each chunk:\n",
        "  chunks\\targets  0   1  rest\n",
        "                 --- ---  ---\n",
        "        0        146  65  51\n",
        "        1        179  31  52\n",
        "        2        189  13  58\n",
        "\n",
        "Summary for targets across chunks\n",
        "  targets mean  std min max #chunks\n",
        "    0      171 18.4 146 189    3\n",
        "    1     36.3 21.6  13  65    3\n",
        "   rest   53.7 3.09  51  58    3\n",
        "\n",
        "Summary for chunks across targets\n",
        "  chunks mean  std min max #targets\n",
        "    0    87.3 41.9  51 146     3\n",
        "    1    87.3 65.4  31 179     3\n",
        "    2    86.7 74.7  13 189     3\n",
        "Sequence statistics for 784 entries from set ['0', '1', 'rest']\n",
        "Counter-balance table for orders up to 2:\n",
        "Targets/Order  O1         |   O2         |\n",
        "      0:      391 13 110  |  344 40 130  |\n",
        "      1:       18 70  21  |   48 40  21  |\n",
        "    rest:     105 26  29  |  122 29  8   |\n",
        "Correlations: min=-0.11 max=0.18 mean=-0.0013 sum(abs)=24\n"
       ]
      }
     ],
     "prompt_number": 35
    },
    {
     "cell_type": "code",
     "collapsed": false,
     "input": [
      "# detrending\n",
      "#detrender = PolyDetrendMapper(polyord=1, chunks_attr='chunks')\n",
      "#detrended_fds = fds.get_mapped(detrender)\n",
      "poly_detrend(fds, polyord=1, chunks_attr='chunks')\n",
      "print fds.a.mapper"
     ],
     "language": "python",
     "metadata": {},
     "outputs": [
      {
       "output_type": "stream",
       "stream": "stdout",
       "text": [
        "<Chain: <Flatten>-<StaticFeatureSelection>-<PolyDetrend: ord=1>>\n"
       ]
      }
     ],
     "prompt_number": 45
    },
    {
     "cell_type": "code",
     "collapsed": false,
     "input": [
      "# normalization\n",
      "#zscorer = ZScoreMapper(param_est=('targets', ['rest']))\n",
      "zscore(fds, param_est=('targets', ['rest']))\n",
      "print fds.a.mapper"
     ],
     "language": "python",
     "metadata": {},
     "outputs": [
      {
       "output_type": "stream",
       "stream": "stdout",
       "text": [
        "<Chain: <Flatten>-<StaticFeatureSelection>-<PolyDetrend: ord=1>-<ZScore>>\n"
       ]
      }
     ],
     "prompt_number": 46
    },
    {
     "cell_type": "code",
     "collapsed": false,
     "input": [
      "fds = fds[fds.sa.targets != 'rest']\n",
      "print fds.shape"
     ],
     "language": "python",
     "metadata": {},
     "outputs": [
      {
       "output_type": "stream",
       "stream": "stdout",
       "text": [
        "(610, 77432)\n"
       ]
      }
     ],
     "prompt_number": 47
    },
    {
     "cell_type": "code",
     "collapsed": false,
     "input": [
      "fds.sa['runtype'] = fds.sa.chunks"
     ],
     "language": "python",
     "metadata": {},
     "outputs": [],
     "prompt_number": 48
    },
    {
     "cell_type": "code",
     "collapsed": false,
     "input": [
      "#averager = mean_group_sample(['targets', 'runtype'])\n",
      "#type(averager)"
     ],
     "language": "python",
     "metadata": {},
     "outputs": [
      {
       "metadata": {},
       "output_type": "pyout",
       "prompt_number": 11,
       "text": [
        "mvpa2.mappers.fx.FxMapper"
       ]
      }
     ],
     "prompt_number": 11
    },
    {
     "cell_type": "code",
     "collapsed": false,
     "input": [
      "#fds = fds.get_mapped(averager)\n",
      "#fds.shape"
     ],
     "language": "python",
     "metadata": {},
     "outputs": [
      {
       "metadata": {},
       "output_type": "pyout",
       "prompt_number": 12,
       "text": [
        "(6, 77432)"
       ]
      }
     ],
     "prompt_number": 12
    },
    {
     "cell_type": "code",
     "collapsed": false,
     "input": [
      "clf = kNN(k=1, dfx=one_minus_correlation, voting='majority')\n",
      "cvte = CrossValidation(clf, NFoldPartitioner(attr='runtype'), enable_ca=['stats'])\n",
      "cv_results = cvte(fds)\n",
      "print np.mean(cv_results), cv_results.samples\n",
      "print cvte.ca.stats.as_string(description=True)"
     ],
     "language": "python",
     "metadata": {},
     "outputs": [
      {
       "output_type": "stream",
       "stream": "stdout",
       "text": [
        "0.29333687498 [[ 0.35784314]\n",
        " [ 0.31034483]\n",
        " [ 0.21182266]]\n",
        "----------.\n",
        "predictions\\targets    0      1\n",
        "            `------  -----  -----  P'  N'  FP   FN   PPV  NPV  TPR  SPC  FDR  MCC  F1\n",
        "         0            407    77   484 126  77   102 0.84 0.19  0.8 0.24 0.16 0.03 0.82\n",
        "         1            102    24   126 484  102  77  0.19 0.84 0.24  0.8 0.81 0.03 0.21\n",
        "Per target:          -----  -----\n",
        "         P            509    101\n",
        "         N            101    509\n",
        "         TP           407    24\n",
        "         TN           24     407\n",
        "Summary \\ Means:     -----  ----- 305 305 89.5 89.5 0.52 0.52 0.52 0.52 0.48 0.03 0.52\n",
        "       CHI^2        210.57 p=2.2e-45\n",
        "        ACC          0.71\n",
        "        ACC%         70.66\n",
        "     # of sets         3\n",
        "\n",
        "Statistics computed in 1-vs-rest fashion per each target.\n",
        "Abbreviations (for details see http://en.wikipedia.org/wiki/ROC_curve):\n",
        " TP : true positive (AKA hit)\n",
        " TN : true negative (AKA correct rejection)\n",
        " FP : false positive (AKA false alarm, Type I error)\n",
        " FN : false negative (AKA miss, Type II error)\n",
        " TPR: true positive rate (AKA hit rate, recall, sensitivity)\n",
        "      TPR = TP / P = TP / (TP + FN)\n",
        " FPR: false positive rate (AKA false alarm rate, fall-out)\n",
        "      FPR = FP / N = FP / (FP + TN)\n",
        " ACC: accuracy\n",
        "      ACC = (TP + TN) / (P + N)\n",
        " SPC: specificity\n",
        "      SPC = TN / (FP + TN) = 1 - FPR\n",
        " PPV: positive predictive value (AKA precision)\n",
        "      PPV = TP / (TP + FP)\n",
        " NPV: negative predictive value\n",
        "      NPV = TN / (TN + FN)\n",
        " FDR: false discovery rate\n",
        "      FDR = FP / (FP + TP)\n",
        " MCC: Matthews Correlation Coefficient\n",
        "      MCC = (TP*TN - FP*FN)/sqrt(P N P' N')\n",
        " F1 : F1 score\n",
        "      F1 = 2TP / (P + P') = 2TP / (2TP + FP + FN)\n",
        " AUC: Area under (AUC) curve\n",
        " CHI^2: Chi-square of confusion matrix\n",
        " LOE(ACC): Linear Order Effect in ACC across sets\n",
        " # of sets: number of target/prediction sets which were provided\n"
       ]
      },
      {
       "output_type": "stream",
       "stream": "stdout",
       "text": [
        "\n"
       ]
      }
     ],
     "prompt_number": 49
    },
    {
     "cell_type": "code",
     "collapsed": false,
     "input": [
      "print cvte.ca.stats.matrix"
     ],
     "language": "python",
     "metadata": {},
     "outputs": [
      {
       "output_type": "stream",
       "stream": "stdout",
       "text": [
        "[[397  78]\n",
        " [117  31]]\n"
       ]
      }
     ],
     "prompt_number": 41
    }
   ],
   "metadata": {}
  }
 ]
}