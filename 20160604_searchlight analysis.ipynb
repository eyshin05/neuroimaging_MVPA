{
 "metadata": {
  "name": "",
  "signature": "sha256:e0b75e372752fd5b9cb48a4a3ae05f84334aa6dabd908f0bdc35e6e88b7fad85"
 },
 "nbformat": 3,
 "nbformat_minor": 0,
 "worksheets": [
  {
   "cells": [
    {
     "cell_type": "code",
     "collapsed": false,
     "input": [
      "from mvpa2.suite import *\n",
      "import os\n",
      "import glob\n",
      "import nibabel\n",
      "import time"
     ],
     "language": "python",
     "metadata": {},
     "outputs": [],
     "prompt_number": 2
    },
    {
     "cell_type": "code",
     "collapsed": false,
     "input": [
      "def get_data(subj):\n",
      "    return h5load(os.path.join('/data/20160601/', 'bs_add6', 'sub%03d.hdf5'%subj))"
     ],
     "language": "python",
     "metadata": {},
     "outputs": [],
     "prompt_number": 8
    },
    {
     "cell_type": "code",
     "collapsed": false,
     "input": [
      "def get_classifier(option, k = 3):\n",
      "    if option == 'kNN':\n",
      "        return kNN(k=k)\n",
      "    elif option == 'GNB':\n",
      "        return GNB()\n",
      "    elif option == 'LSVM':\n",
      "        return LinearCSVMC()\n",
      "    elif option == 'SMLR':\n",
      "        return SMLR(fit_all_weights=True)\n",
      "    else:\n",
      "        return None"
     ],
     "language": "python",
     "metadata": {},
     "outputs": [],
     "prompt_number": 4
    },
    {
     "cell_type": "code",
     "collapsed": false,
     "input": [
      "subj_list = [1, 2, 3, 4, 5, 6, 7, 8, 9, 10, 11, 12, 13, 14, 15, 16, 18, 19, 22, 23]"
     ],
     "language": "python",
     "metadata": {},
     "outputs": [],
     "prompt_number": 5
    },
    {
     "cell_type": "code",
     "collapsed": false,
     "input": [
      "clf_list = ['GNB']\n",
      "\n",
      "for subj in subj_list:\n",
      "    ds = get_data(subj)\n",
      "    \n",
      "    for clf in clf_list:\n",
      "        classifier = get_classifier(clf) \n",
      "        cv = CrossValidation(classifier, NFoldPartitioner())\n",
      "        sl = sphere_searchlight(cv, radius=5, postproc=mean_sample())\n",
      "        \n",
      "        res = sl(ds)\n",
      "        h5save('/data/20160603/searchlight/result5/%s/sub%03d.hdf5'%(clf, subj), res, compression = 9)\n",
      "        \n",
      "        img = map2nifti(ds)\n",
      "        nibabel.save(img, '/data/20160603/searchlight/result5/%s/sub%03d.nii.gz'%(clf, subj))\n",
      "        \n",
      "        print subj, clf, time.asctime(time.localtime(time.time()))"
     ],
     "language": "python",
     "metadata": {},
     "outputs": [
      {
       "output_type": "stream",
       "stream": "stdout",
       "text": [
        "1 kNN Sat Jun  4 03:49:59 2016\n",
        "1"
       ]
      },
      {
       "output_type": "stream",
       "stream": "stdout",
       "text": [
        " GNB Sat Jun  4 04:32:10 2016\n",
        "1"
       ]
      },
      {
       "output_type": "stream",
       "stream": "stdout",
       "text": [
        " LSVM Sat Jun  4 08:15:20 2016\n"
       ]
      },
      {
       "ename": "KeyboardInterrupt",
       "evalue": "",
       "output_type": "pyerr",
       "traceback": [
        "\u001b[0;31m---------------------------------------------------------------------------\u001b[0m\n\u001b[0;31mKeyboardInterrupt\u001b[0m                         Traceback (most recent call last)",
        "\u001b[0;32m<ipython-input-6-76281cc95b62>\u001b[0m in \u001b[0;36m<module>\u001b[0;34m()\u001b[0m\n\u001b[1;32m      9\u001b[0m         \u001b[0msl\u001b[0m \u001b[0;34m=\u001b[0m \u001b[0msphere_searchlight\u001b[0m\u001b[0;34m(\u001b[0m\u001b[0mcv\u001b[0m\u001b[0;34m,\u001b[0m \u001b[0mradius\u001b[0m\u001b[0;34m=\u001b[0m\u001b[0;36m5\u001b[0m\u001b[0;34m,\u001b[0m \u001b[0mpostproc\u001b[0m\u001b[0;34m=\u001b[0m\u001b[0mmean_sample\u001b[0m\u001b[0;34m(\u001b[0m\u001b[0;34m)\u001b[0m\u001b[0;34m)\u001b[0m\u001b[0;34m\u001b[0m\u001b[0m\n\u001b[1;32m     10\u001b[0m \u001b[0;34m\u001b[0m\u001b[0m\n\u001b[0;32m---> 11\u001b[0;31m         \u001b[0mres\u001b[0m \u001b[0;34m=\u001b[0m \u001b[0msl\u001b[0m\u001b[0;34m(\u001b[0m\u001b[0mds\u001b[0m\u001b[0;34m)\u001b[0m\u001b[0;34m\u001b[0m\u001b[0m\n\u001b[0m\u001b[1;32m     12\u001b[0m         \u001b[0mh5save\u001b[0m\u001b[0;34m(\u001b[0m\u001b[0;34m'/data/20160603/searchlight/result5/%s/sub%03d.hdf5'\u001b[0m\u001b[0;34m%\u001b[0m\u001b[0;34m(\u001b[0m\u001b[0mclf\u001b[0m\u001b[0;34m,\u001b[0m \u001b[0msubj\u001b[0m\u001b[0;34m)\u001b[0m\u001b[0;34m,\u001b[0m \u001b[0mres\u001b[0m\u001b[0;34m,\u001b[0m \u001b[0mcompression\u001b[0m \u001b[0;34m=\u001b[0m \u001b[0;36m9\u001b[0m\u001b[0;34m)\u001b[0m\u001b[0;34m\u001b[0m\u001b[0m\n\u001b[1;32m     13\u001b[0m \u001b[0;34m\u001b[0m\u001b[0m\n",
        "\u001b[0;32m/usr/lib/python2.7/dist-packages/mvpa2/base/learner.pyc\u001b[0m in \u001b[0;36m__call__\u001b[0;34m(self, ds)\u001b[0m\n\u001b[1;32m    256\u001b[0m                                    \u001b[0;34m\"used and auto training is disabled.\"\u001b[0m\u001b[0;34m\u001b[0m\u001b[0m\n\u001b[1;32m    257\u001b[0m                                    % str(self))\n\u001b[0;32m--> 258\u001b[0;31m         \u001b[0;32mreturn\u001b[0m \u001b[0msuper\u001b[0m\u001b[0;34m(\u001b[0m\u001b[0mLearner\u001b[0m\u001b[0;34m,\u001b[0m \u001b[0mself\u001b[0m\u001b[0;34m)\u001b[0m\u001b[0;34m.\u001b[0m\u001b[0m__call__\u001b[0m\u001b[0;34m(\u001b[0m\u001b[0mds\u001b[0m\u001b[0;34m)\u001b[0m\u001b[0;34m\u001b[0m\u001b[0m\n\u001b[0m\u001b[1;32m    259\u001b[0m \u001b[0;34m\u001b[0m\u001b[0m\n\u001b[1;32m    260\u001b[0m     is_trained = property(fget=lambda x: x.__is_trained, fset=_set_trained,\n",
        "\u001b[0;32m/usr/lib/python2.7/dist-packages/mvpa2/base/node.pyc\u001b[0m in \u001b[0;36m__call__\u001b[0;34m(self, ds)\u001b[0m\n\u001b[1;32m    121\u001b[0m \u001b[0;34m\u001b[0m\u001b[0m\n\u001b[1;32m    122\u001b[0m         \u001b[0mself\u001b[0m\u001b[0;34m.\u001b[0m\u001b[0m_precall\u001b[0m\u001b[0;34m(\u001b[0m\u001b[0mds\u001b[0m\u001b[0;34m)\u001b[0m\u001b[0;34m\u001b[0m\u001b[0m\n\u001b[0;32m--> 123\u001b[0;31m         \u001b[0mresult\u001b[0m \u001b[0;34m=\u001b[0m \u001b[0mself\u001b[0m\u001b[0;34m.\u001b[0m\u001b[0m_call\u001b[0m\u001b[0;34m(\u001b[0m\u001b[0mds\u001b[0m\u001b[0;34m)\u001b[0m\u001b[0;34m\u001b[0m\u001b[0m\n\u001b[0m\u001b[1;32m    124\u001b[0m         \u001b[0mresult\u001b[0m \u001b[0;34m=\u001b[0m \u001b[0mself\u001b[0m\u001b[0;34m.\u001b[0m\u001b[0m_postcall\u001b[0m\u001b[0;34m(\u001b[0m\u001b[0mds\u001b[0m\u001b[0;34m,\u001b[0m \u001b[0mresult\u001b[0m\u001b[0;34m)\u001b[0m\u001b[0;34m\u001b[0m\u001b[0m\n\u001b[1;32m    125\u001b[0m \u001b[0;34m\u001b[0m\u001b[0m\n",
        "\u001b[0;32m/usr/lib/python2.7/dist-packages/mvpa2/measures/searchlight.pyc\u001b[0m in \u001b[0;36m_call\u001b[0;34m(self, dataset)\u001b[0m\n\u001b[1;32m    152\u001b[0m \u001b[0;34m\u001b[0m\u001b[0m\n\u001b[1;32m    153\u001b[0m         \u001b[0;31m# pass to subclass\u001b[0m\u001b[0;34m\u001b[0m\u001b[0;34m\u001b[0m\u001b[0m\n\u001b[0;32m--> 154\u001b[0;31m         \u001b[0mresults\u001b[0m \u001b[0;34m=\u001b[0m \u001b[0mself\u001b[0m\u001b[0;34m.\u001b[0m\u001b[0m_sl_call\u001b[0m\u001b[0;34m(\u001b[0m\u001b[0mdataset\u001b[0m\u001b[0;34m,\u001b[0m \u001b[0mroi_ids\u001b[0m\u001b[0;34m,\u001b[0m \u001b[0mnproc\u001b[0m\u001b[0;34m)\u001b[0m\u001b[0;34m\u001b[0m\u001b[0m\n\u001b[0m\u001b[1;32m    155\u001b[0m \u001b[0;34m\u001b[0m\u001b[0m\n\u001b[1;32m    156\u001b[0m         \u001b[0;32mif\u001b[0m \u001b[0;34m'mapper'\u001b[0m \u001b[0;32min\u001b[0m \u001b[0mdataset\u001b[0m\u001b[0;34m.\u001b[0m\u001b[0ma\u001b[0m\u001b[0;34m:\u001b[0m\u001b[0;34m\u001b[0m\u001b[0m\n",
        "\u001b[0;32m/usr/lib/python2.7/dist-packages/mvpa2/measures/searchlight.pyc\u001b[0m in \u001b[0;36m_sl_call\u001b[0;34m(self, dataset, roi_ids, nproc)\u001b[0m\n\u001b[1;32m    382\u001b[0m                                     \u001b[0mdataset\u001b[0m\u001b[0;34m=\u001b[0m\u001b[0mdataset\u001b[0m\u001b[0;34m,\u001b[0m\u001b[0;34m\u001b[0m\u001b[0m\n\u001b[1;32m    383\u001b[0m                                     \u001b[0mroi_ids\u001b[0m\u001b[0;34m=\u001b[0m\u001b[0mroi_ids\u001b[0m\u001b[0;34m,\u001b[0m\u001b[0;34m\u001b[0m\u001b[0m\n\u001b[0;32m--> 384\u001b[0;31m                                     results=self.__handle_all_results(p_results))\n\u001b[0m\u001b[1;32m    385\u001b[0m \u001b[0;34m\u001b[0m\u001b[0m\n\u001b[1;32m    386\u001b[0m         \u001b[0;31m# Assure having a dataset (for paranoid ones)\u001b[0m\u001b[0;34m\u001b[0m\u001b[0;34m\u001b[0m\u001b[0m\n",
        "\u001b[0;32m/usr/lib/python2.7/dist-packages/mvpa2/measures/searchlight.pyc\u001b[0m in \u001b[0;36m_concat_results\u001b[0;34m(sl, dataset, roi_ids, results)\u001b[0m\n\u001b[1;32m    216\u001b[0m         \"\"\"\n\u001b[1;32m    217\u001b[0m         \u001b[0;31m# collect results\u001b[0m\u001b[0;34m\u001b[0m\u001b[0;34m\u001b[0m\u001b[0m\n\u001b[0;32m--> 218\u001b[0;31m         \u001b[0mresults\u001b[0m \u001b[0;34m=\u001b[0m \u001b[0msum\u001b[0m\u001b[0;34m(\u001b[0m\u001b[0mresults\u001b[0m\u001b[0;34m,\u001b[0m \u001b[0;34m[\u001b[0m\u001b[0;34m]\u001b[0m\u001b[0;34m)\u001b[0m\u001b[0;34m\u001b[0m\u001b[0m\n\u001b[0m\u001b[1;32m    219\u001b[0m \u001b[0;34m\u001b[0m\u001b[0m\n\u001b[1;32m    220\u001b[0m         \u001b[0;32mif\u001b[0m \u001b[0m__debug__\u001b[0m \u001b[0;32mand\u001b[0m \u001b[0;34m'SLC'\u001b[0m \u001b[0;32min\u001b[0m \u001b[0mdebug\u001b[0m\u001b[0;34m.\u001b[0m\u001b[0mactive\u001b[0m\u001b[0;34m:\u001b[0m\u001b[0;34m\u001b[0m\u001b[0m\n",
        "\u001b[0;32m/usr/lib/python2.7/dist-packages/mvpa2/measures/searchlight.pyc\u001b[0m in \u001b[0;36m__handle_all_results\u001b[0;34m(self, results)\u001b[0m\n\u001b[1;32m    538\u001b[0m         \u001b[0mresults_fx\u001b[0m\u001b[0;34m\u001b[0m\u001b[0m\n\u001b[1;32m    539\u001b[0m         \"\"\"\n\u001b[0;32m--> 540\u001b[0;31m         \u001b[0;32mfor\u001b[0m \u001b[0mr\u001b[0m \u001b[0;32min\u001b[0m \u001b[0mresults\u001b[0m\u001b[0;34m:\u001b[0m\u001b[0;34m\u001b[0m\u001b[0m\n\u001b[0m\u001b[1;32m    541\u001b[0m             \u001b[0;32myield\u001b[0m \u001b[0mself\u001b[0m\u001b[0;34m.\u001b[0m\u001b[0m__handle_results\u001b[0m\u001b[0;34m(\u001b[0m\u001b[0mr\u001b[0m\u001b[0;34m)\u001b[0m\u001b[0;34m\u001b[0m\u001b[0m\n\u001b[1;32m    542\u001b[0m \u001b[0;34m\u001b[0m\u001b[0m\n",
        "\u001b[0;32m/usr/lib/pymodules/python2.7/pprocess.pyc\u001b[0m in \u001b[0;36mnext\u001b[0;34m(self)\u001b[0m\n\u001b[1;32m    762\u001b[0m \u001b[0;34m\u001b[0m\u001b[0m\n\u001b[1;32m    763\u001b[0m         \u001b[0;32mwhile\u001b[0m \u001b[0mself\u001b[0m\u001b[0;34m.\u001b[0m\u001b[0munfinished\u001b[0m\u001b[0;34m(\u001b[0m\u001b[0;34m)\u001b[0m\u001b[0;34m:\u001b[0m\u001b[0;34m\u001b[0m\u001b[0m\n\u001b[0;32m--> 764\u001b[0;31m             \u001b[0mself\u001b[0m\u001b[0;34m.\u001b[0m\u001b[0mstore\u001b[0m\u001b[0;34m(\u001b[0m\u001b[0;34m)\u001b[0m\u001b[0;34m\u001b[0m\u001b[0m\n\u001b[0m\u001b[1;32m    765\u001b[0m             \u001b[0;32mtry\u001b[0m\u001b[0;34m:\u001b[0m\u001b[0;34m\u001b[0m\u001b[0m\n\u001b[1;32m    766\u001b[0m                 \u001b[0;32mreturn\u001b[0m \u001b[0mself\u001b[0m\u001b[0;34m.\u001b[0m\u001b[0m_next\u001b[0m\u001b[0;34m(\u001b[0m\u001b[0;34m)\u001b[0m\u001b[0;34m\u001b[0m\u001b[0m\n",
        "\u001b[0;32m/usr/lib/pymodules/python2.7/pprocess.pyc\u001b[0m in \u001b[0;36mstore\u001b[0;34m(self, timeout)\u001b[0m\n\u001b[1;32m    396\u001b[0m \u001b[0;34m\u001b[0m\u001b[0m\n\u001b[1;32m    397\u001b[0m         \u001b[0;32mif\u001b[0m \u001b[0mself\u001b[0m\u001b[0;34m.\u001b[0m\u001b[0mactive\u001b[0m\u001b[0;34m(\u001b[0m\u001b[0;34m)\u001b[0m\u001b[0;34m:\u001b[0m\u001b[0;34m\u001b[0m\u001b[0m\n\u001b[0;32m--> 398\u001b[0;31m             \u001b[0;32mfor\u001b[0m \u001b[0mchannel\u001b[0m \u001b[0;32min\u001b[0m \u001b[0mself\u001b[0m\u001b[0;34m.\u001b[0m\u001b[0mready\u001b[0m\u001b[0;34m(\u001b[0m\u001b[0mtimeout\u001b[0m\u001b[0;34m)\u001b[0m\u001b[0;34m:\u001b[0m\u001b[0;34m\u001b[0m\u001b[0m\n\u001b[0m\u001b[1;32m    399\u001b[0m                 \u001b[0;32mtry\u001b[0m\u001b[0;34m:\u001b[0m\u001b[0;34m\u001b[0m\u001b[0m\n\u001b[1;32m    400\u001b[0m                     \u001b[0mself\u001b[0m\u001b[0;34m.\u001b[0m\u001b[0mstore_data\u001b[0m\u001b[0;34m(\u001b[0m\u001b[0mchannel\u001b[0m\u001b[0;34m)\u001b[0m\u001b[0;34m\u001b[0m\u001b[0m\n",
        "\u001b[0;32m/usr/lib/pymodules/python2.7/pprocess.pyc\u001b[0m in \u001b[0;36mready\u001b[0;34m(self, timeout)\u001b[0m\n\u001b[1;32m    304\u001b[0m         \"\"\"\n\u001b[1;32m    305\u001b[0m \u001b[0;34m\u001b[0m\u001b[0m\n\u001b[0;32m--> 306\u001b[0;31m         \u001b[0mfds\u001b[0m \u001b[0;34m=\u001b[0m \u001b[0mself\u001b[0m\u001b[0;34m.\u001b[0m\u001b[0mpoller\u001b[0m\u001b[0;34m.\u001b[0m\u001b[0mpoll\u001b[0m\u001b[0;34m(\u001b[0m\u001b[0mtimeout\u001b[0m\u001b[0;34m)\u001b[0m\u001b[0;34m\u001b[0m\u001b[0m\n\u001b[0m\u001b[1;32m    307\u001b[0m         \u001b[0mreadables\u001b[0m \u001b[0;34m=\u001b[0m \u001b[0;34m[\u001b[0m\u001b[0;34m]\u001b[0m\u001b[0;34m\u001b[0m\u001b[0m\n\u001b[1;32m    308\u001b[0m         \u001b[0mself\u001b[0m\u001b[0;34m.\u001b[0m\u001b[0mremoved\u001b[0m \u001b[0;34m=\u001b[0m \u001b[0;34m[\u001b[0m\u001b[0;34m]\u001b[0m\u001b[0;34m\u001b[0m\u001b[0m\n",
        "\u001b[0;31mKeyboardInterrupt\u001b[0m: "
       ]
      }
     ],
     "prompt_number": 6
    },
    {
     "cell_type": "code",
     "collapsed": false,
     "input": [
      "clf_list = ['kNN']\n",
      "\n",
      "for subj in subj_list:\n",
      "    ds = get_data(subj)\n",
      "    \n",
      "    for clf in clf_list:\n",
      "        classifier = get_classifier(clf) \n",
      "        cv = CrossValidation(classifier, NFoldPartitioner())\n",
      "        sl = sphere_searchlight(cv, radius=3, postproc=mean_sample())\n",
      "        \n",
      "        res = sl(ds)\n",
      "        h5save('/data/20160603/searchlight/result3/%s/sub%03d.hdf5'%(clf, subj), res, compression = 9)\n",
      "        \n",
      "        img = map2nifti(res)\n",
      "        nibabel.save(img, '/data/20160603/searchlight/result3/%s/sub%03d.nii.gz'%(clf, subj))\n",
      "        \n",
      "        print subj, clf, time.asctime(time.localtime(time.time()))"
     ],
     "language": "python",
     "metadata": {},
     "outputs": [
      {
       "output_type": "stream",
       "stream": "stdout",
       "text": [
        "1 kNN Sun Jun  5 00:06:16 2016\n",
        "2"
       ]
      },
      {
       "output_type": "stream",
       "stream": "stdout",
       "text": [
        " kNN Sun Jun  5 00:37:53 2016\n",
        "3"
       ]
      },
      {
       "output_type": "stream",
       "stream": "stdout",
       "text": [
        " kNN Sun Jun  5 01:07:55 2016\n",
        "4"
       ]
      },
      {
       "output_type": "stream",
       "stream": "stdout",
       "text": [
        " kNN Sun Jun  5 01:39:15 2016\n",
        "5"
       ]
      },
      {
       "output_type": "stream",
       "stream": "stdout",
       "text": [
        " kNN Sun Jun  5 02:15:52 2016\n",
        "6"
       ]
      },
      {
       "output_type": "stream",
       "stream": "stdout",
       "text": [
        " kNN Sun Jun  5 02:50:57 2016\n",
        "7"
       ]
      },
      {
       "output_type": "stream",
       "stream": "stdout",
       "text": [
        " kNN Sun Jun  5 03:24:21 2016\n",
        "8"
       ]
      },
      {
       "output_type": "stream",
       "stream": "stdout",
       "text": [
        " kNN Sun Jun  5 03:58:41 2016\n",
        "9"
       ]
      },
      {
       "output_type": "stream",
       "stream": "stdout",
       "text": [
        " kNN Sun Jun  5 04:33:13 2016\n",
        "10"
       ]
      },
      {
       "output_type": "stream",
       "stream": "stdout",
       "text": [
        " kNN Sun Jun  5 05:07:02 2016\n",
        "11"
       ]
      },
      {
       "output_type": "stream",
       "stream": "stdout",
       "text": [
        " kNN Sun Jun  5 05:40:42 2016\n",
        "12"
       ]
      },
      {
       "output_type": "stream",
       "stream": "stdout",
       "text": [
        " kNN Sun Jun  5 06:13:45 2016\n",
        "13"
       ]
      },
      {
       "output_type": "stream",
       "stream": "stdout",
       "text": [
        " kNN Sun Jun  5 06:47:47 2016\n",
        "14"
       ]
      },
      {
       "output_type": "stream",
       "stream": "stdout",
       "text": [
        " kNN Sun Jun  5 07:21:50 2016\n",
        "15"
       ]
      },
      {
       "output_type": "stream",
       "stream": "stdout",
       "text": [
        " kNN Sun Jun  5 07:53:57 2016\n",
        "16"
       ]
      },
      {
       "output_type": "stream",
       "stream": "stdout",
       "text": [
        " kNN Sun Jun  5 08:27:25 2016\n",
        "18"
       ]
      },
      {
       "output_type": "stream",
       "stream": "stdout",
       "text": [
        " kNN Sun Jun  5 08:59:05 2016\n",
        "19"
       ]
      },
      {
       "output_type": "stream",
       "stream": "stdout",
       "text": [
        " kNN Sun Jun  5 09:31:58 2016\n",
        "22"
       ]
      },
      {
       "output_type": "stream",
       "stream": "stdout",
       "text": [
        " kNN Sun Jun  5 10:03:08 2016\n",
        "23"
       ]
      },
      {
       "output_type": "stream",
       "stream": "stdout",
       "text": [
        " kNN Sun Jun  5 10:34:47 2016\n"
       ]
      }
     ],
     "prompt_number": 9
    },
    {
     "cell_type": "code",
     "collapsed": false,
     "input": [
      "#for subj in subj_list:\n",
      "\n",
      "subj = 1\n",
      "ds = get_data(subj)\n",
      "res = h5load('/data/20160603/searchlight/result3/kNN/sub%03d.hdf5'%subj)\n",
      "    "
     ],
     "language": "python",
     "metadata": {},
     "outputs": [],
     "prompt_number": 19
    },
    {
     "cell_type": "code",
     "collapsed": false,
     "input": [
      "res.a.imghdr = ds.a.imghdr"
     ],
     "language": "python",
     "metadata": {},
     "outputs": [],
     "prompt_number": 20
    },
    {
     "cell_type": "code",
     "collapsed": false,
     "input": [
      "img = map2nifti(res, imghdr = ds.a.imghdr)\n",
      "nibabel.save(img, '/data/20160603/searchlight/test.nii.gz')"
     ],
     "language": "python",
     "metadata": {},
     "outputs": [],
     "prompt_number": 26
    },
    {
     "cell_type": "code",
     "collapsed": false,
     "input": [
      "for subj in subj_list:\n",
      "    ds = get_data(subj)\n",
      "    res = h5load('/data/20160603/searchlight/result3/kNN/sub%03d.hdf5'%subj)\n",
      "    \n",
      "    res.a.imghdr = ds.a.imghdr\n",
      "    img = map2nifti(res, imghdr = ds.a.imghdr)\n",
      "    nibabel.save(img, '/data/20160603/searchlight_norm/sub%03d.nii.gz'%(subj))"
     ],
     "language": "python",
     "metadata": {},
     "outputs": [],
     "prompt_number": 27
    },
    {
     "cell_type": "code",
     "collapsed": false,
     "input": [
      "clf = get_classifier('GNB')\n",
      "cv = CrossValidation(clf, NFoldPartitioner())\n",
      "sl = sphere_searchlight(cv, radius=5, postproc=mean_sample())\n",
      "ds = get_data(subj)\n",
      "res = sl(ds)"
     ],
     "language": "python",
     "metadata": {},
     "outputs": [],
     "prompt_number": 44
    },
    {
     "cell_type": "code",
     "collapsed": false,
     "input": [
      "print res"
     ],
     "language": "python",
     "metadata": {},
     "outputs": [
      {
       "output_type": "stream",
       "stream": "stdout",
       "text": [
        "<Dataset: 1x71856@float64, <sa: cvfolds>, <fa: center_ids>, <a: mapper>>\n"
       ]
      }
     ],
     "prompt_number": 45
    },
    {
     "cell_type": "code",
     "collapsed": false,
     "input": [
      "img = map2nifti(ds)"
     ],
     "language": "python",
     "metadata": {},
     "outputs": [],
     "prompt_number": 46
    },
    {
     "cell_type": "code",
     "collapsed": false,
     "input": [
      "print ds.a.imghdr"
     ],
     "language": "python",
     "metadata": {},
     "outputs": [
      {
       "output_type": "stream",
       "stream": "stdout",
       "text": [
        "{'session_error': array(0, dtype=int16), 'extents': array(0, dtype=int32), 'sizeof_hdr': array(348, dtype=int32), 'srow_x': array([  -2.5       ,    0.        ,    0.        ,  100.89774323], dtype=float32), 'srow_y': array([   0.        ,    2.43592525,   -0.78732866, -115.71534729], dtype=float32), 'pixdim': array([-1. ,  2.5,  2.5,  3.5,  2. ,  0. ,  0. ,  0. ], dtype=float32), 'slice_start': array(0, dtype=int16), 'intent_p1': array(0.0, dtype=float32), 'cal_max': array(0.0, dtype=float32), 'xyzt_units': array(10, dtype=uint8), 'intent_p2': array(0.0, dtype=float32), 'intent_p3': array(0.0, dtype=float32), 'qoffset_x': array(100.89774322509766, dtype=float32), 'intent_code': array(0, dtype=int16), 'qoffset_z': array(-18.09183120727539, dtype=float32), 'sform_code': array(1, dtype=int16), 'cal_min': array(0.0, dtype=float32), 'scl_slope': 1.0, 'slice_code': array(0, dtype=uint8), 'slice_duration': array(0.0, dtype=float32), 'quatern_b': array(0.0, dtype=float32), 'hdrtype': 'Nifti1Header', 'bitpix': array(32, dtype=int16), 'descrip': array('FSL5.0', \n",
        "      dtype='|S80'), 'glmin': array(0, dtype=int32), 'dim_info': array(0, dtype=uint8), 'glmax': array(0, dtype=int32), 'quatern_c': array(0.9935718774795532, dtype=float32), 'data_type': array('', \n",
        "      dtype='|S10'), 'aux_file': array('', \n",
        "      dtype='|S24'), 'intent_name': array('', \n",
        "      dtype='|S16'), 'vox_offset': array(0.0, dtype=float32), 'srow_z': array([  0.        ,   0.56237763,   3.41029525, -18.09183121], dtype=float32), 'db_name': array('', \n",
        "      dtype='|S18'), 'scl_inter': 0.0, 'quatern_d': array(0.11320319771766663, dtype=float32), 'dim': array([  4,  80,  80,  36, 262,   1,   1,   1], dtype=int16), 'magic': array('n+1', \n",
        "      dtype='|S4'), 'datatype': array(16, dtype=int16), 'regular': array('r', \n",
        "      dtype='|S1'), 'slice_end': array(0, dtype=int16), 'qform_code': array(1, dtype=int16), 'qoffset_y': array(-115.71534729003906, dtype=float32), 'toffset': array(0.0, dtype=float32)}\n"
       ]
      }
     ],
     "prompt_number": 25
    },
    {
     "cell_type": "code",
     "collapsed": false,
     "input": [
      "import nibabel\n",
      "nibabel.save(img, '/data/20160603/searchlight/test.nii.gz')"
     ],
     "language": "python",
     "metadata": {},
     "outputs": [],
     "prompt_number": 47
    }
   ],
   "metadata": {}
  }
 ]
}