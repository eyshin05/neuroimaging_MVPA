{
 "metadata": {
  "name": "",
  "signature": "sha256:7dc28a256f9c7f0d7ea4844f436cec0907d90ac1749ebabd9c8d23c36bae3d75"
 },
 "nbformat": 3,
 "nbformat_minor": 0,
 "worksheets": [
  {
   "cells": [
    {
     "cell_type": "code",
     "collapsed": false,
     "input": [
      "def hrf(times):\n",
      "    \"\"\" Return values for HRF at given times \"\"\"\n",
      "    # Gamma pdf for the peak\n",
      "    peak_values = gamma.pdf(times, 6)\n",
      "    # Gamma pdf for the undershoot\n",
      "    undershoot_values = gamma.pdf(times, 12)\n",
      "    # Combine them\n",
      "    values = peak_values - 0.35 * undershoot_values\n",
      "    # Scale max to 0.6\n",
      "    return values / np.max(values) * 0.6"
     ],
     "language": "python",
     "metadata": {},
     "outputs": [],
     "prompt_number": 1
    },
    {
     "cell_type": "code",
     "collapsed": false,
     "input": [
      "import matplotlib.pyplot as plt"
     ],
     "language": "python",
     "metadata": {},
     "outputs": [],
     "prompt_number": 2
    },
    {
     "cell_type": "code",
     "collapsed": false,
     "input": [
      "%matplotlib inline"
     ],
     "language": "python",
     "metadata": {},
     "outputs": [],
     "prompt_number": 3
    },
    {
     "cell_type": "code",
     "collapsed": false,
     "input": [
      "import numpy as np\n",
      "from scipy.stats import gamma"
     ],
     "language": "python",
     "metadata": {},
     "outputs": [],
     "prompt_number": 7
    },
    {
     "cell_type": "markdown",
     "metadata": {},
     "source": [
      "We\u2019re going to try using the sum of two gamma distribution probability density functions."
     ]
    },
    {
     "cell_type": "code",
     "collapsed": false,
     "input": [
      "x = np.arange(0, 25, 0.1)\n",
      "\n",
      "plt.plot(x, hrf(x))\n",
      "plt.xlabel('time')\n",
      "plt.ylabel('HRF model of signal')\n",
      "axes = plt.gca()\n",
      "axes.set_ylim([-0.2,0.7])\n",
      "plt.savefig('/media/sf_VirtualBox/20160603/HRF.png', dpi=300)"
     ],
     "language": "python",
     "metadata": {},
     "outputs": [
      {
       "metadata": {},
       "output_type": "pyout",
       "prompt_number": 10,
       "text": [
        "(-0.2, 0.7)"
       ]
      },
      {
       "metadata": {},
       "output_type": "display_data",
       "png": "[encoded data removed]",
       "text": [
        "<matplotlib.figure.Figure at 0x7f9f2a683dd0>"
       ]
      }
     ],
     "prompt_number": 10
    },
    {
     "cell_type": "code",
     "collapsed": false,
     "input": [
      "import numpy as np\n",
      "\n",
      "from nipy.modalities.fmri import hrf, utils\n",
      "\n",
      "import matplotlib.pyplot as plt\n",
      "\n",
      "\n",
      "# hrf.glover is a symbolic function; get a function of time to work on arrays\n",
      "hrf_func = utils.lambdify_t(hrf.glover(utils.T))\n",
      "\n",
      "t = np.linspace(0,25,200)\n",
      "plt.plot((0, 25), (0, 0), 'k-', alpha=0.1)\n",
      "plt.plot(t, hrf_func(t))\n",
      "a=plt.gca()\n",
      "a.set_xlabel(r'time (seconds)')\n",
      "a.set_ylabel(r'HRF model of signal')\n",
      "\n",
      "a.set_ylim([-0.15,0.40])\n",
      "\n",
      "\n",
      "plt.savefig('/media/sf_VirtualBox/HRF.png', dpi=300)"
     ],
     "language": "python",
     "metadata": {},
     "outputs": [
      {
       "metadata": {},
       "output_type": "display_data",
       "png": "[encoded data removed]",
       "text": [
        "<matplotlib.figure.Figure at 0x7f9f22fb7710>"
       ]
      }
     ],
     "prompt_number": 40
    },
    {
     "cell_type": "code",
     "collapsed": false,
     "input": [
      "norm_hrf = hrf_func(t) / max(hrf_func(t))"
     ],
     "language": "python",
     "metadata": {},
     "outputs": [],
     "prompt_number": 20
    },
    {
     "cell_type": "code",
     "collapsed": false,
     "input": [
      "import matplotlib\n",
      "\n",
      "matplotlib.rc('font',**{'family':'sans-serif','sans-serif':['Arial']})"
     ],
     "language": "python",
     "metadata": {},
     "outputs": [],
     "prompt_number": 39
    }
   ],
   "metadata": {}
  }
 ]
}