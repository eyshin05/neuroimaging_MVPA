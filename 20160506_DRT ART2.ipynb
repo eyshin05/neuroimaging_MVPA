{
 "metadata": {
  "name": "",
  "signature": "sha256:4df55d91f2f9fdc7e9411c1c258a54338d3730e3c878b6205f16543ae9886930"
 },
 "nbformat": 3,
 "nbformat_minor": 0,
 "worksheets": [
  {
   "cells": [
    {
     "cell_type": "code",
     "collapsed": false,
     "input": [
      "import os\n",
      "import glob\n",
      "from mvpa2.suite import *\n",
      "import pandas\n",
      "import numpy as np"
     ],
     "language": "python",
     "metadata": {},
     "outputs": [],
     "prompt_number": 2
    },
    {
     "cell_type": "code",
     "collapsed": false,
     "input": [
      "def calculate3FoldErrorRate(duration, onset, subject):\n",
      "    df = pandas.read_csv('/home/brain/Desktop/LAstudy/code/Files/20160414_onset_duration.csv')\n",
      "    \n",
      "    df['dummy'] = 1\n",
      "    df['duration'] = duration\n",
      "    df['onset'] += onset\n",
      "    \n",
      "    for session in range(1,4):\n",
      "        onset_limit = 520\n",
      "        if session==3:\n",
      "            onset_limit = 516\n",
      "        #reject\n",
      "        df2 = df[(df.user_id == subject) & (df.session == session) & (df.accept == '0') & (df.onset < onset_limit)]\n",
      "        df3 = df2.loc[:, ['onset', 'duration', 'dummy']]\n",
      "        df3.to_csv('/home/brain/Desktop/LAstudy/sub%03d/model/model001/onsets/task001_run%03d/cond001.txt' % (subject, session), \n",
      "                   header = False, index = False, sep = '\\t')\n",
      "        #print df3[-5:]\n",
      "\n",
      "        #accept\n",
      "        df2 = df[(df.user_id == subject) & (df.session == session) & (df.accept == '1') & (df.onset < onset_limit)]\n",
      "        df3 = df2.loc[:, ['onset', 'duration', 'dummy']]\n",
      "        df3.to_csv('/home/brain/Desktop/LAstudy/sub%03d/model/model001/onsets/task001_run%03d/cond002.txt' % (subject, session), \n",
      "                   header = False, index = False, sep = '\\t')\n",
      "        #print df3[-5:]\n",
      "   \n",
      "    path_LA = os.path.join('/home', 'brain', 'Desktop', 'LAstudy')\n",
      "    \n",
      "    dhandle = OpenFMRIDataset(path_LA)\n",
      "    \n",
      "    task = 1\n",
      "    model = 1\n",
      "    run_datasets = []\n",
      "    for run_id in dhandle.get_task_bold_run_ids(task)[subject]:\n",
      "        run_events = dhandle.get_bold_run_model(model, subject, run_id)\n",
      "        run_ds = dhandle.get_bold_run_dataset(subject, task, run_id, chunks = run_id - 1, flavor = 'preproc',\n",
      "                                              mask = path_LA+'/sub%03d/mask/mask.nii.gz'%(subject))\n",
      "        run_ds.sa['targets'] = events2sample_attr(run_events, run_ds.sa.time_coords, noinfolabel='rest')\n",
      "        run_datasets.append(run_ds)\n",
      "\n",
      "    fds = vstack(run_datasets, a=0)\n",
      "    \n",
      "    poly_detrend(fds, polyord=1, chunks_attr='chunks')\n",
      "    zscore(fds, param_est=('targets', ['rest']))\n",
      "    fds = fds[fds.sa.targets != 'rest']\n",
      "    fds.sa['runtype'] = fds.sa.chunks\n",
      "    \n",
      "    clf = kNN(k=1, dfx=one_minus_correlation, voting='majority')\n",
      "    cvte = CrossValidation(clf, NFoldPartitioner(attr='runtype'), enable_ca=['stats'])\n",
      "    cv_results = cvte(fds)\n",
      "    \n",
      "    return (np.mean(cv_results), cv_results.samples, cvte.ca.stats.matrix)"
     ],
     "language": "python",
     "metadata": {},
     "outputs": [],
     "prompt_number": 23
    },
    {
     "cell_type": "code",
     "collapsed": false,
     "input": [
      "vstack??"
     ],
     "language": "python",
     "metadata": {},
     "outputs": [],
     "prompt_number": 5
    },
    {
     "cell_type": "code",
     "collapsed": false,
     "input": [
      "subj_id = [1, 2, 4, 5, 6, 7, 8, 9, 10, 11, 12, 13, 14, 15, 16, 18, 19, 22, 23]"
     ],
     "language": "python",
     "metadata": {},
     "outputs": [],
     "prompt_number": 3
    },
    {
     "cell_type": "code",
     "collapsed": false,
     "input": [
      "for sub in subj_id:\n",
      "    print('<< subject LA_%03d >>' % sub)\n",
      "    for i in range(3, 8):\n",
      "        for j in range(0, 12):\n",
      "            mean, err, mat = calculate3FoldErrorRate(i,j,sub)\n",
      "            print '%d, %d, %f, %f, %f, %f, %d, %d, %d, %d' % (i, j, mean, err[0], err[1], err[2], \n",
      "                                                      mat[0][0], mat[1][1], mat[1][0], mat[0][1])"
     ],
     "language": "python",
     "metadata": {},
     "outputs": [
      {
       "output_type": "stream",
       "stream": "stdout",
       "text": [
        "<< subject LA_001 >>\n",
        "3, 0, 0.354028, 0.397059, 0.320197, 0.344828, 381, 13, 128, 88"
       ]
      },
      {
       "output_type": "stream",
       "stream": "stdout",
       "text": [
        "\n",
        "3, 1, 0.346600, 0.374408, 0.323810, 0.341584, 384, 23, 130, 86"
       ]
      },
      {
       "output_type": "stream",
       "stream": "stdout",
       "text": [
        "\n",
        "3, 2, 0.319601, 0.362745, 0.310345, 0.285714, 391, 24, 118, 77"
       ]
      },
      {
       "output_type": "stream",
       "stream": "stdout",
       "text": [
        "\n",
        "3, 3, 0.312347, 0.360190, 0.309524, 0.267327, 397, 31, 117, 78"
       ]
      },
      {
       "output_type": "stream",
       "stream": "stdout",
       "text": [
        "\n",
        "3, 4, 0.301579, 0.338235, 0.320197, 0.246305, 392, 34, 117, 67"
       ]
      },
      {
       "output_type": "stream",
       "stream": "stdout",
       "text": [
        "\n",
        "3, 5, 0.320628, 0.341232, 0.328571, 0.292079, 394, 29, 120, 80"
       ]
      },
      {
       "output_type": "stream",
       "stream": "stdout",
       "text": [
        "\n",
        "3, 6, 0.287264, 0.356436, 0.293532, 0.211823, 407, 25, 98, 76"
       ]
      },
      {
       "output_type": "stream",
       "stream": "stdout",
       "text": [
        "\n",
        "3, 7, 0.282421, 0.331731, 0.270531, 0.245000, 413, 28, 93, 81"
       ]
      },
      {
       "output_type": "stream",
       "stream": "stdout",
       "text": [
        "\n",
        "3, 8, 0.321142, 0.351485, 0.318408, 0.293532, 391, 19, 111, 83"
       ]
      },
      {
       "output_type": "stream",
       "stream": "stdout",
       "text": [
        "\n",
        "3, 9, 0.317067, 0.341346, 0.289855, 0.320000, 404, 16, 102, 93"
       ]
      },
      {
       "output_type": "stream",
       "stream": "stdout",
       "text": [
        "\n",
        "3, 10, 0.327784, 0.346535, 0.298507, 0.338308, 387, 19, 115, 83"
       ]
      },
      {
       "output_type": "stream",
       "stream": "stdout",
       "text": [
        "\n",
        "3, 11, 0.331173, 0.341346, 0.318841, 0.333333, 393, 17, 113, 90"
       ]
      },
      {
       "output_type": "stream",
       "stream": "stdout",
       "text": [
        "\n",
        "4, 0, 0.341188, 0.388186, 0.287554, 0.347826, 440, 21, 139, 100"
       ]
      },
      {
       "output_type": "stream",
       "stream": "stdout",
       "text": [
        "\n",
        "4, 1, 0.315096, 0.355932, 0.286325, 0.303030, 457, 23, 127, 94"
       ]
      },
      {
       "output_type": "stream",
       "stream": "stdout",
       "text": [
        "\n",
        "4, 2, 0.310917, 0.362869, 0.309013, 0.260870, 448, 34, 131, 87"
       ]
      },
      {
       "output_type": "stream",
       "stream": "stdout",
       "text": [
        "\n",
        "4, 3, 0.310650, 0.364407, 0.299145, 0.268398, 449, 34, 135, 83"
       ]
      },
      {
       "output_type": "stream",
       "stream": "stdout",
       "text": [
        "\n",
        "4, 4, 0.309503, 0.350211, 0.330472, 0.247826, 446, 37, 133, 84"
       ]
      },
      {
       "output_type": "stream",
       "stream": "stdout",
       "text": [
        "\n",
        "4, 5, 0.306210, 0.364407, 0.324786, 0.229437, 458, 28, 126, 89"
       ]
      },
      {
       "output_type": "stream",
       "stream": "stdout",
       "text": [
        "\n",
        "4, 6, 0.296445, 0.363248, 0.313043, 0.213043, 460, 28, 113, 93"
       ]
      },
      {
       "output_type": "stream",
       "stream": "stdout",
       "text": [
        "\n",
        "4, 7, 0.296974, 0.351931, 0.285714, 0.253275, 461, 26, 114, 92"
       ]
      },
      {
       "output_type": "stream",
       "stream": "stdout",
       "text": [
        "\n",
        "4, 8, 0.326306, 0.354701, 0.339130, 0.285088, 443, 23, 127, 99"
       ]
      },
      {
       "output_type": "stream",
       "stream": "stdout",
       "text": [
        "\n",
        "4, 9, 0.317326, 0.334764, 0.329004, 0.288210, 452, 21, 123, 97"
       ]
      },
      {
       "output_type": "stream",
       "stream": "stdout",
       "text": [
        "\n",
        "4, 10, 0.310327, 0.363248, 0.278261, 0.289474, 455, 22, 115, 100"
       ]
      },
      {
       "output_type": "stream",
       "stream": "stdout",
       "text": [
        "\n",
        "4, 11, 0.333320, 0.356223, 0.303030, 0.340708, 444, 16, 131, 99"
       ]
      },
      {
       "output_type": "stream",
       "stream": "stdout",
       "text": [
        "\n",
        "5, 0, 0.325701, 0.384615, 0.280488, 0.312000, 484, 17, 135, 107"
       ]
      },
      {
       "output_type": "stream",
       "stream": "stdout",
       "text": [
        "\n",
        "5, 1, 0.356225, 0.374016, 0.403162, 0.291498, 455, 30, 169, 100"
       ]
      },
      {
       "output_type": "stream",
       "stream": "stdout",
       "text": [
        "\n",
        "5, 2, 0.324509, 0.392713, 0.300813, 0.280000, 473, 29, 146, 95"
       ]
      },
      {
       "output_type": "stream",
       "stream": "stdout",
       "text": [
        "\n",
        "5, 3, 0.354780, 0.374016, 0.415020, 0.275304, 452, 34, 172, 96"
       ]
      },
      {
       "output_type": "stream",
       "stream": "stdout",
       "text": [
        "\n",
        "5, 4, 0.331441, 0.388664, 0.353659, 0.252000, 466, 31, 153, 93"
       ]
      },
      {
       "output_type": "stream",
       "stream": "stdout",
       "text": [
        "\n",
        "5, 5, 0.326405, 0.371542, 0.380952, 0.226721, 474, 32, 148, 98"
       ]
      },
      {
       "output_type": "stream",
       "stream": "stdout",
       "text": [
        "\n",
        "5, 6, 0.306191, 0.389344, 0.296296, 0.232932, 484, 27, 128, 97"
       ]
      },
      {
       "output_type": "stream",
       "stream": "stdout",
       "text": [
        "\n",
        "5, 7, 0.323696, 0.370518, 0.372000, 0.228571, 473, 31, 142, 100"
       ]
      },
      {
       "output_type": "stream",
       "stream": "stdout",
       "text": [
        "\n",
        "5, 8, 0.324254, 0.348361, 0.370370, 0.254032, 473, 24, 136, 102"
       ]
      },
      {
       "output_type": "stream",
       "stream": "stdout",
       "text": [
        "\n",
        "5, 9, 0.311852, 0.314741, 0.380000, 0.240816, 483, 30, 132, 101"
       ]
      },
      {
       "output_type": "stream",
       "stream": "stdout",
       "text": [
        "\n",
        "5, 10, 0.314906, 0.348361, 0.325103, 0.271255, 483, 20, 126, 105"
       ]
      },
      {
       "output_type": "stream",
       "stream": "stdout",
       "text": [
        "\n",
        "5, 11, 0.316874, 0.320000, 0.341365, 0.289256, 486, 20, 127, 108"
       ]
      },
      {
       "output_type": "stream",
       "stream": "stdout",
       "text": [
        "\n",
        "6, 0, 0.379250, 0.341085, 0.351351, 0.445312, 459, 21, 182, 111"
       ]
      },
      {
       "output_type": "stream",
       "stream": "stdout",
       "text": [
        "\n",
        "6, 1, 0.313301, 0.342412, 0.347490, 0.250000, 502, 28, 140, 102"
       ]
      },
      {
       "output_type": "stream",
       "stream": "stdout",
       "text": [
        "\n",
        "6, 2, 0.418905, 0.341085, 0.532819, 0.382812, 413, 36, 228, 96"
       ]
      },
      {
       "output_type": "stream",
       "stream": "stdout",
       "text": [
        "\n",
        "6, 3, 0.372669, 0.319066, 0.490347, 0.308594, 446, 38, 196, 92"
       ]
      },
      {
       "output_type": "stream",
       "stream": "stdout",
       "text": [
        "\n",
        "6, 4, 0.381201, 0.338521, 0.449612, 0.355469, 440, 37, 199, 95"
       ]
      },
      {
       "output_type": "stream",
       "stream": "stdout",
       "text": [
        "\n",
        "6, 5, 0.349604, 0.320312, 0.410853, 0.317647, 464, 36, 175, 94"
       ]
      },
      {
       "output_type": "stream",
       "stream": "stdout",
       "text": [
        "\n",
        "6, 6, 0.279284, 0.325490, 0.347656, 0.164706, 517, 35, 117, 97"
       ]
      },
      {
       "output_type": "stream",
       "stream": "stdout",
       "text": [
        "\n",
        "6, 7, 0.279958, 0.311024, 0.335938, 0.192913, 520, 30, 112, 102"
       ]
      },
      {
       "output_type": "stream",
       "stream": "stdout",
       "text": [
        "\n",
        "6, 8, 0.274369, 0.329412, 0.300781, 0.192913, 529, 26, 102, 108"
       ]
      },
      {
       "output_type": "stream",
       "stream": "stdout",
       "text": [
        "\n",
        "6, 9, 0.306650, 0.326772, 0.308594, 0.284585, 508, 21, 124, 110"
       ]
      },
      {
       "output_type": "stream",
       "stream": "stdout",
       "text": [
        "\n",
        "6, 10, 0.284625, 0.334646, 0.317647, 0.201581, 522, 23, 107, 110"
       ]
      },
      {
       "output_type": "stream",
       "stream": "stdout",
       "text": [
        "\n",
        "6, 11, 0.313867, 0.324111, 0.325490, 0.292000, 500, 20, 130, 108"
       ]
      },
      {
       "output_type": "stream",
       "stream": "stdout",
       "text": [
        "\n",
        "7, 0, 0.389023, 0.344961, 0.359073, 0.463035, 450, 23, 192, 109"
       ]
      },
      {
       "output_type": "stream",
       "stream": "stdout",
       "text": [
        "\n",
        "7, 1, 0.369215, 0.306202, 0.457692, 0.343750, 473, 15, 171, 115"
       ]
      },
      {
       "output_type": "stream",
       "stream": "stdout",
       "text": [
        "\n",
        "7, 2, 0.398944, 0.348837, 0.532819, 0.315175, 430, 35, 212, 97"
       ]
      },
      {
       "output_type": "stream",
       "stream": "stdout",
       "text": [
        "\n",
        "7, 3, 0.372669, 0.319066, 0.490347, 0.308594, 446, 38, 196, 92"
       ]
      },
      {
       "output_type": "stream",
       "stream": "stdout",
       "text": [
        "\n",
        "7, 4, 0.381201, 0.338521, 0.449612, 0.355469, 440, 37, 199, 95"
       ]
      },
      {
       "output_type": "stream",
       "stream": "stdout",
       "text": [
        "\n",
        "7, 5, 0.349604, 0.320312, 0.410853, 0.317647, 464, 36, 175, 94"
       ]
      },
      {
       "output_type": "stream",
       "stream": "stdout",
       "text": [
        "\n",
        "7, 6, 0.279284, 0.325490, 0.347656, 0.164706, 517, 35, 117, 97"
       ]
      },
      {
       "output_type": "stream",
       "stream": "stdout",
       "text": [
        "\n",
        "7, 7, 0.299194, 0.313725, 0.233463, 0.350394, 515, 22, 119, 110"
       ]
      },
      {
       "output_type": "stream",
       "stream": "stdout",
       "text": [
        "\n",
        "7, 8, 0.274369, 0.329412, 0.300781, 0.192913, 529, 26, 102, 108"
       ]
      },
      {
       "output_type": "stream",
       "stream": "stdout",
       "text": [
        "\n",
        "7, 9, 0.306650, 0.326772, 0.308594, 0.284585, 508, 21, 124, 110"
       ]
      },
      {
       "output_type": "stream",
       "stream": "stdout",
       "text": [
        "\n",
        "7, 10, 0.284625, 0.334646, 0.317647, 0.201581, 522, 23, 107, 110"
       ]
      },
      {
       "output_type": "stream",
       "stream": "stdout",
       "text": [
        "\n",
        "7, 11, 0.309506, 0.320158, 0.325490, 0.282869, 505, 19, 126, 109"
       ]
      },
      {
       "output_type": "stream",
       "stream": "stdout",
       "text": [
        "\n",
        "<< subject LA_002 >>\n",
        "3, 0, 0.506551, 0.539216, 0.487685, 0.492754, 145, 158, 153, 158"
       ]
      },
      {
       "output_type": "stream",
       "stream": "stdout",
       "text": [
        "\n",
        "3, 1, 0.492253, 0.500000, 0.519048, 0.457711, 151, 164, 159, 147"
       ]
      },
      {
       "output_type": "stream",
       "stream": "stdout",
       "text": [
        "\n",
        "3, 2, 0.482263, 0.485294, 0.507389, 0.454106, 144, 174, 154, 142"
       ]
      },
      {
       "output_type": "stream",
       "stream": "stdout",
       "text": [
        "\n",
        "3, 3, 0.490666, 0.476190, 0.538095, 0.457711, 156, 160, 154, 151"
       ]
      },
      {
       "output_type": "stream",
       "stream": "stdout",
       "text": [
        "\n",
        "3, 4, 0.474046, 0.450980, 0.507389, 0.463768, 138, 185, 160, 131"
       ]
      },
      {
       "output_type": "stream",
       "stream": "stdout",
       "text": [
        "\n",
        "3, 5, 0.455603, 0.438095, 0.480952, 0.447761, 147, 191, 163, 120"
       ]
      },
      {
       "output_type": "stream",
       "stream": "stdout",
       "text": [
        "\n",
        "3, 6, 0.447593, 0.405941, 0.487562, 0.449275, 135, 202, 161, 112"
       ]
      },
      {
       "output_type": "stream",
       "stream": "stdout",
       "text": [
        "\n",
        "3, 7, 0.454843, 0.449275, 0.483092, 0.432161, 150, 184, 155, 124"
       ]
      },
      {
       "output_type": "stream",
       "stream": "stdout",
       "text": [
        "\n",
        "3, 8, 0.492749, 0.475248, 0.537313, 0.465686, 131, 177, 162, 137"
       ]
      },
      {
       "output_type": "stream",
       "stream": "stdout",
       "text": [
        "\n",
        "3, 9, 0.498968, 0.483092, 0.531401, 0.482412, 142, 165, 163, 143"
       ]
      },
      {
       "output_type": "stream",
       "stream": "stdout",
       "text": [
        "\n",
        "3, 10, 0.476157, 0.480198, 0.482587, 0.465686, 153, 165, 140, 149"
       ]
      },
      {
       "output_type": "stream",
       "stream": "stdout",
       "text": [
        "\n",
        "3, 11, 0.467596, 0.478261, 0.502415, 0.422111, 177, 149, 128, 159"
       ]
      },
      {
       "output_type": "stream",
       "stream": "stdout",
       "text": [
        "\n",
        "4, 0, 0.471031, 0.523207, 0.442060, 0.447826, 186, 184, 159, 171"
       ]
      },
      {
       "output_type": "stream",
       "stream": "stdout",
       "text": [
        "\n",
        "4, 1, 0.504799, 0.536170, 0.525641, 0.452586, 178, 169, 173, 181"
       ]
      },
      {
       "output_type": "stream",
       "stream": "stdout",
       "text": [
        "\n",
        "4, 2, 0.452614, 0.455696, 0.502146, 0.400000, 178, 205, 167, 150"
       ]
      },
      {
       "output_type": "stream",
       "stream": "stdout",
       "text": [
        "\n",
        "4, 3, 0.489270, 0.463830, 0.538462, 0.465517, 179, 179, 172, 171"
       ]
      },
      {
       "output_type": "stream",
       "stream": "stdout",
       "text": [
        "\n",
        "4, 4, 0.437378, 0.400844, 0.467811, 0.443478, 175, 219, 170, 136"
       ]
      },
      {
       "output_type": "stream",
       "stream": "stdout",
       "text": [
        "\n",
        "4, 5, 0.455093, 0.429787, 0.482906, 0.452586, 178, 204, 173, 146"
       ]
      },
      {
       "output_type": "stream",
       "stream": "stdout",
       "text": [
        "\n",
        "4, 6, 0.451096, 0.435897, 0.482609, 0.434783, 167, 214, 175, 138"
       ]
      },
      {
       "output_type": "stream",
       "stream": "stdout",
       "text": [
        "\n",
        "4, 7, 0.481316, 0.461207, 0.476190, 0.506550, 163, 196, 182, 151"
       ]
      },
      {
       "output_type": "stream",
       "stream": "stdout",
       "text": [
        "\n",
        "4, 8, 0.436387, 0.431624, 0.460870, 0.416667, 182, 208, 158, 144"
       ]
      },
      {
       "output_type": "stream",
       "stream": "stdout",
       "text": [
        "\n",
        "4, 9, 0.479797, 0.452586, 0.510823, 0.475983, 167, 193, 178, 154"
       ]
      },
      {
       "output_type": "stream",
       "stream": "stdout",
       "text": [
        "\n",
        "4, 10, 0.444959, 0.457265, 0.452174, 0.425439, 187, 197, 153, 155"
       ]
      },
      {
       "output_type": "stream",
       "stream": "stdout",
       "text": [
        "\n",
        "4, 11, 0.447850, 0.461207, 0.471861, 0.410480, 207, 175, 138, 172"
       ]
      },
      {
       "output_type": "stream",
       "stream": "stdout",
       "text": [
        "\n",
        "5, 0, 0.490569, 0.526316, 0.467480, 0.477912, 200, 178, 166, 198"
       ]
      },
      {
       "output_type": "stream",
       "stream": "stdout",
       "text": [
        "\n",
        "5, 1, 0.499720, 0.527559, 0.517787, 0.453815, 207, 171, 174, 204"
       ]
      },
      {
       "output_type": "stream",
       "stream": "stdout",
       "text": [
        "\n",
        "5, 2, 0.470456, 0.489879, 0.483740, 0.437751, 190, 203, 176, 173"
       ]
      },
      {
       "output_type": "stream",
       "stream": "stdout",
       "text": [
        "\n",
        "5, 3, 0.442943, 0.460630, 0.454545, 0.413655, 215, 206, 166, 169"
       ]
      },
      {
       "output_type": "stream",
       "stream": "stdout",
       "text": [
        "\n",
        "5, 4, 0.467633, 0.429150, 0.487805, 0.485944, 181, 214, 185, 162"
       ]
      },
      {
       "output_type": "stream",
       "stream": "stdout",
       "text": [
        "\n",
        "5, 5, 0.434918, 0.442688, 0.448413, 0.413655, 218, 208, 162, 166"
       ]
      },
      {
       "output_type": "stream",
       "stream": "stdout",
       "text": [
        "\n",
        "5, 6, 0.491328, 0.463115, 0.539095, 0.471774, 173, 201, 189, 172"
       ]
      },
      {
       "output_type": "stream",
       "stream": "stdout",
       "text": [
        "\n",
        "5, 7, 0.486758, 0.474104, 0.472000, 0.514170, 179, 205, 197, 167"
       ]
      },
      {
       "output_type": "stream",
       "stream": "stdout",
       "text": [
        "\n",
        "5, 8, 0.472142, 0.479508, 0.493827, 0.443089, 183, 204, 177, 169"
       ]
      },
      {
       "output_type": "stream",
       "stream": "stdout",
       "text": [
        "\n",
        "5, 9, 0.449074, 0.470120, 0.452000, 0.425101, 211, 201, 165, 171"
       ]
      },
      {
       "output_type": "stream",
       "stream": "stdout",
       "text": [
        "\n",
        "5, 10, 0.454331, 0.487705, 0.440329, 0.434959, 210, 190, 150, 183"
       ]
      },
      {
       "output_type": "stream",
       "stream": "stdout",
       "text": [
        "\n",
        "5, 11, 0.406579, 0.420000, 0.421687, 0.378049, 236, 206, 138, 165"
       ]
      },
      {
       "output_type": "stream",
       "stream": "stdout",
       "text": [
        "\n",
        "6, 0, 0.503333, 0.519380, 0.467181, 0.523438, 169, 215, 215, 174"
       ]
      },
      {
       "output_type": "stream",
       "stream": "stdout",
       "text": [
        "\n",
        "6, 1, 0.577097, 0.610895, 0.528958, 0.591440, 140, 187, 250, 196"
       ]
      },
      {
       "output_type": "stream",
       "stream": "stdout",
       "text": [
        "\n",
        "6, 2, 0.500920, 0.492248, 0.436293, 0.574219, 151, 235, 233, 154"
       ]
      },
      {
       "output_type": "stream",
       "stream": "stdout",
       "text": [
        "\n",
        "6, 3, 0.499567, 0.560311, 0.416988, 0.521401, 206, 181, 184, 202"
       ]
      },
      {
       "output_type": "stream",
       "stream": "stdout",
       "text": [
        "\n",
        "6, 4, 0.478528, 0.529183, 0.480620, 0.425781, 236, 166, 147, 222"
       ]
      },
      {
       "output_type": "stream",
       "stream": "stdout",
       "text": [
        "\n",
        "6, 5, 0.485828, 0.492188, 0.441860, 0.523438, 192, 204, 196, 178"
       ]
      },
      {
       "output_type": "stream",
       "stream": "stdout",
       "text": [
        "\n",
        "6, 6, 0.479044, 0.486275, 0.531250, 0.419608, 245, 154, 135, 232"
       ]
      },
      {
       "output_type": "stream",
       "stream": "stdout",
       "text": [
        "\n",
        "6, 7, 0.513031, 0.503937, 0.535156, 0.500000, 201, 171, 183, 209"
       ]
      },
      {
       "output_type": "stream",
       "stream": "stdout",
       "text": [
        "\n",
        "6, 8, 0.514997, 0.501961, 0.535156, 0.507874, 221, 150, 158, 236"
       ]
      },
      {
       "output_type": "stream",
       "stream": "stdout",
       "text": [
        "\n",
        "6, 9, 0.539339, 0.539370, 0.511719, 0.566929, 212, 140, 172, 240"
       ]
      },
      {
       "output_type": "stream",
       "stream": "stdout",
       "text": [
        "\n",
        "6, 10, 0.517190, 0.527559, 0.462745, 0.561265, 211, 157, 166, 228"
       ]
      },
      {
       "output_type": "stream",
       "stream": "stdout",
       "text": [
        "\n",
        "6, 11, 0.517885, 0.561265, 0.462745, 0.529644, 219, 148, 163, 231"
       ]
      },
      {
       "output_type": "stream",
       "stream": "stdout",
       "text": [
        "\n",
        "7, 0, 0.550388, 0.569767, 0.540541, 0.540856, 133, 215, 252, 174"
       ]
      },
      {
       "output_type": "stream",
       "stream": "stdout",
       "text": [
        "\n",
        "7, 1, 0.553666, 0.542636, 0.526923, 0.591440, 164, 182, 227, 202"
       ]
      },
      {
       "output_type": "stream",
       "stream": "stdout",
       "text": [
        "\n",
        "7, 2, 0.471596, 0.519380, 0.440154, 0.455253, 221, 188, 164, 201"
       ]
      },
      {
       "output_type": "stream",
       "stream": "stdout",
       "text": [
        "\n",
        "7, 3, 0.499567, 0.560311, 0.416988, 0.521401, 206, 181, 184, 202"
       ]
      },
      {
       "output_type": "stream",
       "stream": "stdout",
       "text": [
        "\n",
        "7, 4, 0.478528, 0.529183, 0.480620, 0.425781, 236, 166, 147, 222"
       ]
      },
      {
       "output_type": "stream",
       "stream": "stdout",
       "text": [
        "\n",
        "7, 5, 0.485828, 0.492188, 0.441860, 0.523438, 192, 204, 196, 178"
       ]
      },
      {
       "output_type": "stream",
       "stream": "stdout",
       "text": [
        "\n",
        "7, 6, 0.479044, 0.486275, 0.531250, 0.419608, 245, 154, 135, 232"
       ]
      },
      {
       "output_type": "stream",
       "stream": "stdout",
       "text": [
        "\n",
        "7, 7, 0.504723, 0.501961, 0.443580, 0.568627, 203, 177, 183, 204"
       ]
      },
      {
       "output_type": "stream",
       "stream": "stdout",
       "text": [
        "\n",
        "7, 8, 0.514997, 0.501961, 0.535156, 0.507874, 221, 150, 158, 236"
       ]
      },
      {
       "output_type": "stream",
       "stream": "stdout",
       "text": [
        "\n",
        "7, 9, 0.539339, 0.539370, 0.511719, 0.566929, 212, 140, 172, 240"
       ]
      },
      {
       "output_type": "stream",
       "stream": "stdout",
       "text": [
        "\n",
        "7, 10, 0.517190, 0.527559, 0.462745, 0.561265, 211, 157, 166, 228"
       ]
      },
      {
       "output_type": "stream",
       "stream": "stdout",
       "text": [
        "\n",
        "7, 11, 0.517885, 0.561265, 0.462745, 0.529644, 219, 148, 163, 231"
       ]
      },
      {
       "output_type": "stream",
       "stream": "stdout",
       "text": [
        "\n",
        "<< subject LA_004 >>\n",
        "3, 0, 0.389347, 0.480392, 0.445545, 0.242105, 323, 39, 107, 127"
       ]
      },
      {
       "output_type": "stream",
       "stream": "stdout",
       "text": [
        "\n",
        "3, 1, 0.371723, 0.457143, 0.413462, 0.244565, 333, 42, 100, 127"
       ]
      },
      {
       "output_type": "stream",
       "stream": "stdout",
       "text": [
        "\n",
        "3, 2, 0.364197, 0.416667, 0.381188, 0.294737, 327, 51, 103, 115"
       ]
      },
      {
       "output_type": "stream",
       "stream": "stdout",
       "text": [
        "\n",
        "3, 3, 0.352939, 0.404762, 0.360577, 0.293478, 331, 57, 102, 112"
       ]
      },
      {
       "output_type": "stream",
       "stream": "stdout",
       "text": [
        "\n",
        "3, 4, 0.368741, 0.387255, 0.366337, 0.352632, 321, 55, 109, 111"
       ]
      },
      {
       "output_type": "stream",
       "stream": "stdout",
       "text": [
        "\n",
        "3, 5, 0.337741, 0.385714, 0.355769, 0.271739, 329, 68, 104, 101"
       ]
      },
      {
       "output_type": "stream",
       "stream": "stdout",
       "text": [
        "\n",
        "3, 6, 0.395516, 0.450495, 0.415000, 0.321053, 308, 49, 120, 115"
       ]
      },
      {
       "output_type": "stream",
       "stream": "stdout",
       "text": [
        "\n",
        "3, 7, 0.377255, 0.463768, 0.409756, 0.258242, 316, 51, 112, 115"
       ]
      },
      {
       "output_type": "stream",
       "stream": "stdout",
       "text": [
        "\n",
        "3, 8, 0.428709, 0.514851, 0.500000, 0.271277, 292, 43, 133, 122"
       ]
      },
      {
       "output_type": "stream",
       "stream": "stdout",
       "text": [
        "\n",
        "3, 9, 0.401647, 0.526570, 0.414634, 0.263736, 301, 51, 127, 115"
       ]
      },
      {
       "output_type": "stream",
       "stream": "stdout",
       "text": [
        "\n",
        "3, 10, 0.416669, 0.509901, 0.405000, 0.335106, 284, 59, 141, 106"
       ]
      },
      {
       "output_type": "stream",
       "stream": "stdout",
       "text": [
        "\n",
        "3, 11, 0.377862, 0.487923, 0.351220, 0.294444, 312, 54, 116, 110"
       ]
      },
      {
       "output_type": "stream",
       "stream": "stdout",
       "text": [
        "\n",
        "4, 0, 0.366196, 0.464135, 0.431624, 0.202830, 390, 39, 101, 153"
       ]
      },
      {
       "output_type": "stream",
       "stream": "stdout",
       "text": [
        "\n",
        "4, 1, 0.365665, 0.438298, 0.408696, 0.250000, 376, 51, 117, 133"
       ]
      },
      {
       "output_type": "stream",
       "stream": "stdout",
       "text": [
        "\n",
        "4, 2, 0.355572, 0.434599, 0.363248, 0.268868, 381, 57, 110, 135"
       ]
      },
      {
       "output_type": "stream",
       "stream": "stdout",
       "text": [
        "\n",
        "4, 3, 0.363747, 0.408511, 0.347826, 0.334906, 371, 59, 122, 125"
       ]
      },
      {
       "output_type": "stream",
       "stream": "stdout",
       "text": [
        "\n",
        "4, 4, 0.367757, 0.400844, 0.367521, 0.334906, 369, 62, 122, 130"
       ]
      },
      {
       "output_type": "stream",
       "stream": "stdout",
       "text": [
        "\n",
        "4, 5, 0.370471, 0.429787, 0.360870, 0.320755, 368, 57, 125, 127"
       ]
      },
      {
       "output_type": "stream",
       "stream": "stdout",
       "text": [
        "\n",
        "4, 6, 0.369176, 0.423077, 0.415584, 0.268868, 363, 62, 125, 127"
       ]
      },
      {
       "output_type": "stream",
       "stream": "stdout",
       "text": [
        "\n",
        "4, 7, 0.385870, 0.448276, 0.414097, 0.295238, 353, 56, 134, 126"
       ]
      },
      {
       "output_type": "stream",
       "stream": "stdout",
       "text": [
        "\n",
        "4, 8, 0.396048, 0.512821, 0.437229, 0.238095, 344, 60, 141, 130"
       ]
      },
      {
       "output_type": "stream",
       "stream": "stdout",
       "text": [
        "\n",
        "4, 9, 0.396248, 0.521552, 0.405286, 0.261905, 346, 55, 141, 127"
       ]
      },
      {
       "output_type": "stream",
       "stream": "stdout",
       "text": [
        "\n",
        "4, 10, 0.368598, 0.487179, 0.337662, 0.280952, 349, 75, 136, 115"
       ]
      },
      {
       "output_type": "stream",
       "stream": "stdout",
       "text": [
        "\n",
        "4, 11, 0.360360, 0.478448, 0.312775, 0.289855, 358, 66, 129, 113"
       ]
      },
      {
       "output_type": "stream",
       "stream": "stdout",
       "text": [
        "\n",
        "5, 0, 0.388138, 0.473684, 0.453441, 0.237288, 406, 39, 126, 159"
       ]
      },
      {
       "output_type": "stream",
       "stream": "stdout",
       "text": [
        "\n",
        "5, 1, 0.346367, 0.444882, 0.405622, 0.188596, 439, 35, 90, 167"
       ]
      },
      {
       "output_type": "stream",
       "stream": "stdout",
       "text": [
        "\n",
        "5, 2, 0.375838, 0.445344, 0.364372, 0.317797, 405, 50, 127, 148"
       ]
      },
      {
       "output_type": "stream",
       "stream": "stdout",
       "text": [
        "\n",
        "5, 3, 0.352435, 0.433071, 0.365462, 0.258772, 416, 55, 113, 147"
       ]
      },
      {
       "output_type": "stream",
       "stream": "stdout",
       "text": [
        "\n",
        "5, 4, 0.380075, 0.441296, 0.368421, 0.330508, 400, 52, 132, 146"
       ]
      },
      {
       "output_type": "stream",
       "stream": "stdout",
       "text": [
        "\n",
        "5, 5, 0.349137, 0.430830, 0.370968, 0.245614, 412, 60, 116, 141"
       ]
      },
      {
       "output_type": "stream",
       "stream": "stdout",
       "text": [
        "\n",
        "5, 6, 0.393007, 0.442623, 0.438525, 0.297872, 378, 60, 150, 135"
       ]
      },
      {
       "output_type": "stream",
       "stream": "stdout",
       "text": [
        "\n",
        "5, 7, 0.349910, 0.438247, 0.390244, 0.221239, 406, 61, 118, 138"
       ]
      },
      {
       "output_type": "stream",
       "stream": "stdout",
       "text": [
        "\n",
        "5, 8, 0.405609, 0.459016, 0.467213, 0.290598, 359, 69, 166, 128"
       ]
      },
      {
       "output_type": "stream",
       "stream": "stdout",
       "text": [
        "\n",
        "5, 9, 0.345869, 0.470120, 0.337398, 0.230088, 401, 69, 123, 130"
       ]
      },
      {
       "output_type": "stream",
       "stream": "stdout",
       "text": [
        "\n",
        "5, 10, 0.377594, 0.467213, 0.356557, 0.309013, 370, 78, 155, 118"
       ]
      },
      {
       "output_type": "stream",
       "stream": "stdout",
       "text": [
        "\n",
        "5, 11, 0.327471, 0.468000, 0.285714, 0.228700, 414, 66, 108, 130"
       ]
      },
      {
       "output_type": "stream",
       "stream": "stdout",
       "text": [
        "\n",
        "6, 0, 0.364772, 0.476744, 0.395349, 0.222222, 461, 19, 90, 189"
       ]
      },
      {
       "output_type": "stream",
       "stream": "stdout",
       "text": [
        "\n",
        "6, 1, 0.359774, 0.482490, 0.385214, 0.211618, 466, 15, 85, 189"
       ]
      },
      {
       "output_type": "stream",
       "stream": "stdout",
       "text": [
        "\n",
        "6, 2, 0.460188, 0.488372, 0.546512, 0.345679, 364, 44, 187, 164"
       ]
      },
      {
       "output_type": "stream",
       "stream": "stdout",
       "text": [
        "\n",
        "6, 3, 0.382421, 0.486381, 0.357977, 0.302905, 435, 30, 116, 174"
       ]
      },
      {
       "output_type": "stream",
       "stream": "stdout",
       "text": [
        "\n",
        "6, 4, 0.485474, 0.494163, 0.583658, 0.378601, 334, 54, 216, 153"
       ]
      },
      {
       "output_type": "stream",
       "stream": "stdout",
       "text": [
        "\n",
        "6, 5, 0.367622, 0.445312, 0.386719, 0.270833, 419, 55, 130, 148"
       ]
      },
      {
       "output_type": "stream",
       "stream": "stdout",
       "text": [
        "\n",
        "6, 6, 0.381175, 0.450980, 0.415686, 0.276860, 394, 70, 154, 134"
       ]
      },
      {
       "output_type": "stream",
       "stream": "stdout",
       "text": [
        "\n",
        "6, 7, 0.353364, 0.433071, 0.409449, 0.217573, 419, 62, 126, 140"
       ]
      },
      {
       "output_type": "stream",
       "stream": "stdout",
       "text": [
        "\n",
        "6, 8, 0.522230, 0.439216, 0.662745, 0.464730, 264, 94, 281, 112"
       ]
      },
      {
       "output_type": "stream",
       "stream": "stdout",
       "text": [
        "\n",
        "6, 9, 0.345012, 0.417323, 0.374016, 0.243697, 418, 69, 127, 132"
       ]
      },
      {
       "output_type": "stream",
       "stream": "stdout",
       "text": [
        "\n",
        "6, 10, 0.484482, 0.429134, 0.511811, 0.512500, 305, 81, 238, 124"
       ]
      },
      {
       "output_type": "stream",
       "stream": "stdout",
       "text": [
        "\n",
        "6, 11, 0.336451, 0.434783, 0.332016, 0.242553, 432, 58, 111, 140"
       ]
      },
      {
       "output_type": "stream",
       "stream": "stdout",
       "text": [
        "\n",
        "7, 0, 0.356997, 0.465116, 0.395349, 0.210526, 464, 25, 91, 183"
       ]
      },
      {
       "output_type": "stream",
       "stream": "stdout",
       "text": [
        "\n",
        "7, 1, 0.490433, 0.488372, 0.544402, 0.438525, 342, 45, 213, 161"
       ]
      },
      {
       "output_type": "stream",
       "stream": "stdout",
       "text": [
        "\n",
        "7, 2, 0.462370, 0.496124, 0.538760, 0.352227, 360, 49, 195, 159"
       ]
      },
      {
       "output_type": "stream",
       "stream": "stdout",
       "text": [
        "\n",
        "7, 3, 0.485505, 0.501946, 0.577519, 0.377049, 338, 51, 216, 154"
       ]
      },
      {
       "output_type": "stream",
       "stream": "stdout",
       "text": [
        "\n",
        "7, 4, 0.482580, 0.490272, 0.587549, 0.369919, 338, 54, 215, 153"
       ]
      },
      {
       "output_type": "stream",
       "stream": "stdout",
       "text": [
        "\n",
        "7, 5, 0.501146, 0.449219, 0.630350, 0.423868, 297, 79, 255, 125"
       ]
      },
      {
       "output_type": "stream",
       "stream": "stdout",
       "text": [
        "\n",
        "7, 6, 0.375910, 0.435294, 0.435294, 0.257143, 400, 70, 151, 134"
       ]
      },
      {
       "output_type": "stream",
       "stream": "stdout",
       "text": [
        "\n",
        "7, 7, 0.496607, 0.435294, 0.628906, 0.425620, 283, 95, 267, 108"
       ]
      },
      {
       "output_type": "stream",
       "stream": "stdout",
       "text": [
        "\n",
        "7, 8, 0.523058, 0.435294, 0.666667, 0.467213, 266, 93, 282, 113"
       ]
      },
      {
       "output_type": "stream",
       "stream": "stdout",
       "text": [
        "\n",
        "7, 9, 0.469060, 0.440945, 0.509804, 0.456432, 319, 79, 229, 123"
       ]
      },
      {
       "output_type": "stream",
       "stream": "stdout",
       "text": [
        "\n",
        "7, 10, 0.476886, 0.433071, 0.507874, 0.489712, 311, 82, 235, 123"
       ]
      },
      {
       "output_type": "stream",
       "stream": "stdout",
       "text": [
        "\n",
        "7, 11, 0.440385, 0.422925, 0.488189, 0.410042, 339, 78, 208, 121"
       ]
      },
      {
       "output_type": "stream",
       "stream": "stdout",
       "text": [
        "\n",
        "<< subject LA_005 >>\n",
        "3, 0, 0.322167, 0.348039, 0.232323, 0.386139, 28, 381, 106, 89"
       ]
      },
      {
       "output_type": "stream",
       "stream": "stdout",
       "text": [
        "\n",
        "3, 1, 0.318927, 0.355450, 0.213270, 0.388060, 29, 396, 97, 101"
       ]
      },
      {
       "output_type": "stream",
       "stream": "stdout",
       "text": [
        "\n",
        "3, 2, 0.338953, 0.352941, 0.277778, 0.386139, 33, 366, 101, 104"
       ]
      },
      {
       "output_type": "stream",
       "stream": "stdout",
       "text": [
        "\n",
        "3, 3, 0.309055, 0.293839, 0.270142, 0.363184, 36, 395, 90, 102"
       ]
      },
      {
       "output_type": "stream",
       "stream": "stdout",
       "text": [
        "\n",
        "3, 4, 0.347569, 0.343137, 0.328283, 0.371287, 35, 359, 99, 111"
       ]
      },
      {
       "output_type": "stream",
       "stream": "stdout",
       "text": [
        "\n",
        "3, 5, 0.295788, 0.293839, 0.270142, 0.323383, 38, 401, 88, 96"
       ]
      },
      {
       "output_type": "stream",
       "stream": "stdout",
       "text": [
        "\n",
        "3, 6, 0.311511, 0.326733, 0.295918, 0.311881, 33, 380, 101, 86"
       ]
      },
      {
       "output_type": "stream",
       "stream": "stdout",
       "text": [
        "\n",
        "3, 7, 0.334984, 0.336538, 0.331731, 0.336683, 23, 386, 103, 103"
       ]
      },
      {
       "output_type": "stream",
       "stream": "stdout",
       "text": [
        "\n",
        "3, 8, 0.377016, 0.356436, 0.382653, 0.391960, 27, 345, 107, 118"
       ]
      },
      {
       "output_type": "stream",
       "stream": "stdout",
       "text": [
        "\n",
        "3, 9, 0.371988, 0.379808, 0.389423, 0.346734, 19, 367, 107, 122"
       ]
      },
      {
       "output_type": "stream",
       "stream": "stdout",
       "text": [
        "\n",
        "3, 10, 0.412047, 0.415842, 0.413265, 0.407035, 29, 322, 105, 141"
       ]
      },
      {
       "output_type": "stream",
       "stream": "stdout",
       "text": [
        "\n",
        "3, 11, 0.389761, 0.408654, 0.403846, 0.356784, 20, 355, 106, 134"
       ]
      },
      {
       "output_type": "stream",
       "stream": "stdout",
       "text": [
        "\n",
        "4, 0, 0.326357, 0.308017, 0.263158, 0.407895, 31, 436, 117, 109"
       ]
      },
      {
       "output_type": "stream",
       "stream": "stdout",
       "text": [
        "\n",
        "4, 1, 0.317891, 0.300847, 0.269565, 0.383260, 35, 438, 114, 106"
       ]
      },
      {
       "output_type": "stream",
       "stream": "stdout",
       "text": [
        "\n",
        "4, 2, 0.343900, 0.308017, 0.333333, 0.390351, 36, 419, 112, 126"
       ]
      },
      {
       "output_type": "stream",
       "stream": "stdout",
       "text": [
        "\n",
        "4, 3, 0.331085, 0.292373, 0.300000, 0.400881, 41, 423, 108, 121"
       ]
      },
      {
       "output_type": "stream",
       "stream": "stdout",
       "text": [
        "\n",
        "4, 4, 0.326301, 0.312236, 0.320175, 0.346491, 41, 426, 107, 119"
       ]
      },
      {
       "output_type": "stream",
       "stream": "stdout",
       "text": [
        "\n",
        "4, 5, 0.330320, 0.351695, 0.295652, 0.343612, 46, 418, 103, 126"
       ]
      },
      {
       "output_type": "stream",
       "stream": "stdout",
       "text": [
        "\n",
        "4, 6, 0.351030, 0.324786, 0.351111, 0.377193, 31, 415, 117, 124"
       ]
      },
      {
       "output_type": "stream",
       "stream": "stdout",
       "text": [
        "\n",
        "4, 7, 0.377406, 0.351931, 0.405286, 0.375000, 27, 399, 122, 136"
       ]
      },
      {
       "output_type": "stream",
       "stream": "stdout",
       "text": [
        "\n",
        "4, 8, 0.389060, 0.376068, 0.386667, 0.404444, 28, 390, 120, 146"
       ]
      },
      {
       "output_type": "stream",
       "stream": "stdout",
       "text": [
        "\n",
        "4, 9, 0.378985, 0.330472, 0.449339, 0.357143, 30, 395, 119, 140"
       ]
      },
      {
       "output_type": "stream",
       "stream": "stdout",
       "text": [
        "\n",
        "4, 10, 0.384615, 0.376068, 0.408889, 0.368889, 31, 390, 117, 146"
       ]
      },
      {
       "output_type": "stream",
       "stream": "stdout",
       "text": [
        "\n",
        "4, 11, 0.399414, 0.356223, 0.462555, 0.379464, 25, 386, 124, 149"
       ]
      },
      {
       "output_type": "stream",
       "stream": "stdout",
       "text": [
        "\n",
        "5, 0, 0.302684, 0.311741, 0.246914, 0.349398, 35, 480, 127, 97"
       ]
      },
      {
       "output_type": "stream",
       "stream": "stdout",
       "text": [
        "\n",
        "5, 1, 0.326663, 0.307087, 0.305556, 0.367347, 44, 462, 113, 132"
       ]
      },
      {
       "output_type": "stream",
       "stream": "stdout",
       "text": [
        "\n",
        "5, 2, 0.343528, 0.307692, 0.333333, 0.389558, 43, 442, 119, 135"
       ]
      },
      {
       "output_type": "stream",
       "stream": "stdout",
       "text": [
        "\n",
        "5, 3, 0.329518, 0.299213, 0.301587, 0.387755, 41, 463, 116, 131"
       ]
      },
      {
       "output_type": "stream",
       "stream": "stdout",
       "text": [
        "\n",
        "5, 4, 0.374193, 0.384615, 0.292181, 0.445783, 50, 412, 112, 165"
       ]
      },
      {
       "output_type": "stream",
       "stream": "stdout",
       "text": [
        "\n",
        "5, 5, 0.380964, 0.316206, 0.410359, 0.416327, 35, 429, 122, 163"
       ]
      },
      {
       "output_type": "stream",
       "stream": "stdout",
       "text": [
        "\n",
        "5, 6, 0.387403, 0.331967, 0.362500, 0.467742, 34, 414, 128, 156"
       ]
      },
      {
       "output_type": "stream",
       "stream": "stdout",
       "text": [
        "\n",
        "5, 7, 0.423836, 0.398406, 0.451613, 0.421488, 26, 401, 131, 183"
       ]
      },
      {
       "output_type": "stream",
       "stream": "stdout",
       "text": [
        "\n",
        "5, 8, 0.382816, 0.327869, 0.408333, 0.412245, 27, 423, 135, 144"
       ]
      },
      {
       "output_type": "stream",
       "stream": "stdout",
       "text": [
        "\n",
        "5, 9, 0.400633, 0.378486, 0.455645, 0.367769, 32, 412, 125, 172"
       ]
      },
      {
       "output_type": "stream",
       "stream": "stdout",
       "text": [
        "\n",
        "5, 10, 0.374596, 0.327869, 0.400000, 0.395918, 29, 427, 133, 140"
       ]
      },
      {
       "output_type": "stream",
       "stream": "stdout",
       "text": [
        "\n",
        "5, 11, 0.407858, 0.380000, 0.475806, 0.367769, 34, 404, 123, 179"
       ]
      },
      {
       "output_type": "stream",
       "stream": "stdout",
       "text": [
        "\n",
        "6, 0, 0.326328, 0.313953, 0.375969, 0.289062, 35, 485, 130, 122"
       ]
      },
      {
       "output_type": "stream",
       "stream": "stdout",
       "text": [
        "\n",
        "6, 1, 0.343151, 0.346304, 0.430233, 0.252918, 39, 468, 124, 141"
       ]
      },
      {
       "output_type": "stream",
       "stream": "stdout",
       "text": [
        "\n",
        "6, 2, 0.352754, 0.286822, 0.255814, 0.515625, 37, 463, 128, 144"
       ]
      },
      {
       "output_type": "stream",
       "stream": "stdout",
       "text": [
        "\n",
        "6, 3, 0.404302, 0.361868, 0.282946, 0.568093, 46, 414, 117, 195"
       ]
      },
      {
       "output_type": "stream",
       "stream": "stdout",
       "text": [
        "\n",
        "6, 4, 0.375608, 0.295720, 0.237354, 0.593750, 36, 445, 129, 160"
       ]
      },
      {
       "output_type": "stream",
       "stream": "stdout",
       "text": [
        "\n",
        "6, 5, 0.396730, 0.285156, 0.311284, 0.593750, 33, 431, 130, 175"
       ]
      },
      {
       "output_type": "stream",
       "stream": "stdout",
       "text": [
        "\n",
        "6, 6, 0.382085, 0.298039, 0.295276, 0.552941, 33, 439, 132, 160"
       ]
      },
      {
       "output_type": "stream",
       "stream": "stdout",
       "text": [
        "\n",
        "6, 7, 0.346903, 0.318898, 0.381890, 0.339921, 20, 477, 143, 121"
       ]
      },
      {
       "output_type": "stream",
       "stream": "stdout",
       "text": [
        "\n",
        "6, 8, 0.354836, 0.337255, 0.366142, 0.361111, 20, 471, 145, 125"
       ]
      },
      {
       "output_type": "stream",
       "stream": "stdout",
       "text": [
        "\n",
        "6, 9, 0.344242, 0.338583, 0.381890, 0.312253, 16, 483, 147, 115"
       ]
      },
      {
       "output_type": "stream",
       "stream": "stdout",
       "text": [
        "\n",
        "6, 10, 0.344665, 0.307087, 0.409449, 0.317460, 23, 475, 142, 120"
       ]
      },
      {
       "output_type": "stream",
       "stream": "stdout",
       "text": [
        "\n",
        "6, 11, 0.349901, 0.292490, 0.425197, 0.332016, 18, 476, 145, 121"
       ]
      },
      {
       "output_type": "stream",
       "stream": "stdout",
       "text": [
        "\n",
        "7, 0, 0.337571, 0.317829, 0.414729, 0.280156, 36, 476, 129, 132"
       ]
      },
      {
       "output_type": "stream",
       "stream": "stdout",
       "text": [
        "\n",
        "7, 1, 0.341043, 0.430233, 0.312741, 0.280156, 41, 469, 122, 142"
       ]
      },
      {
       "output_type": "stream",
       "stream": "stdout",
       "text": [
        "\n",
        "7, 2, 0.399944, 0.360465, 0.282946, 0.556420, 42, 422, 123, 186"
       ]
      },
      {
       "output_type": "stream",
       "stream": "stdout",
       "text": [
        "\n",
        "7, 3, 0.404302, 0.361868, 0.282946, 0.568093, 46, 414, 117, 195"
       ]
      },
      {
       "output_type": "stream",
       "stream": "stdout",
       "text": [
        "\n",
        "7, 4, 0.375608, 0.295720, 0.237354, 0.593750, 36, 445, 129, 160"
       ]
      },
      {
       "output_type": "stream",
       "stream": "stdout",
       "text": [
        "\n",
        "7, 5, 0.396730, 0.285156, 0.311284, 0.593750, 33, 431, 130, 175"
       ]
      },
      {
       "output_type": "stream",
       "stream": "stdout",
       "text": [
        "\n",
        "7, 6, 0.382085, 0.298039, 0.295276, 0.552941, 33, 439, 132, 160"
       ]
      },
      {
       "output_type": "stream",
       "stream": "stdout",
       "text": [
        "\n",
        "7, 7, 0.347294, 0.329412, 0.372549, 0.339921, 21, 477, 142, 123"
       ]
      },
      {
       "output_type": "stream",
       "stream": "stdout",
       "text": [
        "\n",
        "7, 8, 0.358318, 0.341176, 0.354331, 0.379447, 19, 470, 146, 127"
       ]
      },
      {
       "output_type": "stream",
       "stream": "stdout",
       "text": [
        "\n",
        "7, 9, 0.351560, 0.311024, 0.427451, 0.316206, 16, 478, 147, 121"
       ]
      },
      {
       "output_type": "stream",
       "stream": "stdout",
       "text": [
        "\n",
        "7, 10, 0.363984, 0.318898, 0.417323, 0.355731, 22, 462, 143, 134"
       ]
      },
      {
       "output_type": "stream",
       "stream": "stdout",
       "text": [
        "\n",
        "7, 11, 0.349901, 0.292490, 0.425197, 0.332016, 18, 476, 145, 121"
       ]
      },
      {
       "output_type": "stream",
       "stream": "stdout",
       "text": [
        "\n",
        "<< subject LA_006 >>\n",
        "3, 0, 0.403083, 0.445596, 0.407216, 0.356436, 318, 34, 128, 109"
       ]
      },
      {
       "output_type": "stream",
       "stream": "stdout",
       "text": [
        "\n",
        "3, 1, 0.366842, 0.393035, 0.349282, 0.358209, 348, 39, 123, 101"
       ]
      },
      {
       "output_type": "stream",
       "stream": "stdout",
       "text": [
        "\n",
        "3, 2, 0.366228, 0.352332, 0.345361, 0.400990, 336, 37, 110, 106"
       ]
      },
      {
       "output_type": "stream",
       "stream": "stdout",
       "text": [
        "\n",
        "3, 3, 0.363271, 0.358209, 0.368421, 0.363184, 353, 36, 118, 104"
       ]
      },
      {
       "output_type": "stream",
       "stream": "stdout",
       "text": [
        "\n",
        "3, 4, 0.363063, 0.352332, 0.355670, 0.381188, 335, 40, 111, 103"
       ]
      },
      {
       "output_type": "stream",
       "stream": "stdout",
       "text": [
        "\n",
        "3, 5, 0.336864, 0.313433, 0.358852, 0.338308, 368, 37, 103, 103"
       ]
      },
      {
       "output_type": "stream",
       "stream": "stdout",
       "text": [
        "\n",
        "3, 6, 0.351170, 0.392670, 0.348958, 0.311881, 341, 39, 103, 102"
       ]
      },
      {
       "output_type": "stream",
       "stream": "stdout",
       "text": [
        "\n",
        "3, 7, 0.332981, 0.338384, 0.364078, 0.296482, 371, 31, 95, 106"
       ]
      },
      {
       "output_type": "stream",
       "stream": "stdout",
       "text": [
        "\n",
        "3, 8, 0.342117, 0.345550, 0.354167, 0.326633, 346, 37, 95, 104"
       ]
      },
      {
       "output_type": "stream",
       "stream": "stdout",
       "text": [
        "\n",
        "3, 9, 0.341666, 0.353535, 0.339806, 0.331658, 359, 38, 107, 99"
       ]
      },
      {
       "output_type": "stream",
       "stream": "stdout",
       "text": [
        "\n",
        "3, 10, 0.374467, 0.366492, 0.375000, 0.381910, 330, 34, 111, 107"
       ]
      },
      {
       "output_type": "stream",
       "stream": "stdout",
       "text": [
        "\n",
        "3, 11, 0.328264, 0.318182, 0.334951, 0.331658, 371, 34, 95, 103"
       ]
      },
      {
       "output_type": "stream",
       "stream": "stdout",
       "text": [
        "\n",
        "4, 0, 0.393716, 0.423423, 0.380531, 0.377193, 364, 46, 151, 115"
       ]
      },
      {
       "output_type": "stream",
       "stream": "stdout",
       "text": [
        "\n",
        "4, 1, 0.386999, 0.382883, 0.368421, 0.409692, 377, 38, 139, 123"
       ]
      },
      {
       "output_type": "stream",
       "stream": "stdout",
       "text": [
        "\n",
        "4, 2, 0.360882, 0.360360, 0.340708, 0.381579, 384, 48, 131, 113"
       ]
      },
      {
       "output_type": "stream",
       "stream": "stdout",
       "text": [
        "\n",
        "4, 3, 0.373544, 0.346847, 0.350877, 0.422907, 382, 42, 134, 119"
       ]
      },
      {
       "output_type": "stream",
       "stream": "stdout",
       "text": [
        "\n",
        "4, 4, 0.374078, 0.355856, 0.367257, 0.399123, 382, 41, 133, 120"
       ]
      },
      {
       "output_type": "stream",
       "stream": "stdout",
       "text": [
        "\n",
        "4, 5, 0.354435, 0.346847, 0.364035, 0.352423, 396, 41, 120, 120"
       ]
      },
      {
       "output_type": "stream",
       "stream": "stdout",
       "text": [
        "\n",
        "4, 6, 0.355513, 0.365297, 0.376682, 0.324561, 392, 40, 120, 118"
       ]
      },
      {
       "output_type": "stream",
       "stream": "stdout",
       "text": [
        "\n",
        "4, 7, 0.355010, 0.383562, 0.351111, 0.330357, 396, 35, 114, 123"
       ]
      },
      {
       "output_type": "stream",
       "stream": "stdout",
       "text": [
        "\n",
        "4, 8, 0.358492, 0.374429, 0.367713, 0.333333, 385, 43, 124, 115"
       ]
      },
      {
       "output_type": "stream",
       "stream": "stdout",
       "text": [
        "\n",
        "4, 9, 0.348921, 0.360731, 0.328889, 0.357143, 395, 40, 115, 118"
       ]
      },
      {
       "output_type": "stream",
       "stream": "stdout",
       "text": [
        "\n",
        "4, 10, 0.355232, 0.347032, 0.349776, 0.368889, 390, 40, 119, 118"
       ]
      },
      {
       "output_type": "stream",
       "stream": "stdout",
       "text": [
        "\n",
        "4, 11, 0.351735, 0.342466, 0.346667, 0.366071, 398, 35, 112, 123"
       ]
      },
      {
       "output_type": "stream",
       "stream": "stdout",
       "text": [
        "\n",
        "5, 0, 0.408496, 0.432773, 0.423237, 0.369478, 388, 43, 159, 138"
       ]
      },
      {
       "output_type": "stream",
       "stream": "stdout",
       "text": [
        "\n",
        "5, 1, 0.382681, 0.399177, 0.361111, 0.387755, 402, 55, 163, 120"
       ]
      },
      {
       "output_type": "stream",
       "stream": "stdout",
       "text": [
        "\n",
        "5, 2, 0.382795, 0.378151, 0.348548, 0.421687, 398, 51, 149, 130"
       ]
      },
      {
       "output_type": "stream",
       "stream": "stdout",
       "text": [
        "\n",
        "5, 3, 0.353336, 0.378601, 0.293651, 0.387755, 427, 52, 138, 123"
       ]
      },
      {
       "output_type": "stream",
       "stream": "stdout",
       "text": [
        "\n",
        "5, 4, 0.377388, 0.365546, 0.360996, 0.405622, 399, 54, 148, 127"
       ]
      },
      {
       "output_type": "stream",
       "stream": "stdout",
       "text": [
        "\n",
        "5, 5, 0.329246, 0.334711, 0.334661, 0.318367, 452, 43, 112, 131"
       ]
      },
      {
       "output_type": "stream",
       "stream": "stdout",
       "text": [
        "\n",
        "5, 6, 0.356646, 0.357447, 0.369748, 0.342742, 413, 51, 130, 127"
       ]
      },
      {
       "output_type": "stream",
       "stream": "stdout",
       "text": [
        "\n",
        "5, 7, 0.347342, 0.376569, 0.326613, 0.338843, 432, 44, 126, 127"
       ]
      },
      {
       "output_type": "stream",
       "stream": "stdout",
       "text": [
        "\n",
        "5, 8, 0.355039, 0.365957, 0.327731, 0.371429, 411, 52, 129, 126"
       ]
      },
      {
       "output_type": "stream",
       "stream": "stdout",
       "text": [
        "\n",
        "5, 9, 0.336168, 0.347280, 0.330645, 0.330579, 446, 38, 112, 133"
       ]
      },
      {
       "output_type": "stream",
       "stream": "stdout",
       "text": [
        "\n",
        "5, 10, 0.361886, 0.357447, 0.344538, 0.383673, 408, 50, 132, 128"
       ]
      },
      {
       "output_type": "stream",
       "stream": "stdout",
       "text": [
        "\n",
        "5, 11, 0.336114, 0.317992, 0.322581, 0.367769, 457, 27, 101, 144"
       ]
      },
      {
       "output_type": "stream",
       "stream": "stdout",
       "text": [
        "\n",
        "6, 0, 0.425543, 0.418972, 0.439689, 0.417969, 376, 64, 200, 126"
       ]
      },
      {
       "output_type": "stream",
       "stream": "stdout",
       "text": [
        "\n",
        "6, 1, 0.435906, 0.416667, 0.435798, 0.455253, 372, 60, 210, 124"
       ]
      },
      {
       "output_type": "stream",
       "stream": "stdout",
       "text": [
        "\n",
        "6, 2, 0.433115, 0.367589, 0.470817, 0.460938, 378, 56, 198, 134"
       ]
      },
      {
       "output_type": "stream",
       "stream": "stdout",
       "text": [
        "\n",
        "6, 3, 0.383639, 0.357143, 0.369650, 0.424125, 407, 65, 175, 119"
       ]
      },
      {
       "output_type": "stream",
       "stream": "stdout",
       "text": [
        "\n",
        "6, 4, 0.404142, 0.345238, 0.375000, 0.492188, 400, 55, 175, 134"
       ]
      },
      {
       "output_type": "stream",
       "stream": "stdout",
       "text": [
        "\n",
        "6, 5, 0.390329, 0.354582, 0.363281, 0.453125, 413, 52, 167, 131"
       ]
      },
      {
       "output_type": "stream",
       "stream": "stdout",
       "text": [
        "\n",
        "6, 6, 0.390777, 0.373494, 0.351779, 0.447059, 400, 61, 171, 125"
       ]
      },
      {
       "output_type": "stream",
       "stream": "stdout",
       "text": [
        "\n",
        "6, 7, 0.399045, 0.375000, 0.328063, 0.494071, 400, 53, 174, 127"
       ]
      },
      {
       "output_type": "stream",
       "stream": "stdout",
       "text": [
        "\n",
        "6, 8, 0.407202, 0.397590, 0.347826, 0.476190, 402, 45, 166, 141"
       ]
      },
      {
       "output_type": "stream",
       "stream": "stdout",
       "text": [
        "\n",
        "6, 9, 0.392563, 0.391129, 0.324111, 0.462451, 411, 47, 163, 133"
       ]
      },
      {
       "output_type": "stream",
       "stream": "stdout",
       "text": [
        "\n",
        "6, 10, 0.372561, 0.329317, 0.332016, 0.456349, 433, 40, 135, 146"
       ]
      },
      {
       "output_type": "stream",
       "stream": "stdout",
       "text": [
        "\n",
        "6, 11, 0.355301, 0.334677, 0.296443, 0.434783, 443, 43, 131, 137"
       ]
      },
      {
       "output_type": "stream",
       "stream": "stdout",
       "text": [
        "\n",
        "7, 0, 0.430952, 0.421260, 0.428016, 0.443580, 372, 65, 206, 125"
       ]
      },
      {
       "output_type": "stream",
       "stream": "stdout",
       "text": [
        "\n",
        "7, 1, 0.453141, 0.414062, 0.521236, 0.424125, 361, 61, 225, 125"
       ]
      },
      {
       "output_type": "stream",
       "stream": "stdout",
       "text": [
        "\n",
        "7, 2, 0.433301, 0.358268, 0.509728, 0.431907, 376, 59, 202, 131"
       ]
      },
      {
       "output_type": "stream",
       "stream": "stdout",
       "text": [
        "\n",
        "7, 3, 0.415530, 0.388235, 0.403101, 0.455253, 393, 57, 192, 128"
       ]
      },
      {
       "output_type": "stream",
       "stream": "stdout",
       "text": [
        "\n",
        "7, 4, 0.410197, 0.343874, 0.394531, 0.492188, 394, 57, 182, 132"
       ]
      },
      {
       "output_type": "stream",
       "stream": "stdout",
       "text": [
        "\n",
        "7, 5, 0.409188, 0.322835, 0.389105, 0.515625, 388, 65, 195, 119"
       ]
      },
      {
       "output_type": "stream",
       "stream": "stdout",
       "text": [
        "\n",
        "7, 6, 0.395544, 0.376000, 0.355731, 0.454902, 394, 64, 178, 122"
       ]
      },
      {
       "output_type": "stream",
       "stream": "stdout",
       "text": [
        "\n",
        "7, 7, 0.390912, 0.361111, 0.329412, 0.482213, 415, 48, 164, 133"
       ]
      },
      {
       "output_type": "stream",
       "stream": "stdout",
       "text": [
        "\n",
        "7, 8, 0.414013, 0.412000, 0.363636, 0.466403, 398, 45, 172, 141"
       ]
      },
      {
       "output_type": "stream",
       "stream": "stdout",
       "text": [
        "\n",
        "7, 9, 0.372560, 0.353175, 0.290196, 0.474308, 434, 43, 145, 138"
       ]
      },
      {
       "output_type": "stream",
       "stream": "stdout",
       "text": [
        "\n",
        "7, 10, 0.382092, 0.336000, 0.332016, 0.478261, 419, 48, 151, 138"
       ]
      },
      {
       "output_type": "stream",
       "stream": "stdout",
       "text": [
        "\n",
        "7, 11, 0.323218, 0.302789, 0.283465, 0.383399, 469, 44, 108, 137"
       ]
      },
      {
       "output_type": "stream",
       "stream": "stdout",
       "text": [
        "\n",
        "<< subject LA_007 >>"
       ]
      },
      {
       "output_type": "stream",
       "stream": "stdout",
       "text": [
        "\n",
        "3, 0, 0.212765, 0.228155, 0.212121, 0.198020, 9, 468, 70, 59"
       ]
      },
      {
       "output_type": "stream",
       "stream": "stdout",
       "text": [
        "\n",
        "3, 1, 0.209249, 0.259804, 0.191176, 0.176768, 12, 467, 67, 60"
       ]
      },
      {
       "output_type": "stream",
       "stream": "stdout",
       "text": [
        "\n",
        "3, 2, 0.200981, 0.228155, 0.176768, 0.198020, 11, 473, 68, 54"
       ]
      },
      {
       "output_type": "stream",
       "stream": "stdout",
       "text": [
        "\n",
        "3, 3, 0.227570, 0.284314, 0.186275, 0.212121, 12, 456, 67, 71"
       ]
      },
      {
       "output_type": "stream",
       "stream": "stdout",
       "text": [
        "\n",
        "3, 4, 0.200816, 0.233010, 0.156566, 0.212871, 7, 477, 72, 50"
       ]
      },
      {
       "output_type": "stream",
       "stream": "stdout",
       "text": [
        "\n",
        "3, 5, 0.196376, 0.215686, 0.176471, 0.196970, 11, 476, 68, 51"
       ]
      },
      {
       "output_type": "stream",
       "stream": "stdout",
       "text": [
        "\n",
        "3, 6, 0.184190, 0.210784, 0.173469, 0.168317, 16, 475, 61, 50"
       ]
      },
      {
       "output_type": "stream",
       "stream": "stdout",
       "text": [
        "\n",
        "3, 7, 0.186965, 0.233831, 0.179104, 0.147959, 10, 476, 66, 46"
       ]
      },
      {
       "output_type": "stream",
       "stream": "stdout",
       "text": [
        "\n",
        "3, 8, 0.179320, 0.250000, 0.147959, 0.140000, 12, 480, 65, 43"
       ]
      },
      {
       "output_type": "stream",
       "stream": "stdout",
       "text": [
        "\n",
        "3, 9, 0.188623, 0.248756, 0.169154, 0.147959, 9, 476, 67, 46"
       ]
      },
      {
       "output_type": "stream",
       "stream": "stdout",
       "text": [
        "\n",
        "3, 10, 0.199156, 0.274510, 0.147959, 0.175000, 12, 468, 65, 55"
       ]
      },
      {
       "output_type": "stream",
       "stream": "stdout",
       "text": [
        "\n",
        "3, 11, 0.204837, 0.268657, 0.180905, 0.164948, 6, 466, 70, 52"
       ]
      },
      {
       "output_type": "stream",
       "stream": "stdout",
       "text": [
        "\n",
        "4, 0, 0.214604, 0.245690, 0.208696, 0.189427, 10, 531, 79, 69"
       ]
      },
      {
       "output_type": "stream",
       "stream": "stdout",
       "text": [
        "\n",
        "4, 1, 0.220544, 0.260684, 0.207965, 0.192982, 14, 522, 76, 76"
       ]
      },
      {
       "output_type": "stream",
       "stream": "stdout",
       "text": [
        "\n",
        "4, 2, 0.208775, 0.250000, 0.191304, 0.185022, 12, 533, 77, 67"
       ]
      },
      {
       "output_type": "stream",
       "stream": "stdout",
       "text": [
        "\n",
        "4, 3, 0.220427, 0.260684, 0.168142, 0.232456, 12, 524, 78, 74"
       ]
      },
      {
       "output_type": "stream",
       "stream": "stdout",
       "text": [
        "\n",
        "4, 4, 0.197263, 0.228448, 0.173913, 0.189427, 9, 544, 80, 56"
       ]
      },
      {
       "output_type": "stream",
       "stream": "stdout",
       "text": [
        "\n",
        "4, 5, 0.203323, 0.217949, 0.190265, 0.201754, 11, 537, 79, 61"
       ]
      },
      {
       "output_type": "stream",
       "stream": "stdout",
       "text": [
        "\n",
        "4, 6, 0.174140, 0.205240, 0.167401, 0.149780, 12, 552, 74, 45"
       ]
      },
      {
       "output_type": "stream",
       "stream": "stdout",
       "text": [
        "\n",
        "4, 7, 0.180230, 0.225108, 0.160714, 0.154867, 13, 545, 74, 49"
       ]
      },
      {
       "output_type": "stream",
       "stream": "stdout",
       "text": [
        "\n",
        "4, 8, 0.186178, 0.257642, 0.149780, 0.151111, 10, 544, 76, 51"
       ]
      },
      {
       "output_type": "stream",
       "stream": "stdout",
       "text": [
        "\n",
        "4, 9, 0.196090, 0.272727, 0.156250, 0.159292, 7, 540, 80, 54"
       ]
      },
      {
       "output_type": "stream",
       "stream": "stdout",
       "text": [
        "\n",
        "4, 10, 0.199381, 0.275109, 0.158590, 0.164444, 9, 536, 77, 59"
       ]
      },
      {
       "output_type": "stream",
       "stream": "stdout",
       "text": [
        "\n",
        "4, 11, 0.209458, 0.277056, 0.171946, 0.179372, 9, 524, 78, 64"
       ]
      },
      {
       "output_type": "stream",
       "stream": "stdout",
       "text": [
        "\n",
        "5, 0, 0.197972, 0.234127, 0.173554, 0.186235, 16, 578, 80, 67"
       ]
      },
      {
       "output_type": "stream",
       "stream": "stdout",
       "text": [
        "\n",
        "5, 1, 0.199539, 0.232000, 0.178862, 0.187755, 19, 574, 77, 71"
       ]
      },
      {
       "output_type": "stream",
       "stream": "stdout",
       "text": [
        "\n",
        "5, 2, 0.195242, 0.222222, 0.157025, 0.206478, 11, 585, 85, 60"
       ]
      },
      {
       "output_type": "stream",
       "stream": "stdout",
       "text": [
        "\n",
        "5, 3, 0.210352, 0.240000, 0.191057, 0.200000, 10, 575, 86, 70"
       ]
      },
      {
       "output_type": "stream",
       "stream": "stdout",
       "text": [
        "\n",
        "5, 4, 0.200508, 0.250000, 0.165289, 0.186235, 10, 582, 86, 63"
       ]
      },
      {
       "output_type": "stream",
       "stream": "stdout",
       "text": [
        "\n",
        "5, 5, 0.206808, 0.248996, 0.179592, 0.191837, 4, 582, 91, 62"
       ]
      },
      {
       "output_type": "stream",
       "stream": "stdout",
       "text": [
        "\n",
        "5, 6, 0.191347, 0.236948, 0.154167, 0.182927, 18, 576, 75, 66"
       ]
      },
      {
       "output_type": "stream",
       "stream": "stdout",
       "text": [
        "\n",
        "5, 7, 0.181488, 0.231707, 0.164609, 0.148148, 8, 591, 84, 49"
       ]
      },
      {
       "output_type": "stream",
       "stream": "stdout",
       "text": [
        "\n",
        "5, 8, 0.203258, 0.297189, 0.116667, 0.195918, 11, 573, 82, 68"
       ]
      },
      {
       "output_type": "stream",
       "stream": "stdout",
       "text": [
        "\n",
        "5, 9, 0.190973, 0.260163, 0.148148, 0.164609, 10, 582, 82, 58"
       ]
      },
      {
       "output_type": "stream",
       "stream": "stdout",
       "text": [
        "\n",
        "5, 10, 0.202602, 0.277108, 0.138075, 0.192623, 11, 572, 82, 67"
       ]
      },
      {
       "output_type": "stream",
       "stream": "stdout",
       "text": [
        "\n",
        "5, 11, 0.191125, 0.231707, 0.158333, 0.183333, 8, 579, 84, 55"
       ]
      },
      {
       "output_type": "stream",
       "stream": "stdout",
       "text": [
        "\n",
        "6, 0, 0.195280, 0.239382, 0.165354, 0.181102, 13, 604, 87, 63"
       ]
      },
      {
       "output_type": "stream",
       "stream": "stdout",
       "text": [
        "\n",
        "6, 1, 0.185111, 0.236434, 0.145669, 0.173228, 11, 613, 90, 52"
       ]
      },
      {
       "output_type": "stream",
       "stream": "stdout",
       "text": [
        "\n",
        "6, 2, 0.186271, 0.212355, 0.153543, 0.192913, 12, 612, 88, 55"
       ]
      },
      {
       "output_type": "stream",
       "stream": "stdout",
       "text": [
        "\n",
        "6, 3, 0.193046, 0.224806, 0.141732, 0.212598, 6, 612, 95, 53"
       ]
      },
      {
       "output_type": "stream",
       "stream": "stdout",
       "text": [
        "\n",
        "6, 4, 0.197246, 0.213178, 0.154150, 0.224409, 7, 607, 92, 59"
       ]
      },
      {
       "output_type": "stream",
       "stream": "stdout",
       "text": [
        "\n",
        "6, 5, 0.201709, 0.225681, 0.138340, 0.241107, 8, 601, 92, 62"
       ]
      },
      {
       "output_type": "stream",
       "stream": "stdout",
       "text": [
        "\n",
        "6, 6, 0.201235, 0.254902, 0.123506, 0.225296, 16, 590, 80, 73"
       ]
      },
      {
       "output_type": "stream",
       "stream": "stdout",
       "text": [
        "\n",
        "6, 7, 0.195049, 0.271654, 0.119048, 0.194444, 12, 598, 85, 63"
       ]
      },
      {
       "output_type": "stream",
       "stream": "stdout",
       "text": [
        "\n",
        "6, 8, 0.177770, 0.243137, 0.123506, 0.166667, 9, 614, 87, 48"
       ]
      },
      {
       "output_type": "stream",
       "stream": "stdout",
       "text": [
        "\n",
        "6, 9, 0.171717, 0.232283, 0.115538, 0.167331, 11, 615, 86, 44"
       ]
      },
      {
       "output_type": "stream",
       "stream": "stdout",
       "text": [
        "\n",
        "6, 10, 0.176964, 0.219608, 0.132000, 0.179283, 6, 616, 90, 44"
       ]
      },
      {
       "output_type": "stream",
       "stream": "stdout",
       "text": [
        "\n",
        "6, 11, 0.180813, 0.224409, 0.128514, 0.189516, 8, 607, 89, 47"
       ]
      },
      {
       "output_type": "stream",
       "stream": "stdout",
       "text": [
        "\n",
        "7, 0, 0.196053, 0.254826, 0.145098, 0.188235, 9, 609, 91, 60"
       ]
      },
      {
       "output_type": "stream",
       "stream": "stdout",
       "text": [
        "\n",
        "7, 1, 0.171122, 0.189189, 0.167315, 0.156863, 12, 627, 90, 42"
       ]
      },
      {
       "output_type": "stream",
       "stream": "stdout",
       "text": [
        "\n",
        "7, 2, 0.177975, 0.212355, 0.145098, 0.176471, 9, 623, 91, 46"
       ]
      },
      {
       "output_type": "stream",
       "stream": "stdout",
       "text": [
        "\n",
        "7, 3, 0.185898, 0.213178, 0.148438, 0.196078, 8, 618, 93, 50"
       ]
      },
      {
       "output_type": "stream",
       "stream": "stdout",
       "text": [
        "\n",
        "7, 4, 0.186606, 0.201550, 0.145669, 0.212598, 7, 616, 92, 51"
       ]
      },
      {
       "output_type": "stream",
       "stream": "stdout",
       "text": [
        "\n",
        "7, 5, 0.198401, 0.225681, 0.141176, 0.228346, 8, 606, 92, 60"
       ]
      },
      {
       "output_type": "stream",
       "stream": "stdout",
       "text": [
        "\n",
        "7, 6, 0.198274, 0.254902, 0.118577, 0.221344, 16, 594, 80, 71"
       ]
      },
      {
       "output_type": "stream",
       "stream": "stdout",
       "text": [
        "\n",
        "7, 7, 0.183662, 0.235294, 0.129921, 0.185771, 10, 612, 87, 53"
       ]
      },
      {
       "output_type": "stream",
       "stream": "stdout",
       "text": [
        "\n",
        "7, 8, 0.177591, 0.247059, 0.119048, 0.166667, 8, 616, 88, 47"
       ]
      },
      {
       "output_type": "stream",
       "stream": "stdout",
       "text": [
        "\n",
        "7, 9, 0.173554, 0.223529, 0.122530, 0.174603, 7, 621, 90, 42"
       ]
      },
      {
       "output_type": "stream",
       "stream": "stdout",
       "text": [
        "\n",
        "7, 10, 0.170190, 0.211765, 0.119522, 0.179283, 7, 621, 89, 40"
       ]
      },
      {
       "output_type": "stream",
       "stream": "stdout",
       "text": [
        "\n",
        "7, 11, 0.178607, 0.228346, 0.131474, 0.176000, 9, 611, 88, 47"
       ]
      },
      {
       "output_type": "stream",
       "stream": "stdout",
       "text": [
        "\n",
        "<< subject LA_008 >>\n",
        "3, 0, 0.261722, 0.291262, 0.256281, 0.237624, 16, 432, 102, 57"
       ]
      },
      {
       "output_type": "stream",
       "stream": "stdout",
       "text": [
        "\n",
        "3, 1, 0.265105, 0.318627, 0.242857, 0.233831, 7, 445, 103, 60"
       ]
      },
      {
       "output_type": "stream",
       "stream": "stdout",
       "text": [
        "\n",
        "3, 2, 0.307791, 0.349515, 0.306533, 0.267327, 13, 407, 105, 82"
       ]
      },
      {
       "output_type": "stream",
       "stream": "stdout",
       "text": [
        "\n",
        "3, 3, 0.296090, 0.338235, 0.271429, 0.278607, 10, 423, 100, 82"
       ]
      },
      {
       "output_type": "stream",
       "stream": "stdout",
       "text": [
        "\n",
        "3, 4, 0.311245, 0.330097, 0.311558, 0.292079, 14, 404, 104, 85"
       ]
      },
      {
       "output_type": "stream",
       "stream": "stdout",
       "text": [
        "\n",
        "3, 5, 0.286093, 0.333333, 0.276190, 0.248756, 18, 421, 92, 84"
       ]
      },
      {
       "output_type": "stream",
       "stream": "stdout",
       "text": [
        "\n",
        "3, 6, 0.310113, 0.348039, 0.324873, 0.257426, 21, 395, 95, 92"
       ]
      },
      {
       "output_type": "stream",
       "stream": "stdout",
       "text": [
        "\n",
        "3, 7, 0.294911, 0.348259, 0.280193, 0.256281, 15, 413, 92, 87"
       ]
      },
      {
       "output_type": "stream",
       "stream": "stdout",
       "text": [
        "\n",
        "3, 8, 0.319443, 0.382353, 0.309645, 0.266332, 19, 389, 97, 95"
       ]
      },
      {
       "output_type": "stream",
       "stream": "stdout",
       "text": [
        "\n",
        "3, 9, 0.311641, 0.393035, 0.270531, 0.271357, 13, 405, 94, 95"
       ]
      },
      {
       "output_type": "stream",
       "stream": "stdout",
       "text": [
        "\n",
        "3, 10, 0.296031, 0.367647, 0.284264, 0.236181, 19, 403, 97, 81"
       ]
      },
      {
       "output_type": "stream",
       "stream": "stdout",
       "text": [
        "\n",
        "3, 11, 0.288115, 0.338308, 0.289855, 0.236181, 15, 417, 92, 83"
       ]
      },
      {
       "output_type": "stream",
       "stream": "stdout",
       "text": [
        "\n",
        "4, 0, 0.262830, 0.306034, 0.236842, 0.245614, 19, 488, 112, 69"
       ]
      },
      {
       "output_type": "stream",
       "stream": "stdout",
       "text": [
        "\n",
        "4, 1, 0.285603, 0.354701, 0.255411, 0.246696, 10, 484, 119, 79"
       ]
      },
      {
       "output_type": "stream",
       "stream": "stdout",
       "text": [
        "\n",
        "4, 2, 0.278862, 0.314655, 0.271930, 0.250000, 18, 478, 113, 79"
       ]
      },
      {
       "output_type": "stream",
       "stream": "stdout",
       "text": [
        "\n",
        "4, 3, 0.306089, 0.341880, 0.290043, 0.286344, 16, 464, 113, 99"
       ]
      },
      {
       "output_type": "stream",
       "stream": "stdout",
       "text": [
        "\n",
        "4, 4, 0.300892, 0.297414, 0.293860, 0.311404, 28, 453, 103, 104"
       ]
      },
      {
       "output_type": "stream",
       "stream": "stdout",
       "text": [
        "\n",
        "4, 5, 0.291550, 0.337607, 0.272727, 0.264317, 25, 465, 104, 98"
       ]
      },
      {
       "output_type": "stream",
       "stream": "stdout",
       "text": [
        "\n",
        "4, 6, 0.319678, 0.353712, 0.337778, 0.267544, 20, 444, 108, 110"
       ]
      },
      {
       "output_type": "stream",
       "stream": "stdout",
       "text": [
        "\n",
        "4, 7, 0.298189, 0.346320, 0.298246, 0.250000, 22, 457, 104, 100"
       ]
      },
      {
       "output_type": "stream",
       "stream": "stdout",
       "text": [
        "\n",
        "4, 8, 0.338334, 0.406114, 0.324444, 0.284444, 14, 435, 114, 116"
       ]
      },
      {
       "output_type": "stream",
       "stream": "stdout",
       "text": [
        "\n",
        "4, 9, 0.305520, 0.359307, 0.293860, 0.263393, 17, 457, 109, 100"
       ]
      },
      {
       "output_type": "stream",
       "stream": "stdout",
       "text": [
        "\n",
        "4, 10, 0.317593, 0.406114, 0.293333, 0.253333, 16, 447, 112, 104"
       ]
      },
      {
       "output_type": "stream",
       "stream": "stdout",
       "text": [
        "\n",
        "4, 11, 0.309875, 0.372294, 0.289474, 0.267857, 21, 450, 105, 107"
       ]
      },
      {
       "output_type": "stream",
       "stream": "stdout",
       "text": [
        "\n",
        "5, 0, 0.286825, 0.337302, 0.254098, 0.269076, 18, 513, 125, 89"
       ]
      },
      {
       "output_type": "stream",
       "stream": "stdout",
       "text": [
        "\n",
        "5, 1, 0.263524, 0.312000, 0.250000, 0.228571, 18, 532, 122, 75"
       ]
      },
      {
       "output_type": "stream",
       "stream": "stdout",
       "text": [
        "\n",
        "5, 2, 0.270875, 0.329365, 0.266393, 0.216867, 17, 526, 126, 76"
       ]
      },
      {
       "output_type": "stream",
       "stream": "stdout",
       "text": [
        "\n",
        "5, 3, 0.293120, 0.328000, 0.273810, 0.277551, 25, 503, 115, 104"
       ]
      },
      {
       "output_type": "stream",
       "stream": "stdout",
       "text": [
        "\n",
        "5, 4, 0.307077, 0.349206, 0.286885, 0.285141, 28, 488, 115, 114"
       ]
      },
      {
       "output_type": "stream",
       "stream": "stdout",
       "text": [
        "\n",
        "5, 5, 0.313918, 0.357430, 0.306773, 0.277551, 28, 483, 111, 123"
       ]
      },
      {
       "output_type": "stream",
       "stream": "stdout",
       "text": [
        "\n",
        "5, 6, 0.318831, 0.345382, 0.365145, 0.245968, 28, 475, 112, 123"
       ]
      },
      {
       "output_type": "stream",
       "stream": "stdout",
       "text": [
        "\n",
        "5, 7, 0.316099, 0.369919, 0.338710, 0.239669, 18, 485, 118, 115"
       ]
      },
      {
       "output_type": "stream",
       "stream": "stdout",
       "text": [
        "\n",
        "5, 8, 0.327667, 0.385542, 0.344398, 0.253061, 19, 475, 121, 120"
       ]
      },
      {
       "output_type": "stream",
       "stream": "stdout",
       "text": [
        "\n",
        "5, 9, 0.323163, 0.398374, 0.298387, 0.272727, 15, 483, 121, 117"
       ]
      },
      {
       "output_type": "stream",
       "stream": "stdout",
       "text": [
        "\n",
        "5, 10, 0.324724, 0.405622, 0.323651, 0.244898, 23, 473, 117, 122"
       ]
      },
      {
       "output_type": "stream",
       "stream": "stdout",
       "text": [
        "\n",
        "5, 11, 0.304258, 0.365854, 0.274194, 0.272727, 26, 486, 110, 114"
       ]
      },
      {
       "output_type": "stream",
       "stream": "stdout",
       "text": [
        "\n",
        "6, 0, 0.250701, 0.332046, 0.232558, 0.187500, 8, 571, 139, 55"
       ]
      },
      {
       "output_type": "stream",
       "stream": "stdout",
       "text": [
        "\n",
        "6, 1, 0.252194, 0.333333, 0.224806, 0.198444, 12, 566, 135, 60"
       ]
      },
      {
       "output_type": "stream",
       "stream": "stdout",
       "text": [
        "\n",
        "6, 2, 0.255838, 0.277992, 0.341085, 0.148438, 13, 562, 134, 64"
       ]
      },
      {
       "output_type": "stream",
       "stream": "stdout",
       "text": [
        "\n",
        "6, 3, 0.354417, 0.348837, 0.395349, 0.319066, 28, 471, 119, 155"
       ]
      },
      {
       "output_type": "stream",
       "stream": "stdout",
       "text": [
        "\n",
        "6, 4, 0.337167, 0.333333, 0.389105, 0.289062, 34, 477, 112, 148"
       ]
      },
      {
       "output_type": "stream",
       "stream": "stdout",
       "text": [
        "\n",
        "6, 5, 0.350549, 0.385214, 0.392996, 0.273438, 38, 462, 108, 162"
       ]
      },
      {
       "output_type": "stream",
       "stream": "stdout",
       "text": [
        "\n",
        "6, 6, 0.367804, 0.403922, 0.370079, 0.329412, 32, 451, 111, 170"
       ]
      },
      {
       "output_type": "stream",
       "stream": "stdout",
       "text": [
        "\n",
        "6, 7, 0.345482, 0.413386, 0.366142, 0.256917, 26, 472, 117, 146"
       ]
      },
      {
       "output_type": "stream",
       "stream": "stdout",
       "text": [
        "\n",
        "6, 8, 0.336032, 0.419608, 0.350394, 0.238095, 27, 478, 116, 140"
       ]
      },
      {
       "output_type": "stream",
       "stream": "stdout",
       "text": [
        "\n",
        "6, 9, 0.348137, 0.417323, 0.346457, 0.280632, 27, 469, 116, 149"
       ]
      },
      {
       "output_type": "stream",
       "stream": "stdout",
       "text": [
        "\n",
        "6, 10, 0.309645, 0.400000, 0.354331, 0.174603, 35, 490, 108, 128"
       ]
      },
      {
       "output_type": "stream",
       "stream": "stdout",
       "text": [
        "\n",
        "6, 11, 0.327031, 0.374016, 0.409449, 0.197628, 33, 479, 110, 139"
       ]
      },
      {
       "output_type": "stream",
       "stream": "stdout",
       "text": [
        "\n",
        "7, 0, 0.271115, 0.335907, 0.298450, 0.178988, 11, 553, 136, 74"
       ]
      },
      {
       "output_type": "stream",
       "stream": "stdout",
       "text": [
        "\n",
        "7, 1, 0.308054, 0.343629, 0.401544, 0.178988, 24, 512, 124, 115"
       ]
      },
      {
       "output_type": "stream",
       "stream": "stdout",
       "text": [
        "\n",
        "7, 2, 0.344829, 0.351351, 0.434109, 0.249027, 25, 482, 122, 145"
       ]
      },
      {
       "output_type": "stream",
       "stream": "stdout",
       "text": [
        "\n",
        "7, 3, 0.354417, 0.348837, 0.395349, 0.319066, 28, 471, 119, 155"
       ]
      },
      {
       "output_type": "stream",
       "stream": "stdout",
       "text": [
        "\n",
        "7, 4, 0.337167, 0.333333, 0.389105, 0.289062, 34, 477, 112, 148"
       ]
      },
      {
       "output_type": "stream",
       "stream": "stdout",
       "text": [
        "\n",
        "7, 5, 0.350549, 0.385214, 0.392996, 0.273438, 38, 462, 108, 162"
       ]
      },
      {
       "output_type": "stream",
       "stream": "stdout",
       "text": [
        "\n",
        "7, 6, 0.367804, 0.403922, 0.370079, 0.329412, 32, 451, 111, 170"
       ]
      },
      {
       "output_type": "stream",
       "stream": "stdout",
       "text": [
        "\n",
        "7, 7, 0.343145, 0.423529, 0.352941, 0.252964, 28, 473, 115, 147"
       ]
      },
      {
       "output_type": "stream",
       "stream": "stdout",
       "text": [
        "\n",
        "7, 8, 0.339702, 0.407843, 0.350394, 0.260870, 29, 474, 114, 145"
       ]
      },
      {
       "output_type": "stream",
       "stream": "stdout",
       "text": [
        "\n",
        "7, 9, 0.294634, 0.333333, 0.352941, 0.197628, 27, 511, 116, 109"
       ]
      },
      {
       "output_type": "stream",
       "stream": "stdout",
       "text": [
        "\n",
        "7, 10, 0.314721, 0.388235, 0.350394, 0.205534, 39, 483, 104, 136"
       ]
      },
      {
       "output_type": "stream",
       "stream": "stdout",
       "text": [
        "\n",
        "7, 11, 0.327031, 0.374016, 0.409449, 0.197628, 33, 479, 110, 139"
       ]
      },
      {
       "output_type": "stream",
       "stream": "stdout",
       "text": [
        "\n",
        "<< subject LA_009 >>\n",
        "3, 0, 0.267159, 0.269608, 0.246154, 0.285714, 22, 419, 91, 70"
       ]
      },
      {
       "output_type": "stream",
       "stream": "stdout",
       "text": [
        "\n",
        "3, 1, 0.283890, 0.288557, 0.251232, 0.311881, 30, 404, 86, 86"
       ]
      },
      {
       "output_type": "stream",
       "stream": "stdout",
       "text": [
        "\n",
        "3, 2, 0.288877, 0.289216, 0.276923, 0.300493, 23, 405, 90, 84"
       ]
      },
      {
       "output_type": "stream",
       "stream": "stdout",
       "text": [
        "\n",
        "3, 3, 0.311976, 0.308458, 0.251232, 0.376238, 32, 385, 84, 105"
       ]
      },
      {
       "output_type": "stream",
       "stream": "stdout",
       "text": [
        "\n",
        "3, 4, 0.301930, 0.299020, 0.271795, 0.334975, 27, 393, 86, 96"
       ]
      },
      {
       "output_type": "stream",
       "stream": "stdout",
       "text": [
        "\n",
        "3, 5, 0.321934, 0.343284, 0.251232, 0.371287, 36, 375, 80, 115"
       ]
      },
      {
       "output_type": "stream",
       "stream": "stdout",
       "text": [
        "\n",
        "3, 6, 0.329481, 0.356436, 0.287179, 0.344828, 28, 374, 83, 115"
       ]
      },
      {
       "output_type": "stream",
       "stream": "stdout",
       "text": [
        "\n",
        "3, 7, 0.302849, 0.297980, 0.295567, 0.315000, 32, 387, 81, 101"
       ]
      },
      {
       "output_type": "stream",
       "stream": "stdout",
       "text": [
        "\n",
        "3, 8, 0.296050, 0.297030, 0.302564, 0.288557, 24, 397, 87, 90"
       ]
      },
      {
       "output_type": "stream",
       "stream": "stdout",
       "text": [
        "\n",
        "3, 9, 0.284425, 0.292929, 0.310345, 0.250000, 32, 398, 81, 90"
       ]
      },
      {
       "output_type": "stream",
       "stream": "stdout",
       "text": [
        "\n",
        "3, 10, 0.287913, 0.326733, 0.323077, 0.213930, 26, 400, 85, 87"
       ]
      },
      {
       "output_type": "stream",
       "stream": "stdout",
       "text": [
        "\n",
        "3, 11, 0.289663, 0.328283, 0.313433, 0.227273, 28, 396, 85, 88"
       ]
      },
      {
       "output_type": "stream",
       "stream": "stdout",
       "text": [
        "\n",
        "4, 0, 0.284713, 0.318777, 0.226667, 0.308696, 35, 454, 95, 100"
       ]
      },
      {
       "output_type": "stream",
       "stream": "stdout",
       "text": [
        "\n",
        "4, 1, 0.287946, 0.307359, 0.257778, 0.298701, 33, 456, 95, 103"
       ]
      },
      {
       "output_type": "stream",
       "stream": "stdout",
       "text": [
        "\n",
        "4, 2, 0.308108, 0.327511, 0.253333, 0.343478, 34, 439, 96, 115"
       ]
      },
      {
       "output_type": "stream",
       "stream": "stdout",
       "text": [
        "\n",
        "4, 3, 0.309399, 0.298701, 0.235556, 0.393939, 31, 443, 97, 116"
       ]
      },
      {
       "output_type": "stream",
       "stream": "stdout",
       "text": [
        "\n",
        "4, 4, 0.328654, 0.349345, 0.284444, 0.352174, 34, 425, 96, 129"
       ]
      },
      {
       "output_type": "stream",
       "stream": "stdout",
       "text": [
        "\n",
        "4, 5, 0.316691, 0.363636, 0.244444, 0.341991, 34, 435, 94, 124"
       ]
      },
      {
       "output_type": "stream",
       "stream": "stdout",
       "text": [
        "\n",
        "4, 6, 0.329053, 0.389381, 0.297778, 0.300000, 33, 424, 94, 130"
       ]
      },
      {
       "output_type": "stream",
       "stream": "stdout",
       "text": [
        "\n",
        "4, 7, 0.312295, 0.320175, 0.306667, 0.310044, 25, 444, 100, 113"
       ]
      },
      {
       "output_type": "stream",
       "stream": "stdout",
       "text": [
        "\n",
        "4, 8, 0.302062, 0.331858, 0.315556, 0.258772, 33, 441, 94, 111"
       ]
      },
      {
       "output_type": "stream",
       "stream": "stdout",
       "text": [
        "\n",
        "4, 9, 0.283106, 0.285088, 0.302222, 0.262009, 34, 455, 91, 102"
       ]
      },
      {
       "output_type": "stream",
       "stream": "stdout",
       "text": [
        "\n",
        "4, 10, 0.285941, 0.358407, 0.288889, 0.210526, 39, 446, 88, 106"
       ]
      },
      {
       "output_type": "stream",
       "stream": "stdout",
       "text": [
        "\n",
        "4, 11, 0.300315, 0.350877, 0.328829, 0.221239, 25, 448, 100, 103"
       ]
      },
      {
       "output_type": "stream",
       "stream": "stdout",
       "text": [
        "\n",
        "5, 0, 0.307233, 0.341365, 0.280335, 0.300000, 36, 475, 101, 126"
       ]
      },
      {
       "output_type": "stream",
       "stream": "stdout",
       "text": [
        "\n",
        "5, 1, 0.310324, 0.318548, 0.268293, 0.344130, 31, 480, 107, 123"
       ]
      },
      {
       "output_type": "stream",
       "stream": "stdout",
       "text": [
        "\n",
        "5, 2, 0.329938, 0.369478, 0.280335, 0.340000, 34, 460, 103, 141"
       ]
      },
      {
       "output_type": "stream",
       "stream": "stdout",
       "text": [
        "\n",
        "5, 3, 0.321109, 0.334677, 0.276423, 0.352227, 36, 467, 102, 136"
       ]
      },
      {
       "output_type": "stream",
       "stream": "stdout",
       "text": [
        "\n",
        "5, 4, 0.337884, 0.421687, 0.271967, 0.320000, 45, 443, 92, 158"
       ]
      },
      {
       "output_type": "stream",
       "stream": "stdout",
       "text": [
        "\n",
        "5, 5, 0.312147, 0.368421, 0.300813, 0.267206, 46, 463, 91, 140"
       ]
      },
      {
       "output_type": "stream",
       "stream": "stdout",
       "text": [
        "\n",
        "5, 6, 0.321370, 0.378049, 0.292887, 0.293173, 37, 461, 97, 139"
       ]
      },
      {
       "output_type": "stream",
       "stream": "stdout",
       "text": [
        "\n",
        "5, 7, 0.284402, 0.327869, 0.292683, 0.232653, 38, 488, 96, 113"
       ]
      },
      {
       "output_type": "stream",
       "stream": "stdout",
       "text": [
        "\n",
        "5, 8, 0.293162, 0.369919, 0.263598, 0.245968, 37, 481, 97, 118"
       ]
      },
      {
       "output_type": "stream",
       "stream": "stdout",
       "text": [
        "\n",
        "5, 9, 0.272207, 0.331967, 0.260163, 0.224490, 41, 494, 93, 107"
       ]
      },
      {
       "output_type": "stream",
       "stream": "stdout",
       "text": [
        "\n",
        "5, 10, 0.291623, 0.369919, 0.302521, 0.202429, 33, 485, 101, 112"
       ]
      },
      {
       "output_type": "stream",
       "stream": "stdout",
       "text": [
        "\n",
        "5, 11, 0.281940, 0.372951, 0.282787, 0.190083, 27, 497, 107, 99"
       ]
      },
      {
       "output_type": "stream",
       "stream": "stdout",
       "text": [
        "\n",
        "6, 0, 0.322605, 0.334630, 0.273810, 0.359375, 33, 485, 109, 138"
       ]
      },
      {
       "output_type": "stream",
       "stream": "stdout",
       "text": [
        "\n",
        "6, 1, 0.282738, 0.332031, 0.285714, 0.230469, 41, 507, 99, 117"
       ]
      },
      {
       "output_type": "stream",
       "stream": "stdout",
       "text": [
        "\n",
        "6, 2, 0.280835, 0.350195, 0.257937, 0.234375, 44, 506, 98, 117"
       ]
      },
      {
       "output_type": "stream",
       "stream": "stdout",
       "text": [
        "\n",
        "6, 3, 0.302373, 0.363281, 0.305556, 0.238281, 48, 485, 92, 139"
       ]
      },
      {
       "output_type": "stream",
       "stream": "stdout",
       "text": [
        "\n",
        "6, 4, 0.311508, 0.394531, 0.309524, 0.230469, 51, 475, 90, 148"
       ]
      },
      {
       "output_type": "stream",
       "stream": "stdout",
       "text": [
        "\n",
        "6, 5, 0.328042, 0.427451, 0.317460, 0.239216, 51, 461, 88, 162"
       ]
      },
      {
       "output_type": "stream",
       "stream": "stdout",
       "text": [
        "\n",
        "6, 6, 0.305499, 0.407115, 0.297619, 0.211765, 48, 480, 90, 142"
       ]
      },
      {
       "output_type": "stream",
       "stream": "stdout",
       "text": [
        "\n",
        "6, 7, 0.281173, 0.365079, 0.261905, 0.216535, 45, 500, 91, 122"
       ]
      },
      {
       "output_type": "stream",
       "stream": "stdout",
       "text": [
        "\n",
        "6, 8, 0.285946, 0.415020, 0.238095, 0.204724, 40, 502, 98, 119"
       ]
      },
      {
       "output_type": "stream",
       "stream": "stdout",
       "text": [
        "\n",
        "6, 9, 0.267298, 0.369048, 0.254980, 0.177866, 32, 522, 104, 98"
       ]
      },
      {
       "output_type": "stream",
       "stream": "stdout",
       "text": [
        "\n",
        "6, 10, 0.258854, 0.387352, 0.235060, 0.154150, 28, 533, 110, 86"
       ]
      },
      {
       "output_type": "stream",
       "stream": "stdout",
       "text": [
        "\n",
        "6, 11, 0.262052, 0.365079, 0.269076, 0.152000, 30, 524, 106, 91"
       ]
      },
      {
       "output_type": "stream",
       "stream": "stdout",
       "text": [
        "\n",
        "7, 0, 0.311197, 0.299611, 0.311024, 0.322957, 51, 478, 91, 148"
       ]
      },
      {
       "output_type": "stream",
       "stream": "stdout",
       "text": [
        "\n",
        "7, 1, 0.274609, 0.306202, 0.255906, 0.261719, 32, 525, 109, 102"
       ]
      },
      {
       "output_type": "stream",
       "stream": "stdout",
       "text": [
        "\n",
        "7, 2, 0.312586, 0.361868, 0.334646, 0.241245, 45, 483, 97, 143"
       ]
      },
      {
       "output_type": "stream",
       "stream": "stdout",
       "text": [
        "\n",
        "7, 3, 0.289324, 0.365759, 0.283465, 0.218750, 49, 496, 91, 131"
       ]
      },
      {
       "output_type": "stream",
       "stream": "stdout",
       "text": [
        "\n",
        "7, 4, 0.319810, 0.417969, 0.307087, 0.234375, 50, 471, 91, 154"
       ]
      },
      {
       "output_type": "stream",
       "stream": "stdout",
       "text": [
        "\n",
        "7, 5, 0.304420, 0.390625, 0.271654, 0.250980, 50, 482, 89, 144"
       ]
      },
      {
       "output_type": "stream",
       "stream": "stdout",
       "text": [
        "\n",
        "7, 6, 0.296839, 0.411067, 0.259843, 0.219608, 50, 486, 88, 138"
       ]
      },
      {
       "output_type": "stream",
       "stream": "stdout",
       "text": [
        "\n",
        "7, 7, 0.283465, 0.385827, 0.228346, 0.236220, 32, 514, 105, 111"
       ]
      },
      {
       "output_type": "stream",
       "stream": "stdout",
       "text": [
        "\n",
        "7, 8, 0.275103, 0.399209, 0.229249, 0.196850, 40, 511, 98, 111"
       ]
      },
      {
       "output_type": "stream",
       "stream": "stdout",
       "text": [
        "\n",
        "7, 9, 0.261720, 0.354331, 0.241107, 0.189723, 29, 532, 108, 91"
       ]
      },
      {
       "output_type": "stream",
       "stream": "stdout",
       "text": [
        "\n",
        "7, 10, 0.262522, 0.383399, 0.253968, 0.150198, 27, 532, 111, 88"
       ]
      },
      {
       "output_type": "stream",
       "stream": "stdout",
       "text": [
        "\n",
        "7, 11, 0.262962, 0.351779, 0.285714, 0.151394, 25, 532, 111, 88"
       ]
      },
      {
       "output_type": "stream",
       "stream": "stdout",
       "text": [
        "\n",
        "<< subject LA_010 >>\n",
        "3, 0, 0.295737, 0.320197, 0.296482, 0.270531, 19, 410, 87, 93"
       ]
      },
      {
       "output_type": "stream",
       "stream": "stdout",
       "text": [
        "\n",
        "3, 1, 0.310356, 0.326733, 0.280952, 0.323383, 17, 406, 87, 103"
       ]
      },
      {
       "output_type": "stream",
       "stream": "stdout",
       "text": [
        "\n",
        "3, 2, 0.287038, 0.320197, 0.246231, 0.294686, 20, 414, 86, 89"
       ]
      },
      {
       "output_type": "stream",
       "stream": "stdout",
       "text": [
        "\n",
        "3, 3, 0.259706, 0.297030, 0.233333, 0.248756, 28, 426, 76, 83"
       ]
      },
      {
       "output_type": "stream",
       "stream": "stdout",
       "text": [
        "\n",
        "3, 4, 0.230130, 0.295567, 0.216080, 0.178744, 26, 443, 80, 60"
       ]
      },
      {
       "output_type": "stream",
       "stream": "stdout",
       "text": [
        "\n",
        "3, 5, 0.235337, 0.292079, 0.200000, 0.213930, 21, 448, 83, 61"
       ]
      },
      {
       "output_type": "stream",
       "stream": "stdout",
       "text": [
        "\n",
        "3, 6, 0.269720, 0.343284, 0.243655, 0.222222, 16, 426, 88, 75"
       ]
      },
      {
       "output_type": "stream",
       "stream": "stdout",
       "text": [
        "\n",
        "3, 7, 0.259745, 0.306533, 0.241546, 0.231156, 17, 431, 84, 73"
       ]
      },
      {
       "output_type": "stream",
       "stream": "stdout",
       "text": [
        "\n",
        "3, 8, 0.240940, 0.273632, 0.233503, 0.215686, 16, 441, 88, 57"
       ]
      },
      {
       "output_type": "stream",
       "stream": "stdout",
       "text": [
        "\n",
        "3, 9, 0.249371, 0.266332, 0.265700, 0.216080, 15, 439, 86, 65"
       ]
      },
      {
       "output_type": "stream",
       "stream": "stdout",
       "text": [
        "\n",
        "3, 10, 0.264225, 0.333333, 0.243655, 0.215686, 10, 433, 94, 65"
       ]
      },
      {
       "output_type": "stream",
       "stream": "stdout",
       "text": [
        "\n",
        "3, 11, 0.251434, 0.296482, 0.236715, 0.221106, 12, 441, 89, 63"
       ]
      },
      {
       "output_type": "stream",
       "stream": "stdout",
       "text": [
        "\n",
        "4, 0, 0.312484, 0.326087, 0.307018, 0.304348, 18, 455, 100, 115"
       ]
      },
      {
       "output_type": "stream",
       "stream": "stdout",
       "text": [
        "\n",
        "4, 1, 0.286324, 0.284483, 0.281385, 0.293103, 21, 475, 99, 100"
       ]
      },
      {
       "output_type": "stream",
       "stream": "stdout",
       "text": [
        "\n",
        "4, 2, 0.283371, 0.321739, 0.263158, 0.265217, 27, 466, 91, 104"
       ]
      },
      {
       "output_type": "stream",
       "stream": "stdout",
       "text": [
        "\n",
        "4, 3, 0.244576, 0.267241, 0.225108, 0.241379, 31, 494, 89, 81"
       ]
      },
      {
       "output_type": "stream",
       "stream": "stdout",
       "text": [
        "\n",
        "4, 4, 0.233982, 0.300000, 0.223684, 0.178261, 23, 504, 95, 66"
       ]
      },
      {
       "output_type": "stream",
       "stream": "stdout",
       "text": [
        "\n",
        "4, 5, 0.246019, 0.275862, 0.229437, 0.232759, 22, 502, 98, 73"
       ]
      },
      {
       "output_type": "stream",
       "stream": "stdout",
       "text": [
        "\n",
        "4, 6, 0.262680, 0.312775, 0.262222, 0.213043, 16, 487, 99, 80"
       ]
      },
      {
       "output_type": "stream",
       "stream": "stdout",
       "text": [
        "\n",
        "4, 7, 0.274024, 0.305677, 0.254386, 0.262009, 19, 479, 98, 90"
       ]
      },
      {
       "output_type": "stream",
       "stream": "stdout",
       "text": [
        "\n",
        "4, 8, 0.257443, 0.264317, 0.275556, 0.232456, 19, 486, 96, 79"
       ]
      },
      {
       "output_type": "stream",
       "stream": "stdout",
       "text": [
        "\n",
        "4, 9, 0.250741, 0.288210, 0.258772, 0.205240, 17, 497, 100, 72"
       ]
      },
      {
       "output_type": "stream",
       "stream": "stdout",
       "text": [
        "\n",
        "4, 10, 0.258885, 0.303965, 0.257778, 0.214912, 16, 488, 99, 77"
       ]
      },
      {
       "output_type": "stream",
       "stream": "stdout",
       "text": [
        "\n",
        "4, 11, 0.272568, 0.318777, 0.254386, 0.244541, 10, 489, 107, 80"
       ]
      },
      {
       "output_type": "stream",
       "stream": "stdout",
       "text": [
        "\n",
        "5, 0, 0.287932, 0.308000, 0.278689, 0.277108, 26, 503, 104, 110"
       ]
      },
      {
       "output_type": "stream",
       "stream": "stdout",
       "text": [
        "\n",
        "5, 1, 0.293460, 0.333333, 0.261905, 0.285141, 27, 503, 103, 117"
       ]
      },
      {
       "output_type": "stream",
       "stream": "stdout",
       "text": [
        "\n",
        "5, 2, 0.258163, 0.300000, 0.229508, 0.244980, 36, 515, 94, 98"
       ]
      },
      {
       "output_type": "stream",
       "stream": "stdout",
       "text": [
        "\n",
        "5, 3, 0.272104, 0.305221, 0.246032, 0.265060, 28, 518, 102, 102"
       ]
      },
      {
       "output_type": "stream",
       "stream": "stdout",
       "text": [
        "\n",
        "5, 4, 0.247305, 0.308000, 0.209016, 0.224900, 30, 529, 100, 84"
       ]
      },
      {
       "output_type": "stream",
       "stream": "stdout",
       "text": [
        "\n",
        "5, 5, 0.274249, 0.318548, 0.227092, 0.277108, 22, 521, 107, 98"
       ]
      },
      {
       "output_type": "stream",
       "stream": "stdout",
       "text": [
        "\n",
        "5, 6, 0.253983, 0.307692, 0.236515, 0.217742, 28, 521, 99, 88"
       ]
      },
      {
       "output_type": "stream",
       "stream": "stdout",
       "text": [
        "\n",
        "5, 7, 0.278475, 0.302041, 0.254032, 0.279352, 24, 510, 102, 104"
       ]
      },
      {
       "output_type": "stream",
       "stream": "stdout",
       "text": [
        "\n",
        "5, 8, 0.266970, 0.303644, 0.265560, 0.231707, 19, 519, 108, 88"
       ]
      },
      {
       "output_type": "stream",
       "stream": "stdout",
       "text": [
        "\n",
        "5, 9, 0.259587, 0.297959, 0.241935, 0.238866, 22, 526, 104, 88"
       ]
      },
      {
       "output_type": "stream",
       "stream": "stdout",
       "text": [
        "\n",
        "5, 10, 0.273556, 0.340081, 0.244813, 0.235772, 12, 521, 115, 86"
       ]
      },
      {
       "output_type": "stream",
       "stream": "stdout",
       "text": [
        "\n",
        "5, 11, 0.261332, 0.330612, 0.233871, 0.219512, 16, 530, 110, 83"
       ]
      },
      {
       "output_type": "stream",
       "stream": "stdout",
       "text": [
        "\n",
        "6, 0, 0.284954, 0.310078, 0.267442, 0.277344, 22, 530, 112, 108"
       ]
      },
      {
       "output_type": "stream",
       "stream": "stdout",
       "text": [
        "\n",
        "6, 1, 0.280759, 0.271318, 0.263566, 0.307393, 31, 525, 106, 111"
       ]
      },
      {
       "output_type": "stream",
       "stream": "stdout",
       "text": [
        "\n",
        "6, 2, 0.335948, 0.282946, 0.213178, 0.511719, 27, 486, 107, 152"
       ]
      },
      {
       "output_type": "stream",
       "stream": "stdout",
       "text": [
        "\n",
        "6, 3, 0.323565, 0.279070, 0.251938, 0.439689, 41, 482, 96, 154"
       ]
      },
      {
       "output_type": "stream",
       "stream": "stdout",
       "text": [
        "\n",
        "6, 4, 0.328748, 0.284047, 0.237354, 0.464844, 40, 477, 93, 160"
       ]
      },
      {
       "output_type": "stream",
       "stream": "stdout",
       "text": [
        "\n",
        "6, 5, 0.335208, 0.319066, 0.241245, 0.445312, 42, 470, 94, 164"
       ]
      },
      {
       "output_type": "stream",
       "stream": "stdout",
       "text": [
        "\n",
        "6, 6, 0.300093, 0.322835, 0.248031, 0.329412, 27, 507, 103, 126"
       ]
      },
      {
       "output_type": "stream",
       "stream": "stdout",
       "text": [
        "\n",
        "6, 7, 0.282152, 0.307087, 0.236220, 0.303150, 23, 524, 110, 105"
       ]
      },
      {
       "output_type": "stream",
       "stream": "stdout",
       "text": [
        "\n",
        "6, 8, 0.313648, 0.334646, 0.259843, 0.346457, 19, 504, 111, 128"
       ]
      },
      {
       "output_type": "stream",
       "stream": "stdout",
       "text": [
        "\n",
        "6, 9, 0.269029, 0.303150, 0.248031, 0.255906, 15, 542, 118, 87"
       ]
      },
      {
       "output_type": "stream",
       "stream": "stdout",
       "text": [
        "\n",
        "6, 10, 0.283838, 0.346457, 0.220472, 0.284585, 17, 528, 113, 103"
       ]
      },
      {
       "output_type": "stream",
       "stream": "stdout",
       "text": [
        "\n",
        "6, 11, 0.290395, 0.350394, 0.240157, 0.280632, 18, 522, 115, 106"
       ]
      },
      {
       "output_type": "stream",
       "stream": "stdout",
       "text": [
        "\n",
        "7, 0, 0.250654, 0.262548, 0.220930, 0.268482, 29, 551, 105, 89"
       ]
      },
      {
       "output_type": "stream",
       "stream": "stdout",
       "text": [
        "\n",
        "7, 1, 0.311379, 0.247104, 0.216216, 0.470817, 33, 501, 105, 136"
       ]
      },
      {
       "output_type": "stream",
       "stream": "stdout",
       "text": [
        "\n",
        "7, 2, 0.333648, 0.270270, 0.217054, 0.513619, 34, 482, 100, 158"
       ]
      },
      {
       "output_type": "stream",
       "stream": "stdout",
       "text": [
        "\n",
        "7, 3, 0.323565, 0.279070, 0.251938, 0.439689, 41, 482, 96, 154"
       ]
      },
      {
       "output_type": "stream",
       "stream": "stdout",
       "text": [
        "\n",
        "7, 4, 0.346454, 0.344961, 0.233463, 0.460938, 36, 468, 97, 170"
       ]
      },
      {
       "output_type": "stream",
       "stream": "stdout",
       "text": [
        "\n",
        "7, 5, 0.335208, 0.319066, 0.241245, 0.445312, 42, 470, 94, 164"
       ]
      },
      {
       "output_type": "stream",
       "stream": "stdout",
       "text": [
        "\n",
        "7, 6, 0.287896, 0.294118, 0.240157, 0.329412, 29, 515, 101, 119"
       ]
      },
      {
       "output_type": "stream",
       "stream": "stdout",
       "text": [
        "\n",
        "7, 7, 0.317647, 0.329412, 0.254902, 0.368627, 26, 496, 107, 136"
       ]
      },
      {
       "output_type": "stream",
       "stream": "stdout",
       "text": [
        "\n",
        "7, 8, 0.300124, 0.305882, 0.251969, 0.342520, 17, 517, 113, 116"
       ]
      },
      {
       "output_type": "stream",
       "stream": "stdout",
       "text": [
        "\n",
        "7, 9, 0.291894, 0.345098, 0.231373, 0.299213, 29, 512, 104, 119"
       ]
      },
      {
       "output_type": "stream",
       "stream": "stdout",
       "text": [
        "\n",
        "7, 10, 0.279464, 0.333333, 0.220472, 0.284585, 16, 533, 114, 99"
       ]
      },
      {
       "output_type": "stream",
       "stream": "stdout",
       "text": [
        "\n",
        "7, 11, 0.290395, 0.350394, 0.240157, 0.280632, 18, 522, 115, 106"
       ]
      },
      {
       "output_type": "stream",
       "stream": "stdout",
       "text": [
        "\n",
        "<< subject LA_011 >>"
       ]
      },
      {
       "output_type": "stream",
       "stream": "stdout",
       "text": [
        "\n",
        "3, 0, 0.432153, 0.406863, 0.397059, 0.492537, 76, 270, 143, 120"
       ]
      },
      {
       "output_type": "stream",
       "stream": "stdout",
       "text": [
        "\n",
        "3, 1, 0.443061, 0.410891, 0.438095, 0.480198, 72, 270, 152, 120"
       ]
      },
      {
       "output_type": "stream",
       "stream": "stdout",
       "text": [
        "\n",
        "3, 2, 0.428812, 0.421569, 0.387255, 0.477612, 82, 266, 137, 124"
       ]
      },
      {
       "output_type": "stream",
       "stream": "stdout",
       "text": [
        "\n",
        "3, 3, 0.456137, 0.430693, 0.447619, 0.490099, 78, 256, 146, 134"
       ]
      },
      {
       "output_type": "stream",
       "stream": "stdout",
       "text": [
        "\n",
        "3, 4, 0.440323, 0.416667, 0.411765, 0.492537, 83, 258, 136, 132"
       ]
      },
      {
       "output_type": "stream",
       "stream": "stdout",
       "text": [
        "\n",
        "3, 5, 0.418938, 0.405941, 0.390476, 0.460396, 96, 261, 128, 129"
       ]
      },
      {
       "output_type": "stream",
       "stream": "stdout",
       "text": [
        "\n",
        "3, 6, 0.439798, 0.400990, 0.400990, 0.517413, 81, 258, 134, 132"
       ]
      },
      {
       "output_type": "stream",
       "stream": "stdout",
       "text": [
        "\n",
        "3, 7, 0.407859, 0.386935, 0.381643, 0.455000, 93, 266, 125, 122"
       ]
      },
      {
       "output_type": "stream",
       "stream": "stdout",
       "text": [
        "\n",
        "3, 8, 0.417425, 0.386139, 0.376238, 0.489899, 87, 264, 128, 123"
       ]
      },
      {
       "output_type": "stream",
       "stream": "stdout",
       "text": [
        "\n",
        "3, 9, 0.416558, 0.437186, 0.357488, 0.455000, 89, 265, 129, 123"
       ]
      },
      {
       "output_type": "stream",
       "stream": "stdout",
       "text": [
        "\n",
        "3, 10, 0.420492, 0.425743, 0.381188, 0.454545, 82, 267, 133, 120"
       ]
      },
      {
       "output_type": "stream",
       "stream": "stdout",
       "text": [
        "\n",
        "3, 11, 0.429367, 0.427136, 0.400966, 0.460000, 79, 267, 139, 121"
       ]
      },
      {
       "output_type": "stream",
       "stream": "stdout",
       "text": [
        "\n",
        "4, 0, 0.434011, 0.408696, 0.404255, 0.489083, 84, 309, 166, 135"
       ]
      },
      {
       "output_type": "stream",
       "stream": "stdout",
       "text": [
        "\n",
        "4, 1, 0.421300, 0.383621, 0.435345, 0.444934, 91, 309, 158, 133"
       ]
      },
      {
       "output_type": "stream",
       "stream": "stdout",
       "text": [
        "\n",
        "4, 2, 0.432574, 0.421739, 0.400000, 0.475983, 93, 301, 157, 143"
       ]
      },
      {
       "output_type": "stream",
       "stream": "stdout",
       "text": [
        "\n",
        "4, 3, 0.416958, 0.387931, 0.422414, 0.440529, 99, 304, 150, 138"
       ]
      },
      {
       "output_type": "stream",
       "stream": "stdout",
       "text": [
        "\n",
        "4, 4, 0.445390, 0.413043, 0.434043, 0.489083, 89, 296, 161, 148"
       ]
      },
      {
       "output_type": "stream",
       "stream": "stdout",
       "text": [
        "\n",
        "4, 5, 0.415711, 0.392241, 0.387931, 0.466960, 104, 300, 145, 142"
       ]
      },
      {
       "output_type": "stream",
       "stream": "stdout",
       "text": [
        "\n",
        "4, 6, 0.418535, 0.374449, 0.405172, 0.475983, 94, 306, 150, 138"
       ]
      },
      {
       "output_type": "stream",
       "stream": "stdout",
       "text": [
        "\n",
        "4, 7, 0.413892, 0.384279, 0.388646, 0.468750, 100, 300, 143, 139"
       ]
      },
      {
       "output_type": "stream",
       "stream": "stdout",
       "text": [
        "\n",
        "4, 8, 0.419261, 0.387665, 0.392241, 0.477876, 99, 299, 145, 142"
       ]
      },
      {
       "output_type": "stream",
       "stream": "stdout",
       "text": [
        "\n",
        "4, 9, 0.425472, 0.436681, 0.379913, 0.459821, 91, 301, 152, 138"
       ]
      },
      {
       "output_type": "stream",
       "stream": "stdout",
       "text": [
        "\n",
        "4, 10, 0.425197, 0.440529, 0.379310, 0.455752, 93, 301, 151, 140"
       ]
      },
      {
       "output_type": "stream",
       "stream": "stdout",
       "text": [
        "\n",
        "4, 11, 0.425537, 0.414847, 0.393013, 0.468750, 91, 301, 152, 138"
       ]
      },
      {
       "output_type": "stream",
       "stream": "stdout",
       "text": [
        "\n",
        "5, 0, 0.430479, 0.432000, 0.397590, 0.461847, 95, 331, 173, 149"
       ]
      },
      {
       "output_type": "stream",
       "stream": "stdout",
       "text": [
        "\n",
        "5, 1, 0.451446, 0.439516, 0.478088, 0.436735, 90, 318, 179, 157"
       ]
      },
      {
       "output_type": "stream",
       "stream": "stdout",
       "text": [
        "\n",
        "5, 2, 0.450517, 0.464000, 0.429719, 0.457831, 96, 315, 172, 165"
       ]
      },
      {
       "output_type": "stream",
       "stream": "stdout",
       "text": [
        "\n",
        "5, 3, 0.454297, 0.447581, 0.458167, 0.457143, 88, 318, 181, 157"
       ]
      },
      {
       "output_type": "stream",
       "stream": "stdout",
       "text": [
        "\n",
        "5, 4, 0.430511, 0.408000, 0.425703, 0.457831, 93, 333, 175, 147"
       ]
      },
      {
       "output_type": "stream",
       "stream": "stdout",
       "text": [
        "\n",
        "5, 5, 0.399019, 0.380567, 0.392000, 0.424490, 110, 336, 157, 139"
       ]
      },
      {
       "output_type": "stream",
       "stream": "stdout",
       "text": [
        "\n",
        "5, 6, 0.431723, 0.421053, 0.390244, 0.483871, 88, 333, 174, 146"
       ]
      },
      {
       "output_type": "stream",
       "stream": "stdout",
       "text": [
        "\n",
        "5, 7, 0.395045, 0.377049, 0.407258, 0.400826, 107, 337, 154, 136"
       ]
      },
      {
       "output_type": "stream",
       "stream": "stdout",
       "text": [
        "\n",
        "5, 8, 0.436451, 0.384615, 0.439024, 0.485714, 93, 323, 169, 153"
       ]
      },
      {
       "output_type": "stream",
       "stream": "stdout",
       "text": [
        "\n",
        "5, 9, 0.399330, 0.430328, 0.370968, 0.396694, 96, 345, 165, 128"
       ]
      },
      {
       "output_type": "stream",
       "stream": "stdout",
       "text": [
        "\n",
        "5, 10, 0.453962, 0.461538, 0.414634, 0.485714, 92, 311, 170, 165"
       ]
      },
      {
       "output_type": "stream",
       "stream": "stdout",
       "text": [
        "\n",
        "5, 11, 0.393005, 0.418033, 0.368421, 0.392562, 109, 336, 152, 136"
       ]
      },
      {
       "output_type": "stream",
       "stream": "stdout",
       "text": [
        "\n",
        "6, 0, 0.453266, 0.437984, 0.507752, 0.414062, 85, 337, 190, 160"
       ]
      },
      {
       "output_type": "stream",
       "stream": "stdout",
       "text": [
        "\n",
        "6, 1, 0.420192, 0.402344, 0.434109, 0.424125, 63, 384, 217, 107"
       ]
      },
      {
       "output_type": "stream",
       "stream": "stdout",
       "text": [
        "\n",
        "6, 2, 0.459666, 0.488372, 0.500000, 0.390625, 99, 318, 176, 179"
       ]
      },
      {
       "output_type": "stream",
       "stream": "stdout",
       "text": [
        "\n",
        "6, 3, 0.403427, 0.433594, 0.391473, 0.385214, 78, 382, 202, 109"
       ]
      },
      {
       "output_type": "stream",
       "stream": "stdout",
       "text": [
        "\n",
        "6, 4, 0.410349, 0.466926, 0.385214, 0.378906, 78, 376, 195, 121"
       ]
      },
      {
       "output_type": "stream",
       "stream": "stdout",
       "text": [
        "\n",
        "6, 5, 0.409001, 0.470588, 0.357977, 0.398438, 87, 367, 191, 123"
       ]
      },
      {
       "output_type": "stream",
       "stream": "stdout",
       "text": [
        "\n",
        "6, 6, 0.397941, 0.425197, 0.372549, 0.396078, 86, 374, 181, 123"
       ]
      },
      {
       "output_type": "stream",
       "stream": "stdout",
       "text": [
        "\n",
        "6, 7, 0.393465, 0.424603, 0.392157, 0.363636, 107, 354, 165, 134"
       ]
      },
      {
       "output_type": "stream",
       "stream": "stdout",
       "text": [
        "\n",
        "6, 8, 0.398212, 0.381890, 0.396078, 0.416667, 101, 357, 166, 137"
       ]
      },
      {
       "output_type": "stream",
       "stream": "stdout",
       "text": [
        "\n",
        "6, 9, 0.397475, 0.420635, 0.368627, 0.403162, 109, 349, 163, 139"
       ]
      },
      {
       "output_type": "stream",
       "stream": "stdout",
       "text": [
        "\n",
        "6, 10, 0.429030, 0.405512, 0.421260, 0.460317, 102, 332, 165, 161"
       ]
      },
      {
       "output_type": "stream",
       "stream": "stdout",
       "text": [
        "\n",
        "6, 11, 0.425684, 0.460317, 0.366142, 0.450593, 137, 299, 135, 188"
       ]
      },
      {
       "output_type": "stream",
       "stream": "stdout",
       "text": [
        "\n",
        "7, 0, 0.399763, 0.410853, 0.372093, 0.416342, 64, 400, 211, 98"
       ]
      },
      {
       "output_type": "stream",
       "stream": "stdout",
       "text": [
        "\n",
        "7, 1, 0.445721, 0.515504, 0.416988, 0.404669, 97, 332, 185, 160"
       ]
      },
      {
       "output_type": "stream",
       "stream": "stdout",
       "text": [
        "\n",
        "7, 2, 0.439814, 0.465116, 0.437984, 0.416342, 70, 363, 205, 135"
       ]
      },
      {
       "output_type": "stream",
       "stream": "stdout",
       "text": [
        "\n",
        "7, 3, 0.404146, 0.443580, 0.403101, 0.365759, 79, 381, 201, 111"
       ]
      },
      {
       "output_type": "stream",
       "stream": "stdout",
       "text": [
        "\n",
        "7, 4, 0.410349, 0.466926, 0.385214, 0.378906, 78, 376, 195, 121"
       ]
      },
      {
       "output_type": "stream",
       "stream": "stdout",
       "text": [
        "\n",
        "7, 5, 0.416160, 0.472656, 0.389105, 0.386719, 77, 372, 201, 119"
       ]
      },
      {
       "output_type": "stream",
       "stream": "stdout",
       "text": [
        "\n",
        "7, 6, 0.397941, 0.425197, 0.372549, 0.396078, 86, 374, 181, 123"
       ]
      },
      {
       "output_type": "stream",
       "stream": "stdout",
       "text": [
        "\n",
        "7, 7, 0.406390, 0.413386, 0.378906, 0.426877, 104, 349, 169, 141"
       ]
      },
      {
       "output_type": "stream",
       "stream": "stdout",
       "text": [
        "\n",
        "7, 8, 0.392408, 0.354331, 0.403922, 0.418972, 108, 355, 159, 140"
       ]
      },
      {
       "output_type": "stream",
       "stream": "stdout",
       "text": [
        "\n",
        "7, 9, 0.410786, 0.437008, 0.388235, 0.407115, 101, 348, 172, 141"
       ]
      },
      {
       "output_type": "stream",
       "stream": "stdout",
       "text": [
        "\n",
        "7, 10, 0.413946, 0.401575, 0.413386, 0.426877, 128, 318, 139, 176"
       ]
      },
      {
       "output_type": "stream",
       "stream": "stdout",
       "text": [
        "\n",
        "7, 11, 0.432972, 0.462451, 0.374016, 0.462451, 133, 298, 139, 190"
       ]
      },
      {
       "output_type": "stream",
       "stream": "stdout",
       "text": [
        "\n",
        "<< subject LA_012 >>\n",
        "3, 0, 0.474587, 0.450980, 0.494949, 0.477833, 98, 220, 151, 136"
       ]
      },
      {
       "output_type": "stream",
       "stream": "stdout",
       "text": [
        "\n",
        "3, 1, 0.472279, 0.448276, 0.483412, 0.485149, 103, 222, 142, 149"
       ]
      },
      {
       "output_type": "stream",
       "stream": "stdout",
       "text": [
        "\n",
        "3, 2, 0.447966, 0.436275, 0.449495, 0.458128, 106, 228, 143, 128"
       ]
      },
      {
       "output_type": "stream",
       "stream": "stdout",
       "text": [
        "\n",
        "3, 3, 0.408905, 0.364532, 0.426540, 0.435644, 114, 250, 131, 121"
       ]
      },
      {
       "output_type": "stream",
       "stream": "stdout",
       "text": [
        "\n",
        "3, 4, 0.388616, 0.352941, 0.404040, 0.408867, 125, 245, 124, 111"
       ]
      },
      {
       "output_type": "stream",
       "stream": "stdout",
       "text": [
        "\n",
        "3, 5, 0.401139, 0.369458, 0.393365, 0.440594, 126, 243, 119, 128"
       ]
      },
      {
       "output_type": "stream",
       "stream": "stdout",
       "text": [
        "\n",
        "3, 6, 0.396247, 0.386139, 0.418367, 0.384236, 124, 239, 123, 115"
       ]
      },
      {
       "output_type": "stream",
       "stream": "stdout",
       "text": [
        "\n",
        "3, 7, 0.401026, 0.390000, 0.423077, 0.390000, 118, 246, 124, 120"
       ]
      },
      {
       "output_type": "stream",
       "stream": "stdout",
       "text": [
        "\n",
        "3, 8, 0.458809, 0.455446, 0.423469, 0.497512, 108, 216, 139, 136"
       ]
      },
      {
       "output_type": "stream",
       "stream": "stdout",
       "text": [
        "\n",
        "3, 9, 0.467372, 0.465000, 0.447115, 0.490000, 102, 222, 140, 144"
       ]
      },
      {
       "output_type": "stream",
       "stream": "stdout",
       "text": [
        "\n",
        "3, 10, 0.479369, 0.440594, 0.500000, 0.497512, 103, 209, 144, 143"
       ]
      },
      {
       "output_type": "stream",
       "stream": "stdout",
       "text": [
        "\n",
        "3, 11, 0.498789, 0.475000, 0.576923, 0.444444, 94, 209, 148, 155"
       ]
      },
      {
       "output_type": "stream",
       "stream": "stdout",
       "text": [
        "\n",
        "4, 0, 0.451489, 0.411255, 0.469298, 0.473913, 124, 254, 157, 154"
       ]
      },
      {
       "output_type": "stream",
       "stream": "stdout",
       "text": [
        "\n",
        "4, 1, 0.469752, 0.467811, 0.473913, 0.467532, 111, 257, 167, 159"
       ]
      },
      {
       "output_type": "stream",
       "stream": "stdout",
       "text": [
        "\n",
        "4, 2, 0.428180, 0.406926, 0.425439, 0.452174, 127, 267, 154, 141"
       ]
      },
      {
       "output_type": "stream",
       "stream": "stdout",
       "text": [
        "\n",
        "4, 3, 0.420869, 0.373391, 0.408696, 0.480519, 128, 274, 150, 142"
       ]
      },
      {
       "output_type": "stream",
       "stream": "stdout",
       "text": [
        "\n",
        "4, 4, 0.383086, 0.380952, 0.355263, 0.413043, 144, 281, 137, 127"
       ]
      },
      {
       "output_type": "stream",
       "stream": "stdout",
       "text": [
        "\n",
        "4, 5, 0.397712, 0.381974, 0.378261, 0.432900, 136, 282, 142, 134"
       ]
      },
      {
       "output_type": "stream",
       "stream": "stdout",
       "text": [
        "\n",
        "4, 6, 0.392719, 0.399123, 0.435556, 0.343478, 144, 271, 134, 134"
       ]
      },
      {
       "output_type": "stream",
       "stream": "stdout",
       "text": [
        "\n",
        "4, 7, 0.419902, 0.417391, 0.444934, 0.397380, 121, 277, 154, 134"
       ]
      },
      {
       "output_type": "stream",
       "stream": "stdout",
       "text": [
        "\n",
        "4, 8, 0.463996, 0.451754, 0.457778, 0.482456, 116, 249, 162, 154"
       ]
      },
      {
       "output_type": "stream",
       "stream": "stdout",
       "text": [
        "\n",
        "4, 9, 0.453324, 0.473913, 0.453744, 0.432314, 107, 268, 168, 143"
       ]
      },
      {
       "output_type": "stream",
       "stream": "stdout",
       "text": [
        "\n",
        "4, 10, 0.483255, 0.469298, 0.515556, 0.464912, 112, 240, 166, 163"
       ]
      },
      {
       "output_type": "stream",
       "stream": "stdout",
       "text": [
        "\n",
        "4, 11, 0.490550, 0.465217, 0.546256, 0.460177, 95, 253, 180, 155"
       ]
      },
      {
       "output_type": "stream",
       "stream": "stdout",
       "text": [
        "\n",
        "5, 0, 0.439465, 0.426295, 0.432099, 0.460000, 141, 276, 164, 163"
       ]
      },
      {
       "output_type": "stream",
       "stream": "stdout",
       "text": [
        "\n",
        "5, 1, 0.443381, 0.444000, 0.424603, 0.461538, 120, 297, 181, 151"
       ]
      },
      {
       "output_type": "stream",
       "stream": "stdout",
       "text": [
        "\n",
        "5, 2, 0.416467, 0.386454, 0.390947, 0.472000, 128, 306, 177, 133"
       ]
      },
      {
       "output_type": "stream",
       "stream": "stdout",
       "text": [
        "\n",
        "5, 3, 0.379103, 0.380000, 0.388889, 0.368421, 152, 313, 149, 135"
       ]
      },
      {
       "output_type": "stream",
       "stream": "stdout",
       "text": [
        "\n",
        "5, 4, 0.377387, 0.350598, 0.341564, 0.440000, 146, 317, 159, 122"
       ]
      },
      {
       "output_type": "stream",
       "stream": "stdout",
       "text": [
        "\n",
        "5, 5, 0.384338, 0.401606, 0.350598, 0.400810, 146, 314, 154, 133"
       ]
      },
      {
       "output_type": "stream",
       "stream": "stdout",
       "text": [
        "\n",
        "5, 6, 0.416794, 0.407258, 0.437500, 0.405622, 136, 294, 166, 141"
       ]
      },
      {
       "output_type": "stream",
       "stream": "stdout",
       "text": [
        "\n",
        "5, 7, 0.423492, 0.426829, 0.435484, 0.408163, 126, 300, 171, 142"
       ]
      },
      {
       "output_type": "stream",
       "stream": "stdout",
       "text": [
        "\n",
        "5, 8, 0.449955, 0.427419, 0.470833, 0.451613, 116, 289, 186, 145"
       ]
      },
      {
       "output_type": "stream",
       "stream": "stdout",
       "text": [
        "\n",
        "5, 9, 0.477606, 0.495935, 0.487903, 0.448980, 89, 297, 208, 145"
       ]
      },
      {
       "output_type": "stream",
       "stream": "stdout",
       "text": [
        "\n",
        "5, 10, 0.481853, 0.475806, 0.504167, 0.465587, 101, 280, 201, 153"
       ]
      },
      {
       "output_type": "stream",
       "stream": "stdout",
       "text": [
        "\n",
        "5, 11, 0.486071, 0.479675, 0.532258, 0.446281, 96, 282, 201, 157"
       ]
      },
      {
       "output_type": "stream",
       "stream": "stdout",
       "text": [
        "\n",
        "6, 0, 0.437214, 0.455598, 0.426357, 0.429688, 116, 319, 198, 140"
       ]
      },
      {
       "output_type": "stream",
       "stream": "stdout",
       "text": [
        "\n",
        "6, 1, 0.409389, 0.422481, 0.372093, 0.433594, 118, 338, 191, 125"
       ]
      },
      {
       "output_type": "stream",
       "stream": "stdout",
       "text": [
        "\n",
        "6, 2, 0.448959, 0.490347, 0.364341, 0.492188, 129, 297, 185, 162"
       ]
      },
      {
       "output_type": "stream",
       "stream": "stdout",
       "text": [
        "\n",
        "6, 3, 0.384791, 0.437984, 0.302326, 0.414062, 117, 358, 192, 105"
       ]
      },
      {
       "output_type": "stream",
       "stream": "stdout",
       "text": [
        "\n",
        "6, 4, 0.396796, 0.484496, 0.291829, 0.414062, 130, 335, 183, 123"
       ]
      },
      {
       "output_type": "stream",
       "stream": "stdout",
       "text": [
        "\n",
        "6, 5, 0.397996, 0.447471, 0.319066, 0.427451, 133, 330, 175, 131"
       ]
      },
      {
       "output_type": "stream",
       "stream": "stdout",
       "text": [
        "\n",
        "6, 6, 0.384792, 0.388235, 0.366142, 0.400000, 120, 350, 190, 104"
       ]
      },
      {
       "output_type": "stream",
       "stream": "stdout",
       "text": [
        "\n",
        "6, 7, 0.419948, 0.444882, 0.401575, 0.413386, 93, 349, 212, 108"
       ]
      },
      {
       "output_type": "stream",
       "stream": "stdout",
       "text": [
        "\n",
        "6, 8, 0.429854, 0.450980, 0.401575, 0.437008, 97, 338, 213, 115"
       ]
      },
      {
       "output_type": "stream",
       "stream": "stdout",
       "text": [
        "\n",
        "6, 9, 0.448098, 0.480315, 0.413386, 0.450593, 83, 337, 222, 119"
       ]
      },
      {
       "output_type": "stream",
       "stream": "stdout",
       "text": [
        "\n",
        "6, 10, 0.474988, 0.525490, 0.433071, 0.466403, 82, 318, 228, 134"
       ]
      },
      {
       "output_type": "stream",
       "stream": "stdout",
       "text": [
        "\n",
        "6, 11, 0.457711, 0.464567, 0.464567, 0.444000, 118, 293, 187, 160"
       ]
      },
      {
       "output_type": "stream",
       "stream": "stdout",
       "text": [
        "\n",
        "7, 0, 0.431529, 0.420849, 0.449612, 0.424125, 117, 323, 197, 137"
       ]
      },
      {
       "output_type": "stream",
       "stream": "stdout",
       "text": [
        "\n",
        "7, 1, 0.443161, 0.490347, 0.393822, 0.445312, 111, 320, 199, 144"
       ]
      },
      {
       "output_type": "stream",
       "stream": "stdout",
       "text": [
        "\n",
        "7, 2, 0.440468, 0.517375, 0.364341, 0.439689, 137, 296, 177, 164"
       ]
      },
      {
       "output_type": "stream",
       "stream": "stdout",
       "text": [
        "\n",
        "7, 3, 0.384791, 0.437984, 0.302326, 0.414062, 117, 358, 192, 105"
       ]
      },
      {
       "output_type": "stream",
       "stream": "stdout",
       "text": [
        "\n",
        "7, 4, 0.396796, 0.484496, 0.291829, 0.414062, 130, 335, 183, 123"
       ]
      },
      {
       "output_type": "stream",
       "stream": "stdout",
       "text": [
        "\n",
        "7, 5, 0.397996, 0.447471, 0.319066, 0.427451, 133, 330, 175, 131"
       ]
      },
      {
       "output_type": "stream",
       "stream": "stdout",
       "text": [
        "\n",
        "7, 6, 0.384792, 0.388235, 0.366142, 0.400000, 120, 350, 190, 104"
       ]
      },
      {
       "output_type": "stream",
       "stream": "stdout",
       "text": [
        "\n",
        "7, 7, 0.407061, 0.427451, 0.392157, 0.401575, 99, 354, 207, 104"
       ]
      },
      {
       "output_type": "stream",
       "stream": "stdout",
       "text": [
        "\n",
        "7, 8, 0.429854, 0.450980, 0.401575, 0.437008, 97, 338, 213, 115"
       ]
      },
      {
       "output_type": "stream",
       "stream": "stdout",
       "text": [
        "\n",
        "7, 9, 0.456090, 0.501961, 0.411765, 0.454545, 81, 334, 225, 123"
       ]
      },
      {
       "output_type": "stream",
       "stream": "stdout",
       "text": [
        "\n",
        "7, 10, 0.474988, 0.525490, 0.433071, 0.466403, 82, 318, 228, 134"
       ]
      },
      {
       "output_type": "stream",
       "stream": "stdout",
       "text": [
        "\n",
        "7, 11, 0.449263, 0.448819, 0.452756, 0.446215, 115, 303, 190, 151"
       ]
      },
      {
       "output_type": "stream",
       "stream": "stdout",
       "text": [
        "\n",
        "<< subject LA_013 >>\n",
        "3, 0, 0.452658, 0.472637, 0.421569, 0.463768, 295, 40, 128, 149"
       ]
      },
      {
       "output_type": "stream",
       "stream": "stdout",
       "text": [
        "\n",
        "3, 1, 0.438948, 0.504762, 0.419048, 0.393035, 298, 50, 144, 129"
       ]
      },
      {
       "output_type": "stream",
       "stream": "stdout",
       "text": [
        "\n",
        "3, 2, 0.436794, 0.492537, 0.431373, 0.386473, 288, 57, 135, 132"
       ]
      },
      {
       "output_type": "stream",
       "stream": "stdout",
       "text": [
        "\n",
        "3, 3, 0.429211, 0.480952, 0.428571, 0.378109, 305, 49, 137, 130"
       ]
      },
      {
       "output_type": "stream",
       "stream": "stdout",
       "text": [
        "\n",
        "3, 4, 0.451476, 0.487562, 0.480392, 0.386473, 280, 56, 143, 133"
       ]
      },
      {
       "output_type": "stream",
       "stream": "stdout",
       "text": [
        "\n",
        "3, 5, 0.424023, 0.485714, 0.438095, 0.348259, 300, 57, 142, 122"
       ]
      },
      {
       "output_type": "stream",
       "stream": "stdout",
       "text": [
        "\n",
        "3, 6, 0.475873, 0.517588, 0.475248, 0.434783, 261, 58, 158, 131"
       ]
      },
      {
       "output_type": "stream",
       "stream": "stdout",
       "text": [
        "\n",
        "3, 7, 0.428689, 0.492754, 0.391304, 0.402010, 287, 63, 147, 116"
       ]
      },
      {
       "output_type": "stream",
       "stream": "stdout",
       "text": [
        "\n",
        "3, 8, 0.465032, 0.537688, 0.455446, 0.401961, 253, 71, 163, 118"
       ]
      },
      {
       "output_type": "stream",
       "stream": "stdout",
       "text": [
        "\n",
        "3, 9, 0.433132, 0.512077, 0.415459, 0.371859, 274, 73, 160, 106"
       ]
      },
      {
       "output_type": "stream",
       "stream": "stdout",
       "text": [
        "\n",
        "3, 10, 0.456526, 0.502513, 0.440594, 0.426471, 267, 62, 149, 127"
       ]
      },
      {
       "output_type": "stream",
       "stream": "stdout",
       "text": [
        "\n",
        "3, 11, 0.427848, 0.483092, 0.463768, 0.336683, 286, 64, 148, 115"
       ]
      },
      {
       "output_type": "stream",
       "stream": "stdout",
       "text": [
        "\n",
        "4, 0, 0.434547, 0.482456, 0.425532, 0.395652, 342, 50, 143, 158"
       ]
      },
      {
       "output_type": "stream",
       "stream": "stdout",
       "text": [
        "\n",
        "4, 1, 0.441092, 0.517241, 0.422414, 0.383621, 333, 56, 158, 149"
       ]
      },
      {
       "output_type": "stream",
       "stream": "stdout",
       "text": [
        "\n",
        "4, 2, 0.425746, 0.478070, 0.438298, 0.360870, 336, 62, 149, 146"
       ]
      },
      {
       "output_type": "stream",
       "stream": "stdout",
       "text": [
        "\n",
        "4, 3, 0.419540, 0.508621, 0.396552, 0.353448, 341, 63, 150, 142"
       ]
      },
      {
       "output_type": "stream",
       "stream": "stdout",
       "text": [
        "\n",
        "4, 4, 0.432843, 0.469298, 0.455319, 0.373913, 324, 69, 161, 139"
       ]
      },
      {
       "output_type": "stream",
       "stream": "stdout",
       "text": [
        "\n",
        "4, 5, 0.455460, 0.530172, 0.452586, 0.383621, 311, 68, 180, 137"
       ]
      },
      {
       "output_type": "stream",
       "stream": "stdout",
       "text": [
        "\n",
        "4, 6, 0.457437, 0.502222, 0.439655, 0.430435, 308, 65, 171, 143"
       ]
      },
      {
       "output_type": "stream",
       "stream": "stdout",
       "text": [
        "\n",
        "4, 7, 0.464338, 0.545852, 0.432314, 0.414847, 289, 79, 193, 126"
       ]
      },
      {
       "output_type": "stream",
       "stream": "stdout",
       "text": [
        "\n",
        "4, 8, 0.463076, 0.506667, 0.443966, 0.438596, 294, 74, 183, 134"
       ]
      },
      {
       "output_type": "stream",
       "stream": "stdout",
       "text": [
        "\n",
        "4, 9, 0.462882, 0.515284, 0.471616, 0.401747, 298, 71, 184, 134"
       ]
      },
      {
       "output_type": "stream",
       "stream": "stdout",
       "text": [
        "\n",
        "4, 10, 0.443992, 0.488889, 0.443966, 0.399123, 308, 73, 169, 135"
       ]
      },
      {
       "output_type": "stream",
       "stream": "stdout",
       "text": [
        "\n",
        "4, 11, 0.457060, 0.493450, 0.475983, 0.401747, 306, 67, 176, 138"
       ]
      },
      {
       "output_type": "stream",
       "stream": "stdout",
       "text": [
        "\n",
        "5, 0, 0.461902, 0.510204, 0.453815, 0.421687, 343, 57, 175, 168"
       ]
      },
      {
       "output_type": "stream",
       "stream": "stdout",
       "text": [
        "\n",
        "5, 1, 0.427319, 0.505976, 0.390438, 0.385542, 366, 64, 164, 157"
       ]
      },
      {
       "output_type": "stream",
       "stream": "stdout",
       "text": [
        "\n",
        "5, 2, 0.482135, 0.538776, 0.465863, 0.441767, 331, 54, 187, 171"
       ]
      },
      {
       "output_type": "stream",
       "stream": "stdout",
       "text": [
        "\n",
        "5, 3, 0.424673, 0.498008, 0.386454, 0.389558, 366, 66, 164, 155"
       ]
      },
      {
       "output_type": "stream",
       "stream": "stdout",
       "text": [
        "\n",
        "5, 4, 0.475311, 0.514286, 0.497992, 0.413655, 312, 78, 206, 147"
       ]
      },
      {
       "output_type": "stream",
       "stream": "stdout",
       "text": [
        "\n",
        "5, 5, 0.439191, 0.508000, 0.416000, 0.393574, 350, 70, 178, 151"
       ]
      },
      {
       "output_type": "stream",
       "stream": "stdout",
       "text": [
        "\n",
        "5, 6, 0.451682, 0.528926, 0.439024, 0.387097, 327, 77, 184, 148"
       ]
      },
      {
       "output_type": "stream",
       "stream": "stdout",
       "text": [
        "\n",
        "5, 7, 0.479833, 0.578947, 0.443548, 0.417004, 303, 83, 217, 139"
       ]
      },
      {
       "output_type": "stream",
       "stream": "stdout",
       "text": [
        "\n",
        "5, 8, 0.462060, 0.500000, 0.443089, 0.443089, 316, 79, 193, 146"
       ]
      },
      {
       "output_type": "stream",
       "stream": "stdout",
       "text": [
        "\n",
        "5, 9, 0.483855, 0.587045, 0.463710, 0.400810, 308, 75, 212, 147"
       ]
      },
      {
       "output_type": "stream",
       "stream": "stdout",
       "text": [
        "\n",
        "5, 10, 0.467748, 0.549587, 0.463415, 0.390244, 311, 80, 198, 145"
       ]
      },
      {
       "output_type": "stream",
       "stream": "stdout",
       "text": [
        "\n",
        "5, 11, 0.459328, 0.534413, 0.481781, 0.361789, 318, 82, 201, 139"
       ]
      },
      {
       "output_type": "stream",
       "stream": "stdout",
       "text": [
        "\n",
        "6, 0, 0.434329, 0.540541, 0.406977, 0.355469, 369, 68, 170, 166"
       ]
      },
      {
       "output_type": "stream",
       "stream": "stdout",
       "text": [
        "\n",
        "6, 1, 0.435200, 0.521236, 0.418605, 0.365759, 364, 73, 181, 156"
       ]
      },
      {
       "output_type": "stream",
       "stream": "stdout",
       "text": [
        "\n",
        "6, 2, 0.508582, 0.505792, 0.445736, 0.574219, 283, 97, 256, 137"
       ]
      },
      {
       "output_type": "stream",
       "stream": "stdout",
       "text": [
        "\n",
        "6, 3, 0.492168, 0.552124, 0.434109, 0.490272, 289, 104, 256, 125"
       ]
      },
      {
       "output_type": "stream",
       "stream": "stdout",
       "text": [
        "\n",
        "6, 4, 0.462989, 0.507752, 0.408560, 0.472656, 320, 94, 217, 140"
       ]
      },
      {
       "output_type": "stream",
       "stream": "stdout",
       "text": [
        "\n",
        "6, 5, 0.502960, 0.662791, 0.400778, 0.445312, 265, 118, 277, 111"
       ]
      },
      {
       "output_type": "stream",
       "stream": "stdout",
       "text": [
        "\n",
        "6, 6, 0.454902, 0.560784, 0.431373, 0.372549, 330, 87, 200, 148"
       ]
      },
      {
       "output_type": "stream",
       "stream": "stdout",
       "text": [
        "\n",
        "6, 7, 0.481566, 0.603922, 0.443137, 0.397638, 314, 82, 220, 148"
       ]
      },
      {
       "output_type": "stream",
       "stream": "stdout",
       "text": [
        "\n",
        "6, 8, 0.526113, 0.631373, 0.470588, 0.476378, 281, 81, 248, 154"
       ]
      },
      {
       "output_type": "stream",
       "stream": "stdout",
       "text": [
        "\n",
        "6, 9, 0.535258, 0.607843, 0.525490, 0.472441, 273, 82, 261, 148"
       ]
      },
      {
       "output_type": "stream",
       "stream": "stdout",
       "text": [
        "\n",
        "6, 10, 0.518141, 0.623529, 0.484252, 0.446640, 289, 78, 239, 156"
       ]
      },
      {
       "output_type": "stream",
       "stream": "stdout",
       "text": [
        "\n",
        "6, 11, 0.524754, 0.603922, 0.503937, 0.466403, 286, 76, 247, 153"
       ]
      },
      {
       "output_type": "stream",
       "stream": "stdout",
       "text": [
        "\n",
        "7, 0, 0.441635, 0.540541, 0.418605, 0.365759, 361, 71, 179, 163"
       ]
      },
      {
       "output_type": "stream",
       "stream": "stdout",
       "text": [
        "\n",
        "7, 1, 0.474365, 0.515385, 0.359073, 0.548638, 304, 104, 243, 125"
       ]
      },
      {
       "output_type": "stream",
       "stream": "stdout",
       "text": [
        "\n",
        "7, 2, 0.510396, 0.509653, 0.465116, 0.556420, 267, 112, 273, 122"
       ]
      },
      {
       "output_type": "stream",
       "stream": "stdout",
       "text": [
        "\n",
        "7, 3, 0.492168, 0.552124, 0.434109, 0.490272, 289, 104, 256, 125"
       ]
      },
      {
       "output_type": "stream",
       "stream": "stdout",
       "text": [
        "\n",
        "7, 4, 0.462989, 0.507752, 0.408560, 0.472656, 320, 94, 217, 140"
       ]
      },
      {
       "output_type": "stream",
       "stream": "stdout",
       "text": [
        "\n",
        "7, 5, 0.502960, 0.662791, 0.400778, 0.445312, 265, 118, 277, 111"
       ]
      },
      {
       "output_type": "stream",
       "stream": "stdout",
       "text": [
        "\n",
        "7, 6, 0.454902, 0.560784, 0.431373, 0.372549, 330, 87, 200, 148"
       ]
      },
      {
       "output_type": "stream",
       "stream": "stdout",
       "text": [
        "\n",
        "7, 7, 0.504499, 0.617188, 0.441406, 0.454902, 283, 97, 253, 134"
       ]
      },
      {
       "output_type": "stream",
       "stream": "stdout",
       "text": [
        "\n",
        "7, 8, 0.526113, 0.631373, 0.470588, 0.476378, 281, 81, 248, 154"
       ]
      },
      {
       "output_type": "stream",
       "stream": "stdout",
       "text": [
        "\n",
        "7, 9, 0.542295, 0.628906, 0.513725, 0.484252, 268, 82, 267, 148"
       ]
      },
      {
       "output_type": "stream",
       "stream": "stdout",
       "text": [
        "\n",
        "7, 10, 0.518141, 0.623529, 0.484252, 0.446640, 289, 78, 239, 156"
       ]
      },
      {
       "output_type": "stream",
       "stream": "stdout",
       "text": [
        "\n",
        "7, 11, 0.524754, 0.603922, 0.503937, 0.466403, 286, 76, 247, 153"
       ]
      },
      {
       "output_type": "stream",
       "stream": "stdout",
       "text": [
        "\n",
        "<< subject LA_014 >>\n",
        "3, 0, 0.430439, 0.522167, 0.368159, 0.400990, 63, 282, 143, 118"
       ]
      },
      {
       "output_type": "stream",
       "stream": "stdout",
       "text": [
        "\n",
        "3, 1, 0.404126, 0.485149, 0.403846, 0.323383, 63, 301, 142, 105"
       ]
      },
      {
       "output_type": "stream",
       "stream": "stdout",
       "text": [
        "\n",
        "3, 2, 0.443690, 0.541872, 0.417910, 0.371287, 55, 282, 151, 118"
       ]
      },
      {
       "output_type": "stream",
       "stream": "stdout",
       "text": [
        "\n",
        "3, 3, 0.418948, 0.480198, 0.413462, 0.363184, 69, 286, 136, 120"
       ]
      },
      {
       "output_type": "stream",
       "stream": "stdout",
       "text": [
        "\n",
        "3, 4, 0.414084, 0.463054, 0.398010, 0.381188, 59, 296, 147, 104"
       ]
      },
      {
       "output_type": "stream",
       "stream": "stdout",
       "text": [
        "\n",
        "3, 5, 0.371704, 0.405941, 0.350962, 0.358209, 85, 299, 120, 107"
       ]
      },
      {
       "output_type": "stream",
       "stream": "stdout",
       "text": [
        "\n",
        "3, 6, 0.385509, 0.442786, 0.391960, 0.321782, 72, 298, 130, 102"
       ]
      },
      {
       "output_type": "stream",
       "stream": "stdout",
       "text": [
        "\n",
        "3, 7, 0.391437, 0.422111, 0.385366, 0.366834, 83, 284, 116, 120"
       ]
      },
      {
       "output_type": "stream",
       "stream": "stdout",
       "text": [
        "\n",
        "3, 8, 0.427127, 0.502488, 0.412060, 0.366834, 80, 263, 122, 134"
       ]
      },
      {
       "output_type": "stream",
       "stream": "stdout",
       "text": [
        "\n",
        "3, 9, 0.441345, 0.477387, 0.419512, 0.427136, 70, 267, 129, 137"
       ]
      },
      {
       "output_type": "stream",
       "stream": "stdout",
       "text": [
        "\n",
        "3, 10, 0.487312, 0.537313, 0.497487, 0.427136, 58, 249, 144, 148"
       ]
      },
      {
       "output_type": "stream",
       "stream": "stdout",
       "text": [
        "\n",
        "3, 11, 0.438142, 0.477387, 0.404878, 0.432161, 80, 259, 119, 145"
       ]
      },
      {
       "output_type": "stream",
       "stream": "stdout",
       "text": [
        "\n",
        "4, 0, 0.418717, 0.532751, 0.354978, 0.368421, 73, 327, 161, 127"
       ]
      },
      {
       "output_type": "stream",
       "stream": "stdout",
       "text": [
        "\n",
        "4, 1, 0.418623, 0.489177, 0.392241, 0.374449, 70, 331, 161, 128"
       ]
      },
      {
       "output_type": "stream",
       "stream": "stdout",
       "text": [
        "\n",
        "4, 2, 0.433166, 0.506550, 0.402597, 0.390351, 74, 316, 160, 138"
       ]
      },
      {
       "output_type": "stream",
       "stream": "stdout",
       "text": [
        "\n",
        "4, 3, 0.411351, 0.471861, 0.396552, 0.365639, 75, 331, 156, 128"
       ]
      },
      {
       "output_type": "stream",
       "stream": "stdout",
       "text": [
        "\n",
        "4, 4, 0.405484, 0.441048, 0.402597, 0.372807, 79, 330, 155, 124"
       ]
      },
      {
       "output_type": "stream",
       "stream": "stdout",
       "text": [
        "\n",
        "4, 5, 0.376381, 0.441558, 0.383621, 0.303965, 88, 342, 143, 117"
       ]
      },
      {
       "output_type": "stream",
       "stream": "stdout",
       "text": [
        "\n",
        "4, 6, 0.404790, 0.438053, 0.399123, 0.377193, 78, 328, 150, 126"
       ]
      },
      {
       "output_type": "stream",
       "stream": "stdout",
       "text": [
        "\n",
        "4, 7, 0.419749, 0.425439, 0.445415, 0.388393, 89, 306, 136, 150"
       ]
      },
      {
       "output_type": "stream",
       "stream": "stdout",
       "text": [
        "\n",
        "4, 8, 0.441683, 0.482301, 0.460526, 0.382222, 87, 292, 141, 159"
       ]
      },
      {
       "output_type": "stream",
       "stream": "stdout",
       "text": [
        "\n",
        "4, 9, 0.457904, 0.504386, 0.454148, 0.415179, 82, 287, 143, 169"
       ]
      },
      {
       "output_type": "stream",
       "stream": "stdout",
       "text": [
        "\n",
        "4, 10, 0.475568, 0.517699, 0.491228, 0.417778, 67, 289, 161, 162"
       ]
      },
      {
       "output_type": "stream",
       "stream": "stdout",
       "text": [
        "\n",
        "4, 11, 0.439060, 0.469298, 0.414847, 0.433036, 83, 299, 142, 157"
       ]
      },
      {
       "output_type": "stream",
       "stream": "stdout",
       "text": [
        "\n",
        "5, 0, 0.422990, 0.504032, 0.367347, 0.397590, 65, 363, 185, 129"
       ]
      },
      {
       "output_type": "stream",
       "stream": "stdout",
       "text": [
        "\n",
        "5, 1, 0.437903, 0.487903, 0.446215, 0.379592, 79, 339, 171, 155"
       ]
      },
      {
       "output_type": "stream",
       "stream": "stdout",
       "text": [
        "\n",
        "5, 2, 0.394643, 0.491935, 0.326531, 0.365462, 75, 374, 175, 118"
       ]
      },
      {
       "output_type": "stream",
       "stream": "stdout",
       "text": [
        "\n",
        "5, 3, 0.401691, 0.447581, 0.402390, 0.355102, 97, 348, 153, 146"
       ]
      },
      {
       "output_type": "stream",
       "stream": "stdout",
       "text": [
        "\n",
        "5, 4, 0.409669, 0.487903, 0.383673, 0.357430, 80, 358, 170, 134"
       ]
      },
      {
       "output_type": "stream",
       "stream": "stdout",
       "text": [
        "\n",
        "5, 5, 0.377319, 0.425101, 0.364000, 0.342857, 104, 358, 144, 136"
       ]
      },
      {
       "output_type": "stream",
       "stream": "stdout",
       "text": [
        "\n",
        "5, 6, 0.424697, 0.457143, 0.433884, 0.383065, 84, 339, 160, 152"
       ]
      },
      {
       "output_type": "stream",
       "stream": "stdout",
       "text": [
        "\n",
        "5, 7, 0.454824, 0.483607, 0.471774, 0.409091, 95, 305, 147, 187"
       ]
      },
      {
       "output_type": "stream",
       "stream": "stdout",
       "text": [
        "\n",
        "5, 8, 0.453623, 0.502041, 0.471074, 0.387755, 87, 313, 157, 175"
       ]
      },
      {
       "output_type": "stream",
       "stream": "stdout",
       "text": [
        "\n",
        "5, 9, 0.459145, 0.487705, 0.447581, 0.442149, 97, 300, 145, 192"
       ]
      },
      {
       "output_type": "stream",
       "stream": "stdout",
       "text": [
        "\n",
        "5, 10, 0.452212, 0.489796, 0.458678, 0.408163, 86, 315, 158, 173"
       ]
      },
      {
       "output_type": "stream",
       "stream": "stdout",
       "text": [
        "\n",
        "5, 11, 0.446092, 0.495902, 0.429150, 0.413223, 99, 307, 143, 184"
       ]
      },
      {
       "output_type": "stream",
       "stream": "stdout",
       "text": [
        "\n",
        "6, 0, 0.422665, 0.478599, 0.457364, 0.332031, 71, 374, 186, 140"
       ]
      },
      {
       "output_type": "stream",
       "stream": "stdout",
       "text": [
        "\n",
        "6, 1, 0.443554, 0.460938, 0.480620, 0.389105, 80, 349, 180, 162"
       ]
      },
      {
       "output_type": "stream",
       "stream": "stdout",
       "text": [
        "\n",
        "6, 2, 0.421555, 0.478599, 0.383721, 0.402344, 75, 371, 182, 143"
       ]
      },
      {
       "output_type": "stream",
       "stream": "stdout",
       "text": [
        "\n",
        "6, 3, 0.434621, 0.480469, 0.387597, 0.435798, 91, 345, 169, 166"
       ]
      },
      {
       "output_type": "stream",
       "stream": "stdout",
       "text": [
        "\n",
        "6, 4, 0.392763, 0.453125, 0.357977, 0.367188, 74, 393, 181, 121"
       ]
      },
      {
       "output_type": "stream",
       "stream": "stdout",
       "text": [
        "\n",
        "6, 5, 0.393320, 0.435294, 0.365759, 0.378906, 85, 381, 173, 129"
       ]
      },
      {
       "output_type": "stream",
       "stream": "stdout",
       "text": [
        "\n",
        "6, 6, 0.425942, 0.422925, 0.458824, 0.396078, 84, 354, 165, 160"
       ]
      },
      {
       "output_type": "stream",
       "stream": "stdout",
       "text": [
        "\n",
        "6, 7, 0.440732, 0.464286, 0.474510, 0.383399, 89, 336, 163, 172"
       ]
      },
      {
       "output_type": "stream",
       "stream": "stdout",
       "text": [
        "\n",
        "6, 8, 0.460224, 0.470356, 0.533333, 0.376984, 89, 321, 160, 190"
       ]
      },
      {
       "output_type": "stream",
       "stream": "stdout",
       "text": [
        "\n",
        "6, 9, 0.431535, 0.476190, 0.470588, 0.347826, 103, 329, 149, 179"
       ]
      },
      {
       "output_type": "stream",
       "stream": "stdout",
       "text": [
        "\n",
        "6, 10, 0.459627, 0.513834, 0.503937, 0.361111, 97, 313, 152, 197"
       ]
      },
      {
       "output_type": "stream",
       "stream": "stdout",
       "text": [
        "\n",
        "6, 11, 0.446671, 0.472222, 0.448819, 0.418972, 107, 313, 145, 194"
       ]
      },
      {
       "output_type": "stream",
       "stream": "stdout",
       "text": [
        "\n",
        "7, 0, 0.446169, 0.447471, 0.501931, 0.389105, 98, 330, 159, 186"
       ]
      },
      {
       "output_type": "stream",
       "stream": "stdout",
       "text": [
        "\n",
        "7, 1, 0.450844, 0.488372, 0.455598, 0.408560, 100, 325, 162, 187"
       ]
      },
      {
       "output_type": "stream",
       "stream": "stdout",
       "text": [
        "\n",
        "7, 2, 0.442408, 0.431907, 0.451737, 0.443580, 83, 348, 174, 168"
       ]
      },
      {
       "output_type": "stream",
       "stream": "stdout",
       "text": [
        "\n",
        "7, 3, 0.427523, 0.505837, 0.379845, 0.396887, 83, 359, 177, 153"
       ]
      },
      {
       "output_type": "stream",
       "stream": "stdout",
       "text": [
        "\n",
        "7, 4, 0.429930, 0.449219, 0.406977, 0.433594, 71, 368, 184, 147"
       ]
      },
      {
       "output_type": "stream",
       "stream": "stdout",
       "text": [
        "\n",
        "7, 5, 0.414868, 0.460938, 0.381323, 0.402344, 80, 370, 178, 141"
       ]
      },
      {
       "output_type": "stream",
       "stream": "stdout",
       "text": [
        "\n",
        "7, 6, 0.434542, 0.446640, 0.468750, 0.388235, 90, 342, 159, 173"
       ]
      },
      {
       "output_type": "stream",
       "stream": "stdout",
       "text": [
        "\n",
        "7, 7, 0.453285, 0.480315, 0.492188, 0.387352, 81, 336, 172, 174"
       ]
      },
      {
       "output_type": "stream",
       "stream": "stdout",
       "text": [
        "\n",
        "7, 8, 0.452724, 0.474308, 0.460938, 0.422925, 99, 318, 150, 195"
       ]
      },
      {
       "output_type": "stream",
       "stream": "stdout",
       "text": [
        "\n",
        "7, 9, 0.438149, 0.464567, 0.490196, 0.359684, 105, 323, 148, 186"
       ]
      },
      {
       "output_type": "stream",
       "stream": "stdout",
       "text": [
        "\n",
        "7, 10, 0.452071, 0.466403, 0.439216, 0.450593, 111, 306, 138, 206"
       ]
      },
      {
       "output_type": "stream",
       "stream": "stdout",
       "text": [
        "\n",
        "7, 11, 0.453964, 0.494071, 0.440945, 0.426877, 106, 309, 146, 199"
       ]
      },
      {
       "output_type": "stream",
       "stream": "stdout",
       "text": [
        "\n",
        "<< subject LA_015 >>\n",
        "3, 0, 0.331177, 0.343284, 0.315271, 0.334975, 23, 383, 100, 101"
       ]
      },
      {
       "output_type": "stream",
       "stream": "stdout",
       "text": [
        "\n",
        "3, 1, 0.322882, 0.361905, 0.304762, 0.301980, 17, 404, 114, 87"
       ]
      },
      {
       "output_type": "stream",
       "stream": "stdout",
       "text": [
        "\n",
        "3, 2, 0.319617, 0.323383, 0.295567, 0.339901, 18, 395, 105, 89"
       ]
      },
      {
       "output_type": "stream",
       "stream": "stdout",
       "text": [
        "\n",
        "3, 3, 0.302373, 0.300000, 0.295238, 0.311881, 24, 410, 107, 81"
       ]
      },
      {
       "output_type": "stream",
       "stream": "stdout",
       "text": [
        "\n",
        "3, 4, 0.311407, 0.323383, 0.315271, 0.295567, 24, 394, 99, 90"
       ]
      },
      {
       "output_type": "stream",
       "stream": "stdout",
       "text": [
        "\n",
        "3, 5, 0.297171, 0.314286, 0.300000, 0.277228, 31, 406, 100, 85"
       ]
      },
      {
       "output_type": "stream",
       "stream": "stdout",
       "text": [
        "\n",
        "3, 6, 0.308494, 0.311558, 0.313433, 0.300493, 27, 390, 96, 90"
       ]
      },
      {
       "output_type": "stream",
       "stream": "stdout",
       "text": [
        "\n",
        "3, 7, 0.294565, 0.318841, 0.289855, 0.275000, 28, 405, 103, 78"
       ]
      },
      {
       "output_type": "stream",
       "stream": "stdout",
       "text": [
        "\n",
        "3, 8, 0.302824, 0.301508, 0.288557, 0.318408, 24, 395, 99, 83"
       ]
      },
      {
       "output_type": "stream",
       "stream": "stdout",
       "text": [
        "\n",
        "3, 9, 0.294678, 0.323671, 0.275362, 0.285000, 22, 411, 109, 72"
       ]
      },
      {
       "output_type": "stream",
       "stream": "stdout",
       "text": [
        "\n",
        "3, 10, 0.294516, 0.296482, 0.268657, 0.318408, 21, 403, 102, 75"
       ]
      },
      {
       "output_type": "stream",
       "stream": "stdout",
       "text": [
        "\n",
        "3, 11, 0.295564, 0.318841, 0.285024, 0.282828, 15, 416, 116, 65"
       ]
      },
      {
       "output_type": "stream",
       "stream": "stdout",
       "text": [
        "\n",
        "4, 0, 0.299753, 0.333333, 0.278970, 0.286957, 25, 459, 117, 90"
       ]
      },
      {
       "output_type": "stream",
       "stream": "stdout",
       "text": [
        "\n",
        "4, 1, 0.307103, 0.318966, 0.286325, 0.316017, 22, 461, 123, 91"
       ]
      },
      {
       "output_type": "stream",
       "stream": "stdout",
       "text": [
        "\n",
        "4, 2, 0.290955, 0.285088, 0.270386, 0.317391, 23, 467, 119, 82"
       ]
      },
      {
       "output_type": "stream",
       "stream": "stdout",
       "text": [
        "\n",
        "4, 3, 0.314243, 0.344828, 0.294872, 0.303030, 19, 459, 126, 93"
       ]
      },
      {
       "output_type": "stream",
       "stream": "stdout",
       "text": [
        "\n",
        "4, 4, 0.298430, 0.364035, 0.270386, 0.260870, 30, 455, 112, 94"
       ]
      },
      {
       "output_type": "stream",
       "stream": "stdout",
       "text": [
        "\n",
        "4, 5, 0.314163, 0.349138, 0.311966, 0.281385, 25, 453, 120, 99"
       ]
      },
      {
       "output_type": "stream",
       "stream": "stdout",
       "text": [
        "\n",
        "4, 6, 0.286216, 0.297778, 0.282609, 0.278261, 33, 456, 109, 87"
       ]
      },
      {
       "output_type": "stream",
       "stream": "stdout",
       "text": [
        "\n",
        "4, 7, 0.301946, 0.305677, 0.281385, 0.318777, 27, 454, 118, 90"
       ]
      },
      {
       "output_type": "stream",
       "stream": "stdout",
       "text": [
        "\n",
        "4, 8, 0.278405, 0.311111, 0.252174, 0.271930, 24, 469, 118, 72"
       ]
      },
      {
       "output_type": "stream",
       "stream": "stdout",
       "text": [
        "\n",
        "4, 9, 0.280112, 0.257642, 0.281385, 0.301310, 30, 466, 115, 78"
       ]
      },
      {
       "output_type": "stream",
       "stream": "stdout",
       "text": [
        "\n",
        "4, 10, 0.284265, 0.302222, 0.234783, 0.315789, 28, 461, 114, 80"
       ]
      },
      {
       "output_type": "stream",
       "stream": "stdout",
       "text": [
        "\n",
        "4, 11, 0.279816, 0.292576, 0.281385, 0.265487, 22, 472, 123, 69"
       ]
      },
      {
       "output_type": "stream",
       "stream": "stdout",
       "text": [
        "\n",
        "5, 0, 0.328004, 0.330612, 0.337398, 0.316000, 18, 480, 132, 111"
       ]
      },
      {
       "output_type": "stream",
       "stream": "stdout",
       "text": [
        "\n",
        "5, 1, 0.286186, 0.366534, 0.245059, 0.246964, 17, 519, 139, 76"
       ]
      },
      {
       "output_type": "stream",
       "stream": "stdout",
       "text": [
        "\n",
        "5, 2, 0.290268, 0.306122, 0.292683, 0.272000, 20, 506, 130, 85"
       ]
      },
      {
       "output_type": "stream",
       "stream": "stdout",
       "text": [
        "\n",
        "5, 3, 0.276664, 0.362550, 0.256917, 0.210526, 36, 507, 120, 88"
       ]
      },
      {
       "output_type": "stream",
       "stream": "stdout",
       "text": [
        "\n",
        "5, 4, 0.302513, 0.326531, 0.313008, 0.268000, 21, 496, 129, 95"
       ]
      },
      {
       "output_type": "stream",
       "stream": "stdout",
       "text": [
        "\n",
        "5, 5, 0.288248, 0.320000, 0.289683, 0.255061, 32, 501, 124, 92"
       ]
      },
      {
       "output_type": "stream",
       "stream": "stdout",
       "text": [
        "\n",
        "5, 6, 0.294572, 0.285124, 0.341564, 0.257028, 25, 493, 125, 91"
       ]
      },
      {
       "output_type": "stream",
       "stream": "stdout",
       "text": [
        "\n",
        "5, 7, 0.274922, 0.336032, 0.252000, 0.236735, 27, 511, 129, 75"
       ]
      },
      {
       "output_type": "stream",
       "stream": "stdout",
       "text": [
        "\n",
        "5, 8, 0.279646, 0.293388, 0.259259, 0.286290, 25, 503, 125, 80"
       ]
      },
      {
       "output_type": "stream",
       "stream": "stdout",
       "text": [
        "\n",
        "5, 9, 0.253459, 0.303644, 0.220000, 0.236735, 31, 523, 125, 63"
       ]
      },
      {
       "output_type": "stream",
       "stream": "stdout",
       "text": [
        "\n",
        "5, 10, 0.274741, 0.322314, 0.242798, 0.259109, 24, 507, 126, 75"
       ]
      },
      {
       "output_type": "stream",
       "stream": "stdout",
       "text": [
        "\n",
        "5, 11, 0.280271, 0.327935, 0.269076, 0.243802, 32, 499, 124, 83"
       ]
      },
      {
       "output_type": "stream",
       "stream": "stdout",
       "text": [
        "\n",
        "6, 0, 0.253248, 0.285714, 0.216216, 0.257812, 27, 551, 128, 68"
       ]
      },
      {
       "output_type": "stream",
       "stream": "stdout",
       "text": [
        "\n",
        "6, 1, 0.268646, 0.305019, 0.254826, 0.246094, 21, 545, 139, 69"
       ]
      },
      {
       "output_type": "stream",
       "stream": "stdout",
       "text": [
        "\n",
        "6, 2, 0.316371, 0.316602, 0.359073, 0.273438, 29, 500, 126, 119"
       ]
      },
      {
       "output_type": "stream",
       "stream": "stdout",
       "text": [
        "\n",
        "6, 3, 0.332071, 0.335907, 0.320463, 0.339844, 24, 493, 136, 121"
       ]
      },
      {
       "output_type": "stream",
       "stream": "stdout",
       "text": [
        "\n",
        "6, 4, 0.323633, 0.325581, 0.399225, 0.246094, 41, 481, 114, 136"
       ]
      },
      {
       "output_type": "stream",
       "stream": "stdout",
       "text": [
        "\n",
        "6, 5, 0.321310, 0.337209, 0.395349, 0.231373, 32, 491, 128, 120"
       ]
      },
      {
       "output_type": "stream",
       "stream": "stdout",
       "text": [
        "\n",
        "6, 6, 0.250669, 0.305882, 0.238281, 0.207843, 20, 554, 135, 57"
       ]
      },
      {
       "output_type": "stream",
       "stream": "stdout",
       "text": [
        "\n",
        "6, 7, 0.261471, 0.329412, 0.214844, 0.240157, 19, 546, 141, 59"
       ]
      },
      {
       "output_type": "stream",
       "stream": "stdout",
       "text": [
        "\n",
        "6, 8, 0.299221, 0.298039, 0.347656, 0.251969, 40, 496, 115, 114"
       ]
      },
      {
       "output_type": "stream",
       "stream": "stdout",
       "text": [
        "\n",
        "6, 9, 0.307361, 0.305882, 0.367188, 0.249012, 39, 490, 121, 114"
       ]
      },
      {
       "output_type": "stream",
       "stream": "stdout",
       "text": [
        "\n",
        "6, 10, 0.310455, 0.301961, 0.380392, 0.249012, 37, 489, 118, 119"
       ]
      },
      {
       "output_type": "stream",
       "stream": "stdout",
       "text": [
        "\n",
        "6, 11, 0.344549, 0.321569, 0.396078, 0.316000, 42, 456, 118, 144"
       ]
      },
      {
       "output_type": "stream",
       "stream": "stdout",
       "text": [
        "\n",
        "7, 0, 0.273525, 0.328185, 0.227799, 0.264591, 22, 541, 133, 79"
       ]
      },
      {
       "output_type": "stream",
       "stream": "stdout",
       "text": [
        "\n",
        "7, 1, 0.252744, 0.300000, 0.173077, 0.285156, 30, 550, 130, 66"
       ]
      },
      {
       "output_type": "stream",
       "stream": "stdout",
       "text": [
        "\n",
        "7, 2, 0.348221, 0.320463, 0.440154, 0.284047, 40, 465, 115, 155"
       ]
      },
      {
       "output_type": "stream",
       "stream": "stdout",
       "text": [
        "\n",
        "7, 3, 0.332071, 0.335907, 0.320463, 0.339844, 24, 493, 136, 121"
       ]
      },
      {
       "output_type": "stream",
       "stream": "stdout",
       "text": [
        "\n",
        "7, 4, 0.323633, 0.325581, 0.399225, 0.246094, 41, 481, 114, 136"
       ]
      },
      {
       "output_type": "stream",
       "stream": "stdout",
       "text": [
        "\n",
        "7, 5, 0.321310, 0.337209, 0.395349, 0.231373, 32, 491, 128, 120"
       ]
      },
      {
       "output_type": "stream",
       "stream": "stdout",
       "text": [
        "\n",
        "7, 6, 0.250669, 0.305882, 0.238281, 0.207843, 20, 554, 135, 57"
       ]
      },
      {
       "output_type": "stream",
       "stream": "stdout",
       "text": [
        "\n",
        "7, 7, 0.320528, 0.347656, 0.354086, 0.259843, 40, 481, 121, 125"
       ]
      },
      {
       "output_type": "stream",
       "stream": "stdout",
       "text": [
        "\n",
        "7, 8, 0.299221, 0.298039, 0.347656, 0.251969, 40, 496, 115, 114"
       ]
      },
      {
       "output_type": "stream",
       "stream": "stdout",
       "text": [
        "\n",
        "7, 9, 0.316046, 0.316406, 0.390625, 0.241107, 39, 484, 122, 120"
       ]
      },
      {
       "output_type": "stream",
       "stream": "stdout",
       "text": [
        "\n",
        "7, 10, 0.310455, 0.301961, 0.380392, 0.249012, 37, 489, 118, 119"
       ]
      },
      {
       "output_type": "stream",
       "stream": "stdout",
       "text": [
        "\n",
        "7, 11, 0.341473, 0.317647, 0.400000, 0.306773, 39, 462, 121, 139"
       ]
      },
      {
       "output_type": "stream",
       "stream": "stdout",
       "text": [
        "\n",
        "<< subject LA_016 >>\n",
        "3, 0, 0.497067, 0.436548, 0.507389, 0.547264, 98, 204, 153, 146"
       ]
      },
      {
       "output_type": "stream",
       "stream": "stdout",
       "text": [
        "\n",
        "3, 1, 0.480885, 0.439024, 0.533333, 0.470297, 103, 217, 159, 138"
       ]
      },
      {
       "output_type": "stream",
       "stream": "stdout",
       "text": [
        "\n",
        "3, 2, 0.482341, 0.451777, 0.477833, 0.517413, 99, 212, 152, 138"
       ]
      },
      {
       "output_type": "stream",
       "stream": "stdout",
       "text": [
        "\n",
        "3, 3, 0.426263, 0.380488, 0.442857, 0.455446, 112, 242, 150, 113"
       ]
      },
      {
       "output_type": "stream",
       "stream": "stdout",
       "text": [
        "\n",
        "3, 4, 0.433974, 0.390863, 0.438424, 0.472637, 106, 234, 145, 116"
       ]
      },
      {
       "output_type": "stream",
       "stream": "stdout",
       "text": [
        "\n",
        "3, 5, 0.465321, 0.414634, 0.471429, 0.509901, 96, 234, 166, 121"
       ]
      },
      {
       "output_type": "stream",
       "stream": "stdout",
       "text": [
        "\n",
        "3, 6, 0.490037, 0.415385, 0.507463, 0.547264, 94, 210, 153, 140"
       ]
      },
      {
       "output_type": "stream",
       "stream": "stdout",
       "text": [
        "\n",
        "3, 7, 0.473071, 0.455446, 0.463768, 0.500000, 98, 223, 156, 132"
       ]
      },
      {
       "output_type": "stream",
       "stream": "stdout",
       "text": [
        "\n",
        "3, 8, 0.503290, 0.492308, 0.507463, 0.510101, 82, 213, 162, 137"
       ]
      },
      {
       "output_type": "stream",
       "stream": "stdout",
       "text": [
        "\n",
        "3, 9, 0.509045, 0.460396, 0.521739, 0.545000, 74, 225, 180, 130"
       ]
      },
      {
       "output_type": "stream",
       "stream": "stdout",
       "text": [
        "\n",
        "3, 10, 0.499692, 0.456410, 0.517413, 0.525253, 80, 217, 164, 133"
       ]
      },
      {
       "output_type": "stream",
       "stream": "stdout",
       "text": [
        "\n",
        "3, 11, 0.489463, 0.470297, 0.483092, 0.515000, 90, 221, 164, 134"
       ]
      },
      {
       "output_type": "stream",
       "stream": "stdout",
       "text": [
        "\n",
        "4, 0, 0.490829, 0.455357, 0.519313, 0.497817, 111, 238, 181, 156"
       ]
      },
      {
       "output_type": "stream",
       "stream": "stdout",
       "text": [
        "\n",
        "4, 1, 0.472994, 0.429204, 0.474359, 0.515419, 116, 246, 177, 148"
       ]
      },
      {
       "output_type": "stream",
       "stream": "stdout",
       "text": [
        "\n",
        "4, 2, 0.463432, 0.446429, 0.463519, 0.480349, 117, 251, 175, 143"
       ]
      },
      {
       "output_type": "stream",
       "stream": "stdout",
       "text": [
        "\n",
        "4, 3, 0.427772, 0.393805, 0.440171, 0.449339, 127, 266, 166, 128"
       ]
      },
      {
       "output_type": "stream",
       "stream": "stdout",
       "text": [
        "\n",
        "4, 4, 0.460294, 0.415179, 0.463519, 0.502183, 111, 259, 181, 135"
       ]
      },
      {
       "output_type": "stream",
       "stream": "stdout",
       "text": [
        "\n",
        "4, 5, 0.479908, 0.407080, 0.512821, 0.519824, 107, 250, 186, 144"
       ]
      },
      {
       "output_type": "stream",
       "stream": "stdout",
       "text": [
        "\n",
        "4, 6, 0.487473, 0.425339, 0.508696, 0.528384, 107, 241, 179, 153"
       ]
      },
      {
       "output_type": "stream",
       "stream": "stdout",
       "text": [
        "\n",
        "4, 7, 0.479398, 0.488789, 0.476190, 0.473214, 105, 248, 179, 146"
       ]
      },
      {
       "output_type": "stream",
       "stream": "stdout",
       "text": [
        "\n",
        "4, 8, 0.502021, 0.470588, 0.495652, 0.539823, 95, 242, 188, 152"
       ]
      },
      {
       "output_type": "stream",
       "stream": "stdout",
       "text": [
        "\n",
        "4, 9, 0.497138, 0.470852, 0.484848, 0.535714, 90, 251, 194, 143"
       ]
      },
      {
       "output_type": "stream",
       "stream": "stdout",
       "text": [
        "\n",
        "4, 10, 0.527064, 0.497738, 0.534783, 0.548673, 86, 234, 197, 160"
       ]
      },
      {
       "output_type": "stream",
       "stream": "stdout",
       "text": [
        "\n",
        "4, 11, 0.486708, 0.461883, 0.484848, 0.513393, 111, 237, 173, 157"
       ]
      },
      {
       "output_type": "stream",
       "stream": "stdout",
       "text": [
        "\n",
        "5, 0, 0.460347, 0.431535, 0.475610, 0.473896, 126, 271, 183, 156"
       ]
      },
      {
       "output_type": "stream",
       "stream": "stdout",
       "text": [
        "\n",
        "5, 1, 0.476566, 0.433198, 0.482213, 0.514286, 125, 265, 194, 161"
       ]
      },
      {
       "output_type": "stream",
       "stream": "stdout",
       "text": [
        "\n",
        "5, 2, 0.456048, 0.406639, 0.471545, 0.489960, 136, 264, 173, 163"
       ]
      },
      {
       "output_type": "stream",
       "stream": "stdout",
       "text": [
        "\n",
        "5, 3, 0.441700, 0.388664, 0.446640, 0.489796, 129, 287, 190, 139"
       ]
      },
      {
       "output_type": "stream",
       "stream": "stdout",
       "text": [
        "\n",
        "5, 4, 0.461468, 0.406639, 0.487805, 0.489960, 111, 285, 198, 142"
       ]
      },
      {
       "output_type": "stream",
       "stream": "stdout",
       "text": [
        "\n",
        "5, 5, 0.465418, 0.390244, 0.503968, 0.502041, 131, 266, 186, 160"
       ]
      },
      {
       "output_type": "stream",
       "stream": "stdout",
       "text": [
        "\n",
        "5, 6, 0.485028, 0.445378, 0.481481, 0.528226, 112, 263, 190, 164"
       ]
      },
      {
       "output_type": "stream",
       "stream": "stdout",
       "text": [
        "\n",
        "5, 7, 0.485696, 0.448560, 0.492000, 0.516529, 109, 269, 199, 158"
       ]
      },
      {
       "output_type": "stream",
       "stream": "stdout",
       "text": [
        "\n",
        "5, 8, 0.469491, 0.441176, 0.493827, 0.473469, 107, 278, 192, 149"
       ]
      },
      {
       "output_type": "stream",
       "stream": "stdout",
       "text": [
        "\n",
        "5, 9, 0.503606, 0.510288, 0.484000, 0.516529, 106, 259, 202, 168"
       ]
      },
      {
       "output_type": "stream",
       "stream": "stdout",
       "text": [
        "\n",
        "5, 10, 0.502275, 0.453782, 0.497942, 0.555102, 99, 262, 200, 165"
       ]
      },
      {
       "output_type": "stream",
       "stream": "stdout",
       "text": [
        "\n",
        "5, 11, 0.491985, 0.473251, 0.477912, 0.524793, 106, 267, 202, 159"
       ]
      },
      {
       "output_type": "stream",
       "stream": "stdout",
       "text": [
        "\n",
        "6, 0, 0.464336, 0.433594, 0.463320, 0.496094, 128, 285, 194, 164"
       ]
      },
      {
       "output_type": "stream",
       "stream": "stdout",
       "text": [
        "\n",
        "6, 1, 0.413684, 0.392157, 0.416988, 0.431907, 114, 338, 214, 105"
       ]
      },
      {
       "output_type": "stream",
       "stream": "stdout",
       "text": [
        "\n",
        "6, 2, 0.442261, 0.425781, 0.447876, 0.453125, 143, 287, 179, 162"
       ]
      },
      {
       "output_type": "stream",
       "stream": "stdout",
       "text": [
        "\n",
        "6, 3, 0.430597, 0.439216, 0.444015, 0.408560, 146, 293, 182, 150"
       ]
      },
      {
       "output_type": "stream",
       "stream": "stdout",
       "text": [
        "\n",
        "6, 4, 0.474449, 0.439216, 0.531008, 0.453125, 138, 266, 182, 183"
       ]
      },
      {
       "output_type": "stream",
       "stream": "stdout",
       "text": [
        "\n",
        "6, 5, 0.464568, 0.409449, 0.515504, 0.468750, 157, 254, 168, 189"
       ]
      },
      {
       "output_type": "stream",
       "stream": "stdout",
       "text": [
        "\n",
        "6, 6, 0.531825, 0.460317, 0.535156, 0.600000, 110, 247, 203, 203"
       ]
      },
      {
       "output_type": "stream",
       "stream": "stdout",
       "text": [
        "\n",
        "6, 7, 0.492151, 0.486056, 0.476562, 0.513834, 116, 270, 200, 174"
       ]
      },
      {
       "output_type": "stream",
       "stream": "stdout",
       "text": [
        "\n",
        "6, 8, 0.490637, 0.507937, 0.519531, 0.444444, 140, 247, 170, 203"
       ]
      },
      {
       "output_type": "stream",
       "stream": "stdout",
       "text": [
        "\n",
        "6, 9, 0.476144, 0.470120, 0.515625, 0.442688, 150, 248, 166, 196"
       ]
      },
      {
       "output_type": "stream",
       "stream": "stdout",
       "text": [
        "\n",
        "6, 10, 0.503237, 0.496032, 0.517647, 0.496032, 123, 254, 187, 195"
       ]
      },
      {
       "output_type": "stream",
       "stream": "stdout",
       "text": [
        "\n",
        "6, 11, 0.486020, 0.466135, 0.521569, 0.470356, 140, 250, 176, 193"
       ]
      },
      {
       "output_type": "stream",
       "stream": "stdout",
       "text": [
        "\n",
        "7, 0, 0.445685, 0.433594, 0.405405, 0.498054, 90, 338, 233, 111"
       ]
      },
      {
       "output_type": "stream",
       "stream": "stdout",
       "text": [
        "\n",
        "7, 1, 0.463225, 0.445736, 0.469231, 0.474708, 123, 293, 208, 151"
       ]
      },
      {
       "output_type": "stream",
       "stream": "stdout",
       "text": [
        "\n",
        "7, 2, 0.428688, 0.406250, 0.444015, 0.435798, 123, 318, 200, 131"
       ]
      },
      {
       "output_type": "stream",
       "stream": "stdout",
       "text": [
        "\n",
        "7, 3, 0.433279, 0.416342, 0.471042, 0.412451, 145, 293, 184, 151"
       ]
      },
      {
       "output_type": "stream",
       "stream": "stdout",
       "text": [
        "\n",
        "7, 4, 0.474449, 0.439216, 0.531008, 0.453125, 138, 266, 182, 183"
       ]
      },
      {
       "output_type": "stream",
       "stream": "stdout",
       "text": [
        "\n",
        "7, 5, 0.467397, 0.425781, 0.519380, 0.457031, 150, 260, 176, 184"
       ]
      },
      {
       "output_type": "stream",
       "stream": "stdout",
       "text": [
        "\n",
        "7, 6, 0.531825, 0.460317, 0.535156, 0.600000, 110, 247, 203, 203"
       ]
      },
      {
       "output_type": "stream",
       "stream": "stdout",
       "text": [
        "\n",
        "7, 7, 0.456604, 0.460630, 0.494163, 0.415020, 166, 249, 152, 197"
       ]
      },
      {
       "output_type": "stream",
       "stream": "stdout",
       "text": [
        "\n",
        "7, 8, 0.483464, 0.496032, 0.515625, 0.438735, 142, 251, 168, 200"
       ]
      },
      {
       "output_type": "stream",
       "stream": "stdout",
       "text": [
        "\n",
        "7, 9, 0.486079, 0.472441, 0.531250, 0.454545, 136, 256, 182, 189"
       ]
      },
      {
       "output_type": "stream",
       "stream": "stdout",
       "text": [
        "\n",
        "7, 10, 0.511853, 0.515873, 0.509804, 0.509881, 118, 253, 192, 197"
       ]
      },
      {
       "output_type": "stream",
       "stream": "stdout",
       "text": [
        "\n",
        "7, 11, 0.501888, 0.494071, 0.533333, 0.478261, 134, 245, 183, 199"
       ]
      },
      {
       "output_type": "stream",
       "stream": "stdout",
       "text": [
        "\n",
        "<< subject LA_018 >>\n",
        "3, 0, 0.243308, 0.265700, 0.247475, 0.216749, 16, 444, 69, 79"
       ]
      },
      {
       "output_type": "stream",
       "stream": "stdout",
       "text": [
        "\n",
        "3, 1, 0.232478, 0.241379, 0.208531, 0.247525, 20, 453, 61, 82"
       ]
      },
      {
       "output_type": "stream",
       "stream": "stdout",
       "text": [
        "\n",
        "3, 2, 0.238309, 0.270531, 0.242424, 0.201970, 24, 439, 61, 84"
       ]
      },
      {
       "output_type": "stream",
       "stream": "stdout",
       "text": [
        "\n",
        "3, 3, 0.232725, 0.305419, 0.184834, 0.207921, 20, 453, 61, 82"
       ]
      },
      {
       "output_type": "stream",
       "stream": "stdout",
       "text": [
        "\n",
        "3, 4, 0.236018, 0.318841, 0.202020, 0.187192, 24, 440, 61, 83"
       ]
      },
      {
       "output_type": "stream",
       "stream": "stdout",
       "text": [
        "\n",
        "3, 5, 0.209766, 0.261084, 0.180095, 0.188119, 23, 464, 58, 71"
       ]
      },
      {
       "output_type": "stream",
       "stream": "stdout",
       "text": [
        "\n",
        "3, 6, 0.225224, 0.258537, 0.239796, 0.177340, 22, 446, 63, 73"
       ]
      },
      {
       "output_type": "stream",
       "stream": "stdout",
       "text": [
        "\n",
        "3, 7, 0.223974, 0.290000, 0.201923, 0.180000, 17, 455, 64, 72"
       ]
      },
      {
       "output_type": "stream",
       "stream": "stdout",
       "text": [
        "\n",
        "3, 8, 0.258494, 0.331707, 0.239796, 0.203980, 18, 428, 67, 89"
       ]
      },
      {
       "output_type": "stream",
       "stream": "stdout",
       "text": [
        "\n",
        "3, 9, 0.217436, 0.280000, 0.192308, 0.180000, 14, 462, 67, 65"
       ]
      },
      {
       "output_type": "stream",
       "stream": "stdout",
       "text": [
        "\n",
        "3, 10, 0.262070, 0.292683, 0.239796, 0.253731, 15, 429, 70, 88"
       ]
      },
      {
       "output_type": "stream",
       "stream": "stdout",
       "text": [
        "\n",
        "3, 11, 0.222947, 0.275000, 0.201923, 0.191919, 14, 457, 67, 68"
       ]
      },
      {
       "output_type": "stream",
       "stream": "stdout",
       "text": [
        "\n",
        "4, 0, 0.230145, 0.227468, 0.241228, 0.221739, 23, 509, 72, 87"
       ]
      },
      {
       "output_type": "stream",
       "stream": "stdout",
       "text": [
        "\n",
        "4, 1, 0.235949, 0.243590, 0.243478, 0.220779, 23, 508, 71, 93"
       ]
      },
      {
       "output_type": "stream",
       "stream": "stdout",
       "text": [
        "\n",
        "4, 2, 0.238540, 0.278970, 0.214912, 0.221739, 27, 499, 68, 97"
       ]
      },
      {
       "output_type": "stream",
       "stream": "stdout",
       "text": [
        "\n",
        "4, 3, 0.214074, 0.273504, 0.173913, 0.194805, 25, 521, 69, 80"
       ]
      },
      {
       "output_type": "stream",
       "stream": "stdout",
       "text": [
        "\n",
        "4, 4, 0.233917, 0.321888, 0.184211, 0.195652, 28, 501, 67, 95"
       ]
      },
      {
       "output_type": "stream",
       "stream": "stdout",
       "text": [
        "\n",
        "4, 5, 0.217040, 0.256410, 0.178261, 0.216450, 25, 519, 69, 82"
       ]
      },
      {
       "output_type": "stream",
       "stream": "stdout",
       "text": [
        "\n",
        "4, 6, 0.245185, 0.295652, 0.235556, 0.204348, 21, 496, 74, 94"
       ]
      },
      {
       "output_type": "stream",
       "stream": "stdout",
       "text": [
        "\n",
        "4, 7, 0.242820, 0.316017, 0.224670, 0.187773, 18, 502, 76, 91"
       ]
      },
      {
       "output_type": "stream",
       "stream": "stdout",
       "text": [
        "\n",
        "4, 8, 0.239858, 0.308696, 0.226667, 0.184211, 20, 499, 75, 89"
       ]
      },
      {
       "output_type": "stream",
       "stream": "stdout",
       "text": [
        "\n",
        "4, 9, 0.239882, 0.303030, 0.202643, 0.213974, 16, 506, 78, 87"
       ]
      },
      {
       "output_type": "stream",
       "stream": "stdout",
       "text": [
        "\n",
        "4, 10, 0.245782, 0.282609, 0.226667, 0.228070, 15, 500, 80, 88"
       ]
      },
      {
       "output_type": "stream",
       "stream": "stdout",
       "text": [
        "\n",
        "4, 11, 0.233576, 0.285714, 0.207048, 0.207965, 15, 509, 79, 81"
       ]
      },
      {
       "output_type": "stream",
       "stream": "stdout",
       "text": [
        "\n",
        "5, 0, 0.249798, 0.261905, 0.267490, 0.220000, 25, 534, 81, 105"
       ]
      },
      {
       "output_type": "stream",
       "stream": "stdout",
       "text": [
        "\n",
        "5, 1, 0.227002, 0.240000, 0.214286, 0.226721, 22, 557, 79, 91"
       ]
      },
      {
       "output_type": "stream",
       "stream": "stdout",
       "text": [
        "\n",
        "5, 2, 0.252111, 0.293651, 0.238683, 0.224000, 29, 528, 77, 111"
       ]
      },
      {
       "output_type": "stream",
       "stream": "stdout",
       "text": [
        "\n",
        "5, 3, 0.241642, 0.284000, 0.218254, 0.222672, 20, 548, 81, 100"
       ]
      },
      {
       "output_type": "stream",
       "stream": "stdout",
       "text": [
        "\n",
        "5, 4, 0.219360, 0.301587, 0.160494, 0.196000, 34, 547, 72, 92"
       ]
      },
      {
       "output_type": "stream",
       "stream": "stdout",
       "text": [
        "\n",
        "5, 5, 0.245161, 0.333333, 0.167331, 0.234818, 26, 538, 75, 108"
       ]
      },
      {
       "output_type": "stream",
       "stream": "stdout",
       "text": [
        "\n",
        "5, 6, 0.249230, 0.325301, 0.241667, 0.180723, 27, 527, 79, 105"
       ]
      },
      {
       "output_type": "stream",
       "stream": "stdout",
       "text": [
        "\n",
        "5, 7, 0.223291, 0.276423, 0.201613, 0.191837, 19, 555, 82, 83"
       ]
      },
      {
       "output_type": "stream",
       "stream": "stdout",
       "text": [
        "\n",
        "5, 8, 0.246672, 0.309237, 0.229167, 0.201613, 22, 533, 84, 98"
       ]
      },
      {
       "output_type": "stream",
       "stream": "stdout",
       "text": [
        "\n",
        "5, 9, 0.243638, 0.296748, 0.209677, 0.224490, 12, 547, 89, 91"
       ]
      },
      {
       "output_type": "stream",
       "stream": "stdout",
       "text": [
        "\n",
        "5, 10, 0.266181, 0.313253, 0.266667, 0.218623, 17, 523, 89, 107"
       ]
      },
      {
       "output_type": "stream",
       "stream": "stdout",
       "text": [
        "\n",
        "5, 11, 0.228093, 0.280488, 0.213710, 0.190083, 11, 557, 90, 78"
       ]
      },
      {
       "output_type": "stream",
       "stream": "stdout",
       "text": [
        "\n",
        "6, 0, 0.256268, 0.289575, 0.158915, 0.320312, 18, 557, 91, 107"
       ]
      },
      {
       "output_type": "stream",
       "stream": "stdout",
       "text": [
        "\n",
        "6, 1, 0.307140, 0.290698, 0.267442, 0.363281, 17, 518, 89, 148"
       ]
      },
      {
       "output_type": "stream",
       "stream": "stdout",
       "text": [
        "\n",
        "6, 2, 0.291222, 0.312741, 0.201550, 0.359375, 25, 523, 84, 141"
       ]
      },
      {
       "output_type": "stream",
       "stream": "stdout",
       "text": [
        "\n",
        "6, 3, 0.250010, 0.279070, 0.217054, 0.253906, 24, 555, 82, 111"
       ]
      },
      {
       "output_type": "stream",
       "stream": "stdout",
       "text": [
        "\n",
        "6, 4, 0.287966, 0.279070, 0.284047, 0.300781, 31, 518, 78, 144"
       ]
      },
      {
       "output_type": "stream",
       "stream": "stdout",
       "text": [
        "\n",
        "6, 5, 0.226129, 0.280156, 0.225681, 0.172549, 29, 566, 77, 97"
       ]
      },
      {
       "output_type": "stream",
       "stream": "stdout",
       "text": [
        "\n",
        "6, 6, 0.246143, 0.301961, 0.299213, 0.137255, 19, 557, 90, 98"
       ]
      },
      {
       "output_type": "stream",
       "stream": "stdout",
       "text": [
        "\n",
        "6, 7, 0.234908, 0.307087, 0.287402, 0.110236, 14, 569, 92, 87"
       ]
      },
      {
       "output_type": "stream",
       "stream": "stdout",
       "text": [
        "\n",
        "6, 8, 0.239761, 0.301961, 0.283465, 0.133858, 21, 559, 88, 95"
       ]
      },
      {
       "output_type": "stream",
       "stream": "stdout",
       "text": [
        "\n",
        "6, 9, 0.229804, 0.299213, 0.279528, 0.110672, 15, 571, 91, 84"
       ]
      },
      {
       "output_type": "stream",
       "stream": "stdout",
       "text": [
        "\n",
        "6, 10, 0.242624, 0.298039, 0.251969, 0.177866, 23, 554, 86, 99"
       ]
      },
      {
       "output_type": "stream",
       "stream": "stdout",
       "text": [
        "\n",
        "6, 11, 0.249123, 0.299213, 0.240157, 0.208000, 14, 555, 92, 97"
       ]
      },
      {
       "output_type": "stream",
       "stream": "stdout",
       "text": [
        "\n",
        "7, 0, 0.250644, 0.285714, 0.182171, 0.284047, 18, 562, 91, 103"
       ]
      },
      {
       "output_type": "stream",
       "stream": "stdout",
       "text": [
        "\n",
        "7, 1, 0.240694, 0.243243, 0.138996, 0.339844, 16, 572, 90, 96"
       ]
      },
      {
       "output_type": "stream",
       "stream": "stdout",
       "text": [
        "\n",
        "7, 2, 0.324499, 0.335907, 0.139535, 0.498054, 18, 505, 91, 160"
       ]
      },
      {
       "output_type": "stream",
       "stream": "stdout",
       "text": [
        "\n",
        "7, 3, 0.250010, 0.279070, 0.217054, 0.253906, 24, 555, 82, 111"
       ]
      },
      {
       "output_type": "stream",
       "stream": "stdout",
       "text": [
        "\n",
        "7, 4, 0.287966, 0.279070, 0.284047, 0.300781, 31, 518, 78, 144"
       ]
      },
      {
       "output_type": "stream",
       "stream": "stdout",
       "text": [
        "\n",
        "7, 5, 0.226129, 0.280156, 0.225681, 0.172549, 29, 566, 77, 97"
       ]
      },
      {
       "output_type": "stream",
       "stream": "stdout",
       "text": [
        "\n",
        "7, 6, 0.246143, 0.301961, 0.299213, 0.137255, 19, 557, 90, 98"
       ]
      },
      {
       "output_type": "stream",
       "stream": "stdout",
       "text": [
        "\n",
        "7, 7, 0.218445, 0.301961, 0.243137, 0.110236, 21, 576, 85, 82"
       ]
      },
      {
       "output_type": "stream",
       "stream": "stdout",
       "text": [
        "\n",
        "7, 8, 0.239761, 0.301961, 0.283465, 0.133858, 21, 559, 88, 95"
       ]
      },
      {
       "output_type": "stream",
       "stream": "stdout",
       "text": [
        "\n",
        "7, 9, 0.243602, 0.294118, 0.258824, 0.177866, 20, 557, 86, 100"
       ]
      },
      {
       "output_type": "stream",
       "stream": "stdout",
       "text": [
        "\n",
        "7, 10, 0.242624, 0.298039, 0.251969, 0.177866, 23, 554, 86, 99"
       ]
      },
      {
       "output_type": "stream",
       "stream": "stdout",
       "text": [
        "\n",
        "7, 11, 0.247503, 0.299213, 0.244094, 0.199203, 14, 557, 92, 96"
       ]
      },
      {
       "output_type": "stream",
       "stream": "stdout",
       "text": [
        "\n",
        "<< subject LA_019 >>\n",
        "3, 0, 0.136886, 0.169154, 0.143564, 0.097938, 509, 6, 34, 48"
       ]
      },
      {
       "output_type": "stream",
       "stream": "stdout",
       "text": [
        "\n",
        "3, 1, 0.149251, 0.181818, 0.193396, 0.072539, 519, 2, 43, 50"
       ]
      },
      {
       "output_type": "stream",
       "stream": "stdout",
       "text": [
        "\n",
        "3, 2, 0.143367, 0.179104, 0.163366, 0.087629, 508, 3, 35, 51"
       ]
      },
      {
       "output_type": "stream",
       "stream": "stdout",
       "text": [
        "\n",
        "3, 3, 0.138022, 0.167464, 0.179245, 0.067358, 520, 8, 42, 44"
       ]
      },
      {
       "output_type": "stream",
       "stream": "stdout",
       "text": [
        "\n",
        "3, 4, 0.141700, 0.169154, 0.168317, 0.087629, 503, 9, 40, 45"
       ]
      },
      {
       "output_type": "stream",
       "stream": "stdout",
       "text": [
        "\n",
        "3, 5, 0.146526, 0.172249, 0.179245, 0.088083, 513, 10, 49, 42"
       ]
      },
      {
       "output_type": "stream",
       "stream": "stdout",
       "text": [
        "\n",
        "3, 6, 0.139701, 0.170854, 0.140000, 0.108247, 500, 10, 39, 44"
       ]
      },
      {
       "output_type": "stream",
       "stream": "stdout",
       "text": [
        "\n",
        "3, 7, 0.128730, 0.194175, 0.129187, 0.062827, 518, 9, 36, 43"
       ]
      },
      {
       "output_type": "stream",
       "stream": "stdout",
       "text": [
        "\n",
        "3, 8, 0.116482, 0.180905, 0.080000, 0.088542, 507, 15, 29, 40"
       ]
      },
      {
       "output_type": "stream",
       "stream": "stdout",
       "text": [
        "\n",
        "3, 9, 0.122246, 0.203883, 0.105263, 0.057592, 519, 12, 35, 40"
       ]
      },
      {
       "output_type": "stream",
       "stream": "stdout",
       "text": [
        "\n",
        "3, 10, 0.126152, 0.190955, 0.125000, 0.062500, 500, 16, 36, 39"
       ]
      },
      {
       "output_type": "stream",
       "stream": "stdout",
       "text": [
        "\n",
        "3, 11, 0.121943, 0.203883, 0.119617, 0.042328, 520, 9, 34, 41"
       ]
      },
      {
       "output_type": "stream",
       "stream": "stdout",
       "text": [
        "\n",
        "4, 0, 0.144003, 0.180617, 0.174468, 0.076923, 579, 5, 44, 55"
       ]
      },
      {
       "output_type": "stream",
       "stream": "stdout",
       "text": [
        "\n",
        "4, 1, 0.144957, 0.185345, 0.181034, 0.068493, 580, 3, 46, 54"
       ]
      },
      {
       "output_type": "stream",
       "stream": "stdout",
       "text": [
        "\n",
        "4, 2, 0.142415, 0.189427, 0.174468, 0.063348, 582, 3, 41, 57"
       ]
      },
      {
       "output_type": "stream",
       "stream": "stdout",
       "text": [
        "\n",
        "4, 3, 0.140732, 0.168103, 0.181034, 0.073059, 580, 6, 46, 51"
       ]
      },
      {
       "output_type": "stream",
       "stream": "stdout",
       "text": [
        "\n",
        "4, 4, 0.143063, 0.167401, 0.153191, 0.108597, 573, 12, 50, 48"
       ]
      },
      {
       "output_type": "stream",
       "stream": "stdout",
       "text": [
        "\n",
        "4, 5, 0.126365, 0.163793, 0.142241, 0.073059, 585, 11, 41, 46"
       ]
      },
      {
       "output_type": "stream",
       "stream": "stdout",
       "text": [
        "\n",
        "4, 6, 0.131367, 0.191964, 0.120690, 0.081448, 574, 14, 43, 46"
       ]
      },
      {
       "output_type": "stream",
       "stream": "stdout",
       "text": [
        "\n",
        "4, 7, 0.129140, 0.192140, 0.135371, 0.059908, 578, 9, 39, 49"
       ]
      },
      {
       "output_type": "stream",
       "stream": "stdout",
       "text": [
        "\n",
        "4, 8, 0.130247, 0.205357, 0.107759, 0.077626, 571, 16, 43, 45"
       ]
      },
      {
       "output_type": "stream",
       "stream": "stdout",
       "text": [
        "\n",
        "4, 9, 0.126067, 0.209607, 0.117904, 0.050691, 577, 12, 40, 46"
       ]
      },
      {
       "output_type": "stream",
       "stream": "stdout",
       "text": [
        "\n",
        "4, 10, 0.124278, 0.200893, 0.103448, 0.068493, 576, 15, 38, 46"
       ]
      },
      {
       "output_type": "stream",
       "stream": "stdout",
       "text": [
        "\n",
        "4, 11, 0.109885, 0.192140, 0.104803, 0.032710, 586, 11, 31, 44"
       ]
      },
      {
       "output_type": "stream",
       "stream": "stdout",
       "text": [
        "\n",
        "5, 0, 0.128995, 0.179592, 0.153226, 0.054167, 633, 5, 37, 58"
       ]
      },
      {
       "output_type": "stream",
       "stream": "stdout",
       "text": [
        "\n",
        "5, 1, 0.125638, 0.192000, 0.155378, 0.029536, 636, 8, 41, 53"
       ]
      },
      {
       "output_type": "stream",
       "stream": "stdout",
       "text": [
        "\n",
        "5, 2, 0.134555, 0.191837, 0.145161, 0.066667, 630, 4, 40, 59"
       ]
      },
      {
       "output_type": "stream",
       "stream": "stdout",
       "text": [
        "\n",
        "5, 3, 0.135373, 0.168000, 0.183267, 0.054852, 626, 11, 51, 50"
       ]
      },
      {
       "output_type": "stream",
       "stream": "stdout",
       "text": [
        "\n",
        "5, 4, 0.135996, 0.171429, 0.153226, 0.083333, 624, 9, 46, 54"
       ]
      },
      {
       "output_type": "stream",
       "stream": "stdout",
       "text": [
        "\n",
        "5, 5, 0.137333, 0.176707, 0.172000, 0.063291, 621, 13, 54, 48"
       ]
      },
      {
       "output_type": "stream",
       "stream": "stdout",
       "text": [
        "\n",
        "5, 6, 0.137512, 0.214876, 0.126531, 0.071130, 618, 8, 45, 55"
       ]
      },
      {
       "output_type": "stream",
       "stream": "stdout",
       "text": [
        "\n",
        "5, 7, 0.138621, 0.207317, 0.153226, 0.055319, 612, 15, 54, 48"
       ]
      },
      {
       "output_type": "stream",
       "stream": "stdout",
       "text": [
        "\n",
        "5, 8, 0.122469, 0.210744, 0.102041, 0.054622, 618, 18, 42, 47"
       ]
      },
      {
       "output_type": "stream",
       "stream": "stdout",
       "text": [
        "\n",
        "5, 9, 0.141416, 0.219512, 0.145161, 0.059574, 614, 11, 52, 52"
       ]
      },
      {
       "output_type": "stream",
       "stream": "stdout",
       "text": [
        "\n",
        "5, 10, 0.126581, 0.210744, 0.118367, 0.050633, 622, 10, 38, 54"
       ]
      },
      {
       "output_type": "stream",
       "stream": "stdout",
       "text": [
        "\n",
        "5, 11, 0.133521, 0.227642, 0.125506, 0.047414, 617, 10, 49, 49"
       ]
      },
      {
       "output_type": "stream",
       "stream": "stdout",
       "text": [
        "\n",
        "6, 0, 0.129577, 0.196911, 0.147287, 0.044534, 657, 7, 41, 59"
       ]
      },
      {
       "output_type": "stream",
       "stream": "stdout",
       "text": [
        "\n",
        "6, 1, 0.124179, 0.196911, 0.147287, 0.028340, 662, 6, 39, 57"
       ]
      },
      {
       "output_type": "stream",
       "stream": "stdout",
       "text": [
        "\n",
        "6, 2, 0.178831, 0.297297, 0.174419, 0.064777, 610, 16, 88, 50"
       ]
      },
      {
       "output_type": "stream",
       "stream": "stdout",
       "text": [
        "\n",
        "6, 3, 0.174913, 0.285714, 0.178295, 0.060729, 613, 16, 88, 47"
       ]
      },
      {
       "output_type": "stream",
       "stream": "stdout",
       "text": [
        "\n",
        "6, 4, 0.142838, 0.236434, 0.155642, 0.036437, 640, 12, 56, 54"
       ]
      },
      {
       "output_type": "stream",
       "stream": "stdout",
       "text": [
        "\n",
        "6, 5, 0.137757, 0.236434, 0.136187, 0.040650, 640, 15, 58, 48"
       ]
      },
      {
       "output_type": "stream",
       "stream": "stdout",
       "text": [
        "\n",
        "6, 6, 0.128583, 0.207843, 0.137255, 0.040650, 640, 18, 49, 49"
       ]
      },
      {
       "output_type": "stream",
       "stream": "stdout",
       "text": [
        "\n",
        "6, 7, 0.132773, 0.215686, 0.125490, 0.057143, 639, 15, 50, 51"
       ]
      },
      {
       "output_type": "stream",
       "stream": "stdout",
       "text": [
        "\n",
        "6, 8, 0.132560, 0.247059, 0.109804, 0.040816, 635, 19, 51, 50"
       ]
      },
      {
       "output_type": "stream",
       "stream": "stdout",
       "text": [
        "\n",
        "6, 9, 0.143250, 0.250980, 0.125490, 0.053279, 632, 13, 57, 52"
       ]
      },
      {
       "output_type": "stream",
       "stream": "stdout",
       "text": [
        "\n",
        "6, 10, 0.124960, 0.231373, 0.098425, 0.045082, 634, 24, 52, 43"
       ]
      },
      {
       "output_type": "stream",
       "stream": "stdout",
       "text": [
        "\n",
        "6, 11, 0.124919, 0.243137, 0.098425, 0.033195, 637, 18, 52, 43"
       ]
      },
      {
       "output_type": "stream",
       "stream": "stdout",
       "text": [
        "\n",
        "7, 0, 0.125446, 0.193050, 0.147287, 0.036000, 662, 8, 39, 58"
       ]
      },
      {
       "output_type": "stream",
       "stream": "stdout",
       "text": [
        "\n",
        "7, 1, 0.261074, 0.426923, 0.328185, 0.028112, 539, 26, 166, 37"
       ]
      },
      {
       "output_type": "stream",
       "stream": "stdout",
       "text": [
        "\n",
        "7, 2, 0.173368, 0.293436, 0.166667, 0.060000, 618, 15, 83, 51"
       ]
      },
      {
       "output_type": "stream",
       "stream": "stdout",
       "text": [
        "\n",
        "7, 3, 0.182430, 0.305019, 0.186047, 0.056225, 608, 17, 95, 46"
       ]
      },
      {
       "output_type": "stream",
       "stream": "stdout",
       "text": [
        "\n",
        "7, 4, 0.145376, 0.236434, 0.159533, 0.040161, 641, 11, 57, 55"
       ]
      },
      {
       "output_type": "stream",
       "stream": "stdout",
       "text": [
        "\n",
        "7, 5, 0.137705, 0.228682, 0.140078, 0.044355, 643, 14, 57, 49"
       ]
      },
      {
       "output_type": "stream",
       "stream": "stdout",
       "text": [
        "\n",
        "7, 6, 0.131199, 0.203922, 0.137255, 0.052419, 639, 19, 52, 48"
       ]
      },
      {
       "output_type": "stream",
       "stream": "stdout",
       "text": [
        "\n",
        "7, 7, 0.138732, 0.238281, 0.117188, 0.060729, 637, 16, 55, 51"
       ]
      },
      {
       "output_type": "stream",
       "stream": "stdout",
       "text": [
        "\n",
        "7, 8, 0.133799, 0.247059, 0.109804, 0.044534, 636, 19, 52, 50"
       ]
      },
      {
       "output_type": "stream",
       "stream": "stdout",
       "text": [
        "\n",
        "7, 9, 0.137560, 0.242188, 0.117647, 0.052846, 635, 17, 57, 48"
       ]
      },
      {
       "output_type": "stream",
       "stream": "stdout",
       "text": [
        "\n",
        "7, 10, 0.123525, 0.231373, 0.094488, 0.044715, 636, 25, 52, 42"
       ]
      },
      {
       "output_type": "stream",
       "stream": "stdout",
       "text": [
        "\n",
        "7, 11, 0.127515, 0.243137, 0.098425, 0.040984, 638, 18, 54, 43"
       ]
      },
      {
       "output_type": "stream",
       "stream": "stdout",
       "text": [
        "\n",
        "<< subject LA_022 >>\n",
        "3, 0, 0.357312, 0.387255, 0.354680, 0.330000, 35, 355, 113, 104"
       ]
      },
      {
       "output_type": "stream",
       "stream": "stdout",
       "text": [
        "\n",
        "3, 1, 0.309149, 0.331754, 0.314286, 0.281407, 40, 388, 108, 84"
       ]
      },
      {
       "output_type": "stream",
       "stream": "stdout",
       "text": [
        "\n",
        "3, 2, 0.352402, 0.392157, 0.330049, 0.335000, 33, 360, 115, 99"
       ]
      },
      {
       "output_type": "stream",
       "stream": "stdout",
       "text": [
        "\n",
        "3, 3, 0.335077, 0.383886, 0.304762, 0.316583, 38, 374, 110, 98"
       ]
      },
      {
       "output_type": "stream",
       "stream": "stdout",
       "text": [
        "\n",
        "3, 4, 0.340719, 0.401961, 0.320197, 0.300000, 49, 351, 99, 108"
       ]
      },
      {
       "output_type": "stream",
       "stream": "stdout",
       "text": [
        "\n",
        "3, 5, 0.343768, 0.350711, 0.323810, 0.356784, 54, 353, 94, 119"
       ]
      },
      {
       "output_type": "stream",
       "stream": "stdout",
       "text": [
        "\n",
        "3, 6, 0.353165, 0.376238, 0.348259, 0.335000, 58, 332, 90, 123"
       ]
      },
      {
       "output_type": "stream",
       "stream": "stdout",
       "text": [
        "\n",
        "3, 7, 0.355994, 0.379808, 0.342995, 0.345178, 51, 343, 97, 121"
       ]
      },
      {
       "output_type": "stream",
       "stream": "stdout",
       "text": [
        "\n",
        "3, 8, 0.351583, 0.376238, 0.333333, 0.345178, 59, 330, 89, 122"
       ]
      },
      {
       "output_type": "stream",
       "stream": "stdout",
       "text": [
        "\n",
        "3, 9, 0.336016, 0.379808, 0.323671, 0.304569, 44, 362, 104, 102"
       ]
      },
      {
       "output_type": "stream",
       "stream": "stdout",
       "text": [
        "\n",
        "3, 10, 0.366769, 0.381188, 0.333333, 0.385787, 33, 347, 115, 105"
       ]
      },
      {
       "output_type": "stream",
       "stream": "stdout",
       "text": [
        "\n",
        "3, 11, 0.334764, 0.360577, 0.318841, 0.324873, 28, 379, 120, 85"
       ]
      },
      {
       "output_type": "stream",
       "stream": "stdout",
       "text": [
        "\n",
        "4, 0, 0.358615, 0.405063, 0.343348, 0.327434, 40, 406, 128, 122"
       ]
      },
      {
       "output_type": "stream",
       "stream": "stdout",
       "text": [
        "\n",
        "4, 1, 0.334652, 0.377119, 0.329060, 0.297778, 36, 426, 134, 99"
       ]
      },
      {
       "output_type": "stream",
       "stream": "stdout",
       "text": [
        "\n",
        "4, 2, 0.342955, 0.383966, 0.321888, 0.323009, 43, 414, 125, 114"
       ]
      },
      {
       "output_type": "stream",
       "stream": "stdout",
       "text": [
        "\n",
        "4, 3, 0.345185, 0.360169, 0.337607, 0.337778, 45, 410, 125, 115"
       ]
      },
      {
       "output_type": "stream",
       "stream": "stdout",
       "text": [
        "\n",
        "4, 4, 0.342729, 0.392405, 0.330472, 0.305310, 51, 406, 117, 122"
       ]
      },
      {
       "output_type": "stream",
       "stream": "stdout",
       "text": [
        "\n",
        "4, 5, 0.349329, 0.385593, 0.329060, 0.333333, 61, 391, 109, 134"
       ]
      },
      {
       "output_type": "stream",
       "stream": "stdout",
       "text": [
        "\n",
        "4, 6, 0.349422, 0.341880, 0.339130, 0.367257, 71, 378, 97, 144"
       ]
      },
      {
       "output_type": "stream",
       "stream": "stdout",
       "text": [
        "\n",
        "4, 7, 0.340596, 0.381974, 0.329004, 0.310811, 70, 382, 100, 134"
       ]
      },
      {
       "output_type": "stream",
       "stream": "stdout",
       "text": [
        "\n",
        "4, 8, 0.347799, 0.358974, 0.339130, 0.345291, 57, 391, 111, 128"
       ]
      },
      {
       "output_type": "stream",
       "stream": "stdout",
       "text": [
        "\n",
        "4, 9, 0.353793, 0.390558, 0.341991, 0.328829, 44, 399, 126, 117"
       ]
      },
      {
       "output_type": "stream",
       "stream": "stdout",
       "text": [
        "\n",
        "4, 10, 0.337654, 0.358974, 0.308696, 0.345291, 37, 418, 131, 101"
       ]
      },
      {
       "output_type": "stream",
       "stream": "stdout",
       "text": [
        "\n",
        "4, 11, 0.358423, 0.407725, 0.311688, 0.355856, 31, 409, 139, 107"
       ]
      },
      {
       "output_type": "stream",
       "stream": "stdout",
       "text": [
        "\n",
        "5, 0, 0.339159, 0.400810, 0.317073, 0.299595, 43, 446, 134, 117"
       ]
      },
      {
       "output_type": "stream",
       "stream": "stdout",
       "text": [
        "\n",
        "5, 1, 0.331815, 0.362205, 0.312253, 0.320988, 41, 460, 139, 110"
       ]
      },
      {
       "output_type": "stream",
       "stream": "stdout",
       "text": [
        "\n",
        "5, 2, 0.341831, 0.388664, 0.296748, 0.340081, 40, 447, 137, 116"
       ]
      },
      {
       "output_type": "stream",
       "stream": "stdout",
       "text": [
        "\n",
        "5, 3, 0.346173, 0.381890, 0.343874, 0.312757, 57, 433, 123, 137"
       ]
      },
      {
       "output_type": "stream",
       "stream": "stdout",
       "text": [
        "\n",
        "5, 4, 0.329724, 0.368421, 0.325203, 0.295547, 56, 440, 121, 123"
       ]
      },
      {
       "output_type": "stream",
       "stream": "stdout",
       "text": [
        "\n",
        "5, 5, 0.347784, 0.371542, 0.305556, 0.366255, 71, 417, 109, 151"
       ]
      },
      {
       "output_type": "stream",
       "stream": "stdout",
       "text": [
        "\n",
        "5, 6, 0.339658, 0.352459, 0.320988, 0.345528, 77, 407, 100, 149"
       ]
      },
      {
       "output_type": "stream",
       "stream": "stdout",
       "text": [
        "\n",
        "5, 7, 0.339773, 0.378486, 0.320000, 0.320833, 66, 423, 115, 137"
       ]
      },
      {
       "output_type": "stream",
       "stream": "stdout",
       "text": [
        "\n",
        "5, 8, 0.326025, 0.327869, 0.329218, 0.320988, 64, 428, 113, 125"
       ]
      },
      {
       "output_type": "stream",
       "stream": "stdout",
       "text": [
        "\n",
        "5, 9, 0.347792, 0.406375, 0.312000, 0.325000, 49, 434, 132, 126"
       ]
      },
      {
       "output_type": "stream",
       "stream": "stdout",
       "text": [
        "\n",
        "5, 10, 0.323281, 0.327869, 0.337449, 0.304527, 46, 448, 131, 105"
       ]
      },
      {
       "output_type": "stream",
       "stream": "stdout",
       "text": [
        "\n",
        "5, 11, 0.338319, 0.388000, 0.281124, 0.345833, 39, 450, 141, 109"
       ]
      },
      {
       "output_type": "stream",
       "stream": "stdout",
       "text": [
        "\n",
        "6, 0, 0.364588, 0.395349, 0.320463, 0.377953, 56, 434, 124, 157"
       ]
      },
      {
       "output_type": "stream",
       "stream": "stdout",
       "text": [
        "\n",
        "6, 1, 0.350349, 0.389105, 0.301158, 0.360784, 30, 471, 157, 113"
       ]
      },
      {
       "output_type": "stream",
       "stream": "stdout",
       "text": [
        "\n",
        "6, 2, 0.381705, 0.379845, 0.324324, 0.440945, 44, 433, 136, 158"
       ]
      },
      {
       "output_type": "stream",
       "stream": "stdout",
       "text": [
        "\n",
        "6, 3, 0.351848, 0.377432, 0.270270, 0.407843, 51, 449, 136, 135"
       ]
      },
      {
       "output_type": "stream",
       "stream": "stdout",
       "text": [
        "\n",
        "6, 4, 0.325576, 0.357977, 0.209302, 0.409449, 53, 466, 127, 123"
       ]
      },
      {
       "output_type": "stream",
       "stream": "stdout",
       "text": [
        "\n",
        "6, 5, 0.393408, 0.367188, 0.372093, 0.440945, 78, 388, 109, 193"
       ]
      },
      {
       "output_type": "stream",
       "stream": "stdout",
       "text": [
        "\n",
        "6, 6, 0.345429, 0.388235, 0.347656, 0.300395, 62, 438, 119, 145"
       ]
      },
      {
       "output_type": "stream",
       "stream": "stdout",
       "text": [
        "\n",
        "6, 7, 0.382089, 0.425197, 0.402344, 0.318725, 60, 410, 128, 163"
       ]
      },
      {
       "output_type": "stream",
       "stream": "stdout",
       "text": [
        "\n",
        "6, 8, 0.391043, 0.352941, 0.492188, 0.328000, 83, 380, 98, 200"
       ]
      },
      {
       "output_type": "stream",
       "stream": "stdout",
       "text": [
        "\n",
        "6, 9, 0.408225, 0.381890, 0.492188, 0.350598, 76, 374, 112, 199"
       ]
      },
      {
       "output_type": "stream",
       "stream": "stdout",
       "text": [
        "\n",
        "6, 10, 0.278168, 0.318898, 0.219608, 0.296000, 57, 491, 123, 88"
       ]
      },
      {
       "output_type": "stream",
       "stream": "stdout",
       "text": [
        "\n",
        "6, 11, 0.330961, 0.391304, 0.250980, 0.350598, 43, 465, 144, 107"
       ]
      },
      {
       "output_type": "stream",
       "stream": "stdout",
       "text": [
        "\n",
        "7, 0, 0.357199, 0.395349, 0.293436, 0.382812, 47, 450, 133, 143"
       ]
      },
      {
       "output_type": "stream",
       "stream": "stdout",
       "text": [
        "\n",
        "7, 1, 0.365021, 0.387597, 0.319231, 0.388235, 25, 466, 162, 120"
       ]
      },
      {
       "output_type": "stream",
       "stream": "stdout",
       "text": [
        "\n",
        "7, 2, 0.377942, 0.372093, 0.332046, 0.429688, 43, 438, 137, 155"
       ]
      },
      {
       "output_type": "stream",
       "stream": "stdout",
       "text": [
        "\n",
        "7, 3, 0.351848, 0.377432, 0.270270, 0.407843, 51, 449, 136, 135"
       ]
      },
      {
       "output_type": "stream",
       "stream": "stdout",
       "text": [
        "\n",
        "7, 4, 0.314659, 0.334630, 0.205426, 0.403922, 52, 476, 128, 114"
       ]
      },
      {
       "output_type": "stream",
       "stream": "stdout",
       "text": [
        "\n",
        "7, 5, 0.393408, 0.367188, 0.372093, 0.440945, 78, 388, 109, 193"
       ]
      },
      {
       "output_type": "stream",
       "stream": "stdout",
       "text": [
        "\n",
        "7, 6, 0.347654, 0.376471, 0.355469, 0.311024, 60, 439, 121, 145"
       ]
      },
      {
       "output_type": "stream",
       "stream": "stdout",
       "text": [
        "\n",
        "7, 7, 0.392904, 0.352941, 0.455253, 0.370518, 92, 371, 97, 203"
       ]
      },
      {
       "output_type": "stream",
       "stream": "stdout",
       "text": [
        "\n",
        "7, 8, 0.395399, 0.364706, 0.496094, 0.325397, 71, 390, 110, 192"
       ]
      },
      {
       "output_type": "stream",
       "stream": "stdout",
       "text": [
        "\n",
        "7, 9, 0.408225, 0.381890, 0.492188, 0.350598, 76, 374, 112, 199"
       ]
      },
      {
       "output_type": "stream",
       "stream": "stdout",
       "text": [
        "\n",
        "7, 10, 0.301112, 0.326772, 0.235294, 0.341270, 53, 479, 127, 102"
       ]
      },
      {
       "output_type": "stream",
       "stream": "stdout",
       "text": [
        "\n",
        "7, 11, 0.330961, 0.391304, 0.250980, 0.350598, 43, 465, 144, 107"
       ]
      },
      {
       "output_type": "stream",
       "stream": "stdout",
       "text": [
        "\n",
        "<< subject LA_023 >>\n",
        "3, 0, 0.292236, 0.258706, 0.308824, 0.309179, 21, 412, 78, 101"
       ]
      },
      {
       "output_type": "stream",
       "stream": "stdout",
       "text": [
        "\n",
        "3, 1, 0.302535, 0.285714, 0.333333, 0.288557, 24, 409, 86, 102"
       ]
      },
      {
       "output_type": "stream",
       "stream": "stdout",
       "text": [
        "\n",
        "3, 2, 0.263038, 0.263682, 0.254902, 0.270531, 22, 429, 77, 84"
       ]
      },
      {
       "output_type": "stream",
       "stream": "stdout",
       "text": [
        "\n",
        "3, 3, 0.262497, 0.242857, 0.280952, 0.263682, 28, 430, 82, 81"
       ]
      },
      {
       "output_type": "stream",
       "stream": "stdout",
       "text": [
        "\n",
        "3, 4, 0.249939, 0.233831, 0.269608, 0.246377, 34, 425, 65, 88"
       ]
      },
      {
       "output_type": "stream",
       "stream": "stdout",
       "text": [
        "\n",
        "3, 5, 0.252902, 0.242857, 0.257143, 0.258706, 35, 429, 75, 82"
       ]
      },
      {
       "output_type": "stream",
       "stream": "stdout",
       "text": [
        "\n",
        "3, 6, 0.241691, 0.216080, 0.272277, 0.236715, 33, 428, 64, 83"
       ]
      },
      {
       "output_type": "stream",
       "stream": "stdout",
       "text": [
        "\n",
        "3, 7, 0.260756, 0.236715, 0.304348, 0.241206, 27, 426, 80, 80"
       ]
      },
      {
       "output_type": "stream",
       "stream": "stdout",
       "text": [
        "\n",
        "3, 8, 0.267665, 0.251256, 0.277228, 0.274510, 17, 426, 80, 82"
       ]
      },
      {
       "output_type": "stream",
       "stream": "stdout",
       "text": [
        "\n",
        "3, 9, 0.268808, 0.222222, 0.342995, 0.241206, 19, 429, 88, 77"
       ]
      },
      {
       "output_type": "stream",
       "stream": "stdout",
       "text": [
        "\n",
        "3, 10, 0.272671, 0.246231, 0.321782, 0.250000, 12, 428, 85, 80"
       ]
      },
      {
       "output_type": "stream",
       "stream": "stdout",
       "text": [
        "\n",
        "3, 11, 0.327038, 0.294686, 0.425121, 0.261307, 13, 399, 94, 107"
       ]
      },
      {
       "output_type": "stream",
       "stream": "stdout",
       "text": [
        "\n",
        "4, 0, 0.284148, 0.254386, 0.289362, 0.308696, 25, 471, 89, 108"
       ]
      },
      {
       "output_type": "stream",
       "stream": "stdout",
       "text": [
        "\n",
        "4, 1, 0.297414, 0.297414, 0.310345, 0.284483, 26, 463, 95, 112"
       ]
      },
      {
       "output_type": "stream",
       "stream": "stdout",
       "text": [
        "\n",
        "4, 2, 0.266787, 0.254386, 0.285106, 0.260870, 29, 479, 85, 100"
       ]
      },
      {
       "output_type": "stream",
       "stream": "stdout",
       "text": [
        "\n",
        "4, 3, 0.255747, 0.237069, 0.271552, 0.258621, 36, 482, 85, 93"
       ]
      },
      {
       "output_type": "stream",
       "stream": "stdout",
       "text": [
        "\n",
        "4, 4, 0.255298, 0.258772, 0.272340, 0.234783, 36, 480, 78, 99"
       ]
      },
      {
       "output_type": "stream",
       "stream": "stdout",
       "text": [
        "\n",
        "4, 5, 0.271552, 0.258621, 0.284483, 0.271552, 40, 467, 81, 108"
       ]
      },
      {
       "output_type": "stream",
       "stream": "stdout",
       "text": [
        "\n",
        "4, 6, 0.248694, 0.226667, 0.267241, 0.252174, 29, 487, 82, 89"
       ]
      },
      {
       "output_type": "stream",
       "stream": "stdout",
       "text": [
        "\n",
        "4, 7, 0.266376, 0.222707, 0.275109, 0.301310, 28, 476, 90, 93"
       ]
      },
      {
       "output_type": "stream",
       "stream": "stdout",
       "text": [
        "\n",
        "4, 8, 0.271072, 0.235556, 0.323276, 0.254386, 15, 484, 96, 90"
       ]
      },
      {
       "output_type": "stream",
       "stream": "stdout",
       "text": [
        "\n",
        "4, 9, 0.262009, 0.227074, 0.310044, 0.248908, 22, 485, 96, 84"
       ]
      },
      {
       "output_type": "stream",
       "stream": "stdout",
       "text": [
        "\n",
        "4, 10, 0.272230, 0.217778, 0.362069, 0.236842, 15, 483, 96, 91"
       ]
      },
      {
       "output_type": "stream",
       "stream": "stdout",
       "text": [
        "\n",
        "4, 11, 0.317322, 0.301310, 0.414847, 0.235808, 19, 450, 99, 119"
       ]
      },
      {
       "output_type": "stream",
       "stream": "stdout",
       "text": [
        "\n",
        "5, 0, 0.290555, 0.261224, 0.325301, 0.285141, 28, 499, 95, 121"
       ]
      },
      {
       "output_type": "stream",
       "stream": "stdout",
       "text": [
        "\n",
        "5, 1, 0.280927, 0.250996, 0.322709, 0.269076, 25, 515, 107, 104"
       ]
      },
      {
       "output_type": "stream",
       "stream": "stdout",
       "text": [
        "\n",
        "5, 2, 0.261170, 0.273469, 0.269076, 0.240964, 40, 509, 83, 111"
       ]
      },
      {
       "output_type": "stream",
       "stream": "stdout",
       "text": [
        "\n",
        "5, 3, 0.282245, 0.243028, 0.338645, 0.265060, 34, 505, 98, 114"
       ]
      },
      {
       "output_type": "stream",
       "stream": "stdout",
       "text": [
        "\n",
        "5, 4, 0.261148, 0.269388, 0.269076, 0.244980, 40, 509, 83, 111"
       ]
      },
      {
       "output_type": "stream",
       "stream": "stdout",
       "text": [
        "\n",
        "5, 5, 0.297714, 0.256000, 0.352000, 0.285141, 31, 495, 100, 123"
       ]
      },
      {
       "output_type": "stream",
       "stream": "stdout",
       "text": [
        "\n",
        "5, 6, 0.267494, 0.243802, 0.276423, 0.282258, 29, 510, 91, 106"
       ]
      },
      {
       "output_type": "stream",
       "stream": "stdout",
       "text": [
        "\n",
        "5, 7, 0.276207, 0.230769, 0.330645, 0.267206, 23, 514, 105, 100"
       ]
      },
      {
       "output_type": "stream",
       "stream": "stdout",
       "text": [
        "\n",
        "5, 8, 0.273590, 0.227273, 0.329268, 0.264228, 22, 511, 98, 103"
       ]
      },
      {
       "output_type": "stream",
       "stream": "stdout",
       "text": [
        "\n",
        "5, 9, 0.297734, 0.255061, 0.379032, 0.259109, 18, 503, 110, 111"
       ]
      },
      {
       "output_type": "stream",
       "stream": "stdout",
       "text": [
        "\n",
        "5, 10, 0.288629, 0.252066, 0.398374, 0.215447, 22, 500, 98, 114"
       ]
      },
      {
       "output_type": "stream",
       "stream": "stdout",
       "text": [
        "\n",
        "5, 11, 0.295848, 0.275304, 0.388664, 0.223577, 20, 501, 108, 111"
       ]
      },
      {
       "output_type": "stream",
       "stream": "stdout",
       "text": [
        "\n",
        "6, 0, 0.265175, 0.247104, 0.302326, 0.246094, 11, 557, 116, 89"
       ]
      },
      {
       "output_type": "stream",
       "stream": "stdout",
       "text": [
        "\n",
        "6, 1, 0.289363, 0.289575, 0.321705, 0.256809, 27, 523, 112, 112"
       ]
      },
      {
       "output_type": "stream",
       "stream": "stdout",
       "text": [
        "\n",
        "6, 2, 0.295851, 0.386100, 0.313953, 0.187500, 37, 507, 90, 139"
       ]
      },
      {
       "output_type": "stream",
       "stream": "stdout",
       "text": [
        "\n",
        "6, 3, 0.227352, 0.223938, 0.263566, 0.194553, 3, 595, 136, 40"
       ]
      },
      {
       "output_type": "stream",
       "stream": "stdout",
       "text": [
        "\n",
        "6, 4, 0.236105, 0.209302, 0.252918, 0.246094, 25, 564, 101, 81"
       ]
      },
      {
       "output_type": "stream",
       "stream": "stdout",
       "text": [
        "\n",
        "6, 5, 0.252971, 0.232558, 0.252918, 0.273438, 24, 552, 114, 81"
       ]
      },
      {
       "output_type": "stream",
       "stream": "stdout",
       "text": [
        "\n",
        "6, 6, 0.241830, 0.215686, 0.309804, 0.200000, 23, 557, 100, 85"
       ]
      },
      {
       "output_type": "stream",
       "stream": "stdout",
       "text": [
        "\n",
        "6, 7, 0.273542, 0.215686, 0.345098, 0.259843, 25, 530, 110, 99"
       ]
      },
      {
       "output_type": "stream",
       "stream": "stdout",
       "text": [
        "\n",
        "6, 8, 0.260450, 0.294118, 0.243137, 0.244094, 22, 543, 101, 98"
       ]
      },
      {
       "output_type": "stream",
       "stream": "stdout",
       "text": [
        "\n",
        "6, 9, 0.300988, 0.345098, 0.301961, 0.255906, 27, 507, 108, 122"
       ]
      },
      {
       "output_type": "stream",
       "stream": "stdout",
       "text": [
        "\n",
        "6, 10, 0.301525, 0.435294, 0.271654, 0.197628, 39, 493, 84, 146"
       ]
      },
      {
       "output_type": "stream",
       "stream": "stdout",
       "text": [
        "\n",
        "6, 11, 0.325209, 0.411765, 0.342520, 0.221344, 41, 473, 94, 154"
       ]
      },
      {
       "output_type": "stream",
       "stream": "stdout",
       "text": [
        "\n",
        "7, 0, 0.260984, 0.239382, 0.302326, 0.241245, 18, 554, 109, 93"
       ]
      },
      {
       "output_type": "stream",
       "stream": "stdout",
       "text": [
        "\n",
        "7, 1, 0.278133, 0.342308, 0.266409, 0.225681, 23, 537, 117, 99"
       ]
      },
      {
       "output_type": "stream",
       "stream": "stdout",
       "text": [
        "\n",
        "7, 2, 0.222184, 0.204633, 0.286822, 0.175097, 11, 591, 116, 56"
       ]
      },
      {
       "output_type": "stream",
       "stream": "stdout",
       "text": [
        "\n",
        "7, 3, 0.227352, 0.223938, 0.263566, 0.194553, 3, 595, 136, 40"
       ]
      },
      {
       "output_type": "stream",
       "stream": "stdout",
       "text": [
        "\n",
        "7, 4, 0.236105, 0.209302, 0.252918, 0.246094, 25, 564, 101, 81"
       ]
      },
      {
       "output_type": "stream",
       "stream": "stdout",
       "text": [
        "\n",
        "7, 5, 0.252971, 0.232558, 0.252918, 0.273438, 24, 552, 114, 81"
       ]
      },
      {
       "output_type": "stream",
       "stream": "stdout",
       "text": [
        "\n",
        "7, 6, 0.241830, 0.215686, 0.309804, 0.200000, 23, 557, 100, 85"
       ]
      },
      {
       "output_type": "stream",
       "stream": "stdout",
       "text": [
        "\n",
        "7, 7, 0.267279, 0.281250, 0.250000, 0.270588, 27, 535, 109, 96"
       ]
      },
      {
       "output_type": "stream",
       "stream": "stdout",
       "text": [
        "\n",
        "7, 8, 0.260450, 0.294118, 0.243137, 0.244094, 22, 543, 101, 98"
       ]
      },
      {
       "output_type": "stream",
       "stream": "stdout",
       "text": [
        "\n",
        "7, 9, 0.318706, 0.429688, 0.286275, 0.240157, 36, 485, 100, 144"
       ]
      },
      {
       "output_type": "stream",
       "stream": "stdout",
       "text": [
        "\n",
        "7, 10, 0.301525, 0.435294, 0.271654, 0.197628, 39, 493, 84, 146"
       ]
      },
      {
       "output_type": "stream",
       "stream": "stdout",
       "text": [
        "\n",
        "7, 11, 0.325209, 0.411765, 0.342520, 0.221344, 41, 473, 94, 154"
       ]
      },
      {
       "output_type": "stream",
       "stream": "stdout",
       "text": [
        "\n"
       ]
      }
     ],
     "prompt_number": 27
    }
   ],
   "metadata": {}
  }
 ]
}